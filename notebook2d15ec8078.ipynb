{
 "cells": [
  {
   "cell_type": "code",
   "execution_count": 1,
   "id": "71871e59",
   "metadata": {
    "_cell_guid": "b1076dfc-b9ad-4769-8c92-a6c4dae69d19",
    "_uuid": "8f2839f25d086af736a60e9eeb907d3b93b6e0e5",
    "execution": {
     "iopub.execute_input": "2022-04-20T04:41:06.059504Z",
     "iopub.status.busy": "2022-04-20T04:41:06.058935Z",
     "iopub.status.idle": "2022-04-20T04:41:06.075535Z",
     "shell.execute_reply": "2022-04-20T04:41:06.074886Z"
    },
    "papermill": {
     "duration": 0.058864,
     "end_time": "2022-04-20T04:41:06.078397",
     "exception": false,
     "start_time": "2022-04-20T04:41:06.019533",
     "status": "completed"
    },
    "tags": []
   },
   "outputs": [
    {
     "name": "stdout",
     "output_type": "stream",
     "text": [
      "/kaggle/input/bank-dataset/Dataset bank .csv\n",
      "/kaggle/input/bank-dataset/DATA Emitten bank .csv\n"
     ]
    }
   ],
   "source": [
    "# This Python 3 environment comes with many helpful analytics libraries installed\n",
    "# It is defined by the kaggle/python Docker image: https://github.com/kaggle/docker-python\n",
    "# For example, here's several helpful packages to load\n",
    "\n",
    "import numpy as np # linear algebra\n",
    "import pandas as pd # data processing, CSV file I/O (e.g. pd.read_csv)\n",
    "\n",
    "# Input data files are available in the read-only \"../input/\" directory\n",
    "# For example, running this (by clicking run or pressing Shift+Enter) will list all files under the input directory\n",
    "\n",
    "import os\n",
    "for dirname, _, filenames in os.walk('/kaggle/input'):\n",
    "    for filename in filenames:\n",
    "        print(os.path.join(dirname, filename))\n",
    "\n",
    "# You can write up to 20GB to the current directory (/kaggle/working/) that gets preserved as output when you create a version using \"Save & Run All\" \n",
    "# You can also write temporary files to /kaggle/temp/, but they won't be saved outside of the current session"
   ]
  },
  {
   "cell_type": "code",
   "execution_count": 2,
   "id": "f54f67df",
   "metadata": {
    "execution": {
     "iopub.execute_input": "2022-04-20T04:41:06.156396Z",
     "iopub.status.busy": "2022-04-20T04:41:06.155904Z",
     "iopub.status.idle": "2022-04-20T04:41:07.414310Z",
     "shell.execute_reply": "2022-04-20T04:41:07.413477Z"
    },
    "papermill": {
     "duration": 1.299002,
     "end_time": "2022-04-20T04:41:07.416659",
     "exception": false,
     "start_time": "2022-04-20T04:41:06.117657",
     "status": "completed"
    },
    "tags": []
   },
   "outputs": [],
   "source": [
    "import pandas as pd \n",
    "import numpy as np\n",
    "import matplotlib.pyplot as plt\n",
    "import seaborn as sns\n",
    "from matplotlib.colors import ListedColormap\n",
    "%matplotlib inline\n",
    "from scipy import stats"
   ]
  },
  {
   "cell_type": "code",
   "execution_count": 3,
   "id": "a5184119",
   "metadata": {
    "execution": {
     "iopub.execute_input": "2022-04-20T04:41:07.492601Z",
     "iopub.status.busy": "2022-04-20T04:41:07.492333Z",
     "iopub.status.idle": "2022-04-20T04:41:07.528749Z",
     "shell.execute_reply": "2022-04-20T04:41:07.527876Z"
    },
    "papermill": {
     "duration": 0.077146,
     "end_time": "2022-04-20T04:41:07.531217",
     "exception": false,
     "start_time": "2022-04-20T04:41:07.454071",
     "status": "completed"
    },
    "tags": []
   },
   "outputs": [
    {
     "name": "stdout",
     "output_type": "stream",
     "text": [
      "<class 'pandas.core.frame.DataFrame'>\n",
      "RangeIndex: 20 entries, 0 to 19\n",
      "Data columns (total 6 columns):\n",
      " #   Column                   Non-Null Count  Dtype  \n",
      "---  ------                   --------------  -----  \n",
      " 0   Emitten                  20 non-null     object \n",
      " 1   DER                      20 non-null     float64\n",
      " 2   Operating Profit Margin  20 non-null     float64\n",
      " 3   ROA                      20 non-null     float64\n",
      " 4   Sales Growth             20 non-null     float64\n",
      " 5   Category                 0 non-null      float64\n",
      "dtypes: float64(5), object(1)\n",
      "memory usage: 1.1+ KB\n"
     ]
    }
   ],
   "source": [
    "df0 = pd.read_csv('../input/bank-dataset/Dataset bank .csv')\n",
    "df0.info()"
   ]
  },
  {
   "cell_type": "code",
   "execution_count": 4,
   "id": "2a6eaa07",
   "metadata": {
    "execution": {
     "iopub.execute_input": "2022-04-20T04:41:07.608770Z",
     "iopub.status.busy": "2022-04-20T04:41:07.608477Z",
     "iopub.status.idle": "2022-04-20T04:41:07.643840Z",
     "shell.execute_reply": "2022-04-20T04:41:07.643165Z"
    },
    "papermill": {
     "duration": 0.076985,
     "end_time": "2022-04-20T04:41:07.646180",
     "exception": false,
     "start_time": "2022-04-20T04:41:07.569195",
     "status": "completed"
    },
    "tags": []
   },
   "outputs": [
    {
     "data": {
      "text/html": [
       "<div>\n",
       "<style scoped>\n",
       "    .dataframe tbody tr th:only-of-type {\n",
       "        vertical-align: middle;\n",
       "    }\n",
       "\n",
       "    .dataframe tbody tr th {\n",
       "        vertical-align: top;\n",
       "    }\n",
       "\n",
       "    .dataframe thead th {\n",
       "        text-align: right;\n",
       "    }\n",
       "</style>\n",
       "<table border=\"1\" class=\"dataframe\">\n",
       "  <thead>\n",
       "    <tr style=\"text-align: right;\">\n",
       "      <th></th>\n",
       "      <th>DER</th>\n",
       "      <th>Operating Profit Margin</th>\n",
       "      <th>ROA</th>\n",
       "      <th>Sales Growth</th>\n",
       "      <th>Category</th>\n",
       "    </tr>\n",
       "  </thead>\n",
       "  <tbody>\n",
       "    <tr>\n",
       "      <th>count</th>\n",
       "      <td>20.000000</td>\n",
       "      <td>2.000000e+01</td>\n",
       "      <td>20.000000</td>\n",
       "      <td>20.000000</td>\n",
       "      <td>0.0</td>\n",
       "    </tr>\n",
       "    <tr>\n",
       "      <th>mean</th>\n",
       "      <td>45.523000</td>\n",
       "      <td>2.678984e+05</td>\n",
       "      <td>0.000500</td>\n",
       "      <td>0.919885</td>\n",
       "      <td>NaN</td>\n",
       "    </tr>\n",
       "    <tr>\n",
       "      <th>std</th>\n",
       "      <td>175.267747</td>\n",
       "      <td>1.196657e+06</td>\n",
       "      <td>0.029285</td>\n",
       "      <td>3.946276</td>\n",
       "      <td>NaN</td>\n",
       "    </tr>\n",
       "    <tr>\n",
       "      <th>min</th>\n",
       "      <td>0.490000</td>\n",
       "      <td>1.225807e-01</td>\n",
       "      <td>-0.090000</td>\n",
       "      <td>-9.000000</td>\n",
       "      <td>NaN</td>\n",
       "    </tr>\n",
       "    <tr>\n",
       "      <th>25%</th>\n",
       "      <td>4.312500</td>\n",
       "      <td>2.124689e+01</td>\n",
       "      <td>-0.012500</td>\n",
       "      <td>-1.730518</td>\n",
       "      <td>NaN</td>\n",
       "    </tr>\n",
       "    <tr>\n",
       "      <th>50%</th>\n",
       "      <td>5.280000</td>\n",
       "      <td>8.733276e+01</td>\n",
       "      <td>0.010000</td>\n",
       "      <td>1.255745</td>\n",
       "      <td>NaN</td>\n",
       "    </tr>\n",
       "    <tr>\n",
       "      <th>75%</th>\n",
       "      <td>8.822500</td>\n",
       "      <td>3.722246e+02</td>\n",
       "      <td>0.010000</td>\n",
       "      <td>4.245327</td>\n",
       "      <td>NaN</td>\n",
       "    </tr>\n",
       "    <tr>\n",
       "      <th>max</th>\n",
       "      <td>790.000000</td>\n",
       "      <td>5.351928e+06</td>\n",
       "      <td>0.040000</td>\n",
       "      <td>6.531747</td>\n",
       "      <td>NaN</td>\n",
       "    </tr>\n",
       "  </tbody>\n",
       "</table>\n",
       "</div>"
      ],
      "text/plain": [
       "              DER  Operating Profit Margin        ROA  Sales Growth  Category\n",
       "count   20.000000             2.000000e+01  20.000000     20.000000       0.0\n",
       "mean    45.523000             2.678984e+05   0.000500      0.919885       NaN\n",
       "std    175.267747             1.196657e+06   0.029285      3.946276       NaN\n",
       "min      0.490000             1.225807e-01  -0.090000     -9.000000       NaN\n",
       "25%      4.312500             2.124689e+01  -0.012500     -1.730518       NaN\n",
       "50%      5.280000             8.733276e+01   0.010000      1.255745       NaN\n",
       "75%      8.822500             3.722246e+02   0.010000      4.245327       NaN\n",
       "max    790.000000             5.351928e+06   0.040000      6.531747       NaN"
      ]
     },
     "execution_count": 4,
     "metadata": {},
     "output_type": "execute_result"
    }
   ],
   "source": [
    "df0.describe()"
   ]
  },
  {
   "cell_type": "code",
   "execution_count": 5,
   "id": "b2b7e7ea",
   "metadata": {
    "execution": {
     "iopub.execute_input": "2022-04-20T04:41:07.726696Z",
     "iopub.status.busy": "2022-04-20T04:41:07.726174Z",
     "iopub.status.idle": "2022-04-20T04:41:07.730674Z",
     "shell.execute_reply": "2022-04-20T04:41:07.730094Z"
    },
    "papermill": {
     "duration": 0.045804,
     "end_time": "2022-04-20T04:41:07.732639",
     "exception": false,
     "start_time": "2022-04-20T04:41:07.686835",
     "status": "completed"
    },
    "tags": []
   },
   "outputs": [],
   "source": [
    "df0.drop([\"Emitten\",\"Category\"], axis=1, inplace=True)"
   ]
  },
  {
   "cell_type": "code",
   "execution_count": 6,
   "id": "275c0dc9",
   "metadata": {
    "execution": {
     "iopub.execute_input": "2022-04-20T04:41:07.811662Z",
     "iopub.status.busy": "2022-04-20T04:41:07.811126Z",
     "iopub.status.idle": "2022-04-20T04:41:56.390236Z",
     "shell.execute_reply": "2022-04-20T04:41:56.389308Z"
    },
    "papermill": {
     "duration": 48.663822,
     "end_time": "2022-04-20T04:41:56.435537",
     "exception": false,
     "start_time": "2022-04-20T04:41:07.771715",
     "status": "completed"
    },
    "tags": []
   },
   "outputs": [
    {
     "data": {
      "text/plain": [
       "<Figure size 1080x1080 with 0 Axes>"
      ]
     },
     "metadata": {},
     "output_type": "display_data"
    },
    {
     "data": {
      "image/png": "[encoded data removed]",
      "text/plain": [
       "<Figure size 540x540 with 12 Axes>"
      ]
     },
     "metadata": {
      "needs_background": "light"
     },
     "output_type": "display_data"
    }
   ],
   "source": [
    "plt.figure(figsize=(15, 15))\n",
    "sns.pairplot(df0, vars = df0.columns[1:13]);"
   ]
  },
  {
   "cell_type": "code",
   "execution_count": 7,
   "id": "a06edae7",
   "metadata": {
    "execution": {
     "iopub.execute_input": "2022-04-20T04:41:56.525064Z",
     "iopub.status.busy": "2022-04-20T04:41:56.524737Z",
     "iopub.status.idle": "2022-04-20T04:41:56.554568Z",
     "shell.execute_reply": "2022-04-20T04:41:56.553970Z"
    },
    "papermill": {
     "duration": 0.076946,
     "end_time": "2022-04-20T04:41:56.556521",
     "exception": false,
     "start_time": "2022-04-20T04:41:56.479575",
     "status": "completed"
    },
    "tags": []
   },
   "outputs": [
    {
     "data": {
      "text/html": [
       "<div>\n",
       "<style scoped>\n",
       "    .dataframe tbody tr th:only-of-type {\n",
       "        vertical-align: middle;\n",
       "    }\n",
       "\n",
       "    .dataframe tbody tr th {\n",
       "        vertical-align: top;\n",
       "    }\n",
       "\n",
       "    .dataframe thead th {\n",
       "        text-align: right;\n",
       "    }\n",
       "</style>\n",
       "<table border=\"1\" class=\"dataframe\">\n",
       "  <thead>\n",
       "    <tr style=\"text-align: right;\">\n",
       "      <th></th>\n",
       "      <th>DER</th>\n",
       "      <th>Operating Profit Margin</th>\n",
       "      <th>ROA</th>\n",
       "      <th>Sales Growth</th>\n",
       "      <th>Category</th>\n",
       "    </tr>\n",
       "  </thead>\n",
       "  <tbody>\n",
       "    <tr>\n",
       "      <th>count</th>\n",
       "      <td>20.000000</td>\n",
       "      <td>2.000000e+01</td>\n",
       "      <td>20.000000</td>\n",
       "      <td>20.000000</td>\n",
       "      <td>0.0</td>\n",
       "    </tr>\n",
       "    <tr>\n",
       "      <th>mean</th>\n",
       "      <td>45.523000</td>\n",
       "      <td>2.678984e+05</td>\n",
       "      <td>0.000500</td>\n",
       "      <td>0.919885</td>\n",
       "      <td>NaN</td>\n",
       "    </tr>\n",
       "    <tr>\n",
       "      <th>std</th>\n",
       "      <td>175.267747</td>\n",
       "      <td>1.196657e+06</td>\n",
       "      <td>0.029285</td>\n",
       "      <td>3.946276</td>\n",
       "      <td>NaN</td>\n",
       "    </tr>\n",
       "    <tr>\n",
       "      <th>min</th>\n",
       "      <td>0.490000</td>\n",
       "      <td>1.225807e-01</td>\n",
       "      <td>-0.090000</td>\n",
       "      <td>-9.000000</td>\n",
       "      <td>NaN</td>\n",
       "    </tr>\n",
       "    <tr>\n",
       "      <th>25%</th>\n",
       "      <td>4.312500</td>\n",
       "      <td>2.124689e+01</td>\n",
       "      <td>-0.012500</td>\n",
       "      <td>-1.730518</td>\n",
       "      <td>NaN</td>\n",
       "    </tr>\n",
       "    <tr>\n",
       "      <th>50%</th>\n",
       "      <td>5.280000</td>\n",
       "      <td>8.733276e+01</td>\n",
       "      <td>0.010000</td>\n",
       "      <td>1.255745</td>\n",
       "      <td>NaN</td>\n",
       "    </tr>\n",
       "    <tr>\n",
       "      <th>75%</th>\n",
       "      <td>8.822500</td>\n",
       "      <td>3.722246e+02</td>\n",
       "      <td>0.010000</td>\n",
       "      <td>4.245327</td>\n",
       "      <td>NaN</td>\n",
       "    </tr>\n",
       "    <tr>\n",
       "      <th>max</th>\n",
       "      <td>790.000000</td>\n",
       "      <td>5.351928e+06</td>\n",
       "      <td>0.040000</td>\n",
       "      <td>6.531747</td>\n",
       "      <td>NaN</td>\n",
       "    </tr>\n",
       "  </tbody>\n",
       "</table>\n",
       "</div>"
      ],
      "text/plain": [
       "              DER  Operating Profit Margin        ROA  Sales Growth  Category\n",
       "count   20.000000             2.000000e+01  20.000000     20.000000       0.0\n",
       "mean    45.523000             2.678984e+05   0.000500      0.919885       NaN\n",
       "std    175.267747             1.196657e+06   0.029285      3.946276       NaN\n",
       "min      0.490000             1.225807e-01  -0.090000     -9.000000       NaN\n",
       "25%      4.312500             2.124689e+01  -0.012500     -1.730518       NaN\n",
       "50%      5.280000             8.733276e+01   0.010000      1.255745       NaN\n",
       "75%      8.822500             3.722246e+02   0.010000      4.245327       NaN\n",
       "max    790.000000             5.351928e+06   0.040000      6.531747       NaN"
      ]
     },
     "execution_count": 7,
     "metadata": {},
     "output_type": "execute_result"
    }
   ],
   "source": [
    "df0 = pd.read_csv('../input/bank-dataset/Dataset bank .csv')\n",
    "df1 = df0[['DER','Operating Profit Margin' ,'ROA','Sales Growth','Category']]\n",
    "df1.describe()"
   ]
  },
  {
   "cell_type": "code",
   "execution_count": 8,
   "id": "f551fdff",
   "metadata": {
    "execution": {
     "iopub.execute_input": "2022-04-20T04:41:56.642941Z",
     "iopub.status.busy": "2022-04-20T04:41:56.642454Z",
     "iopub.status.idle": "2022-04-20T04:41:56.937606Z",
     "shell.execute_reply": "2022-04-20T04:41:56.936511Z"
    },
    "papermill": {
     "duration": 0.342342,
     "end_time": "2022-04-20T04:41:56.940103",
     "exception": false,
     "start_time": "2022-04-20T04:41:56.597761",
     "status": "completed"
    },
    "tags": []
   },
   "outputs": [
    {
     "data": {
      "text/plain": [
       "<AxesSubplot:xlabel='Emitten', ylabel='Operating Profit Margin'>"
      ]
     },
     "execution_count": 8,
     "metadata": {},
     "output_type": "execute_result"
    },
    {
     "data": {
      "image/png": "[encoded data removed]",
      "text/plain": [
       "<Figure size 1296x288 with 1 Axes>"
      ]
     },
     "metadata": {
      "needs_background": "light"
     },
     "output_type": "display_data"
    }
   ],
   "source": [
    "plt.figure(figsize=(18, 4))\n",
    "plt.xticks(rotation=45)\n",
    "sns.scatterplot(x='Emitten', y='Operating Profit Margin', \n",
    "                data=df0, s=80)"
   ]
  },
  {
   "cell_type": "code",
   "execution_count": 9,
   "id": "fdbf9d23",
   "metadata": {
    "execution": {
     "iopub.execute_input": "2022-04-20T04:41:57.034350Z",
     "iopub.status.busy": "2022-04-20T04:41:57.034070Z",
     "iopub.status.idle": "2022-04-20T04:41:57.349956Z",
     "shell.execute_reply": "2022-04-20T04:41:57.348955Z"
    },
    "papermill": {
     "duration": 0.365554,
     "end_time": "2022-04-20T04:41:57.352243",
     "exception": false,
     "start_time": "2022-04-20T04:41:56.986689",
     "status": "completed"
    },
    "tags": []
   },
   "outputs": [
    {
     "data": {
      "text/plain": [
       "<AxesSubplot:xlabel='Emitten', ylabel='DER'>"
      ]
     },
     "execution_count": 9,
     "metadata": {},
     "output_type": "execute_result"
    },
    {
     "data": {
      "image/png": "[encoded data removed]",
      "text/plain": [
       "<Figure size 1296x288 with 1 Axes>"
      ]
     },
     "metadata": {
      "needs_background": "light"
     },
     "output_type": "display_data"
    }
   ],
   "source": [
    "plt.figure(figsize=(18, 4))\n",
    "plt.xticks(rotation=45)\n",
    "sns.scatterplot(x='Emitten', y='DER', \n",
    "                data=df0, s=80)"
   ]
  },
  {
   "cell_type": "code",
   "execution_count": 10,
   "id": "98eca829",
   "metadata": {
    "execution": {
     "iopub.execute_input": "2022-04-20T04:41:57.442495Z",
     "iopub.status.busy": "2022-04-20T04:41:57.442228Z",
     "iopub.status.idle": "2022-04-20T04:41:57.726578Z",
     "shell.execute_reply": "2022-04-20T04:41:57.725623Z"
    },
    "papermill": {
     "duration": 0.333343,
     "end_time": "2022-04-20T04:41:57.728887",
     "exception": false,
     "start_time": "2022-04-20T04:41:57.395544",
     "status": "completed"
    },
    "tags": []
   },
   "outputs": [
    {
     "data": {
      "text/plain": [
       "<AxesSubplot:xlabel='Emitten', ylabel='Sales Growth'>"
      ]
     },
     "execution_count": 10,
     "metadata": {},
     "output_type": "execute_result"
    },
    {
     "data": {
      "image/png": "[encoded data removed]",
      "text/plain": [
       "<Figure size 1296x288 with 1 Axes>"
      ]
     },
     "metadata": {
      "needs_background": "light"
     },
     "output_type": "display_data"
    }
   ],
   "source": [
    "plt.figure(figsize=(18, 4))\n",
    "plt.xticks(rotation=45)\n",
    "sns.scatterplot(x='Emitten', y='Sales Growth', \n",
    "                data=df0, s=80)"
   ]
  },
  {
   "cell_type": "code",
   "execution_count": 11,
   "id": "67cae52c",
   "metadata": {
    "execution": {
     "iopub.execute_input": "2022-04-20T04:41:57.821126Z",
     "iopub.status.busy": "2022-04-20T04:41:57.820825Z",
     "iopub.status.idle": "2022-04-20T04:41:57.829670Z",
     "shell.execute_reply": "2022-04-20T04:41:57.828889Z"
    },
    "papermill": {
     "duration": 0.057385,
     "end_time": "2022-04-20T04:41:57.832238",
     "exception": false,
     "start_time": "2022-04-20T04:41:57.774853",
     "status": "completed"
    },
    "tags": []
   },
   "outputs": [
    {
     "name": "stdout",
     "output_type": "stream",
     "text": [
      "Jumlah baris sebelum memfilter outlier: 20\n",
      "Jumlah baris setelah memfilter outlier: 19\n"
     ]
    }
   ],
   "source": [
    "print(f'Jumlah baris sebelum memfilter outlier: {len(df1)}')\n",
    "\n",
    "filtered_entries = np.array([False] * len(df1))\n",
    "for col in ['Operating Profit Margin']:\n",
    "    zscore = abs(stats.zscore(df1[col]))\n",
    "    filtered_entries = (zscore < 3) | filtered_entries\n",
    "    \n",
    "df1 = df1[filtered_entries]\n",
    "\n",
    "print(f'Jumlah baris setelah memfilter outlier: {len(df1)}')"
   ]
  },
  {
   "cell_type": "code",
   "execution_count": 12,
   "id": "3d31eb7f",
   "metadata": {
    "execution": {
     "iopub.execute_input": "2022-04-20T04:41:57.934569Z",
     "iopub.status.busy": "2022-04-20T04:41:57.933946Z",
     "iopub.status.idle": "2022-04-20T04:41:57.961870Z",
     "shell.execute_reply": "2022-04-20T04:41:57.960875Z"
    },
    "papermill": {
     "duration": 0.081416,
     "end_time": "2022-04-20T04:41:57.964322",
     "exception": false,
     "start_time": "2022-04-20T04:41:57.882906",
     "status": "completed"
    },
    "tags": []
   },
   "outputs": [
    {
     "data": {
      "text/html": [
       "<div>\n",
       "<style scoped>\n",
       "    .dataframe tbody tr th:only-of-type {\n",
       "        vertical-align: middle;\n",
       "    }\n",
       "\n",
       "    .dataframe tbody tr th {\n",
       "        vertical-align: top;\n",
       "    }\n",
       "\n",
       "    .dataframe thead th {\n",
       "        text-align: right;\n",
       "    }\n",
       "</style>\n",
       "<table border=\"1\" class=\"dataframe\">\n",
       "  <thead>\n",
       "    <tr style=\"text-align: right;\">\n",
       "      <th></th>\n",
       "      <th>DER</th>\n",
       "      <th>Operating Profit Margin</th>\n",
       "      <th>ROA</th>\n",
       "      <th>Sales Growth</th>\n",
       "      <th>Category</th>\n",
       "    </tr>\n",
       "  </thead>\n",
       "  <tbody>\n",
       "    <tr>\n",
       "      <th>count</th>\n",
       "      <td>19.000000</td>\n",
       "      <td>19.000000</td>\n",
       "      <td>1.900000e+01</td>\n",
       "      <td>19.000000</td>\n",
       "      <td>0.0</td>\n",
       "    </tr>\n",
       "    <tr>\n",
       "      <th>mean</th>\n",
       "      <td>6.340000</td>\n",
       "      <td>317.852923</td>\n",
       "      <td>1.826025e-19</td>\n",
       "      <td>0.744804</td>\n",
       "      <td>NaN</td>\n",
       "    </tr>\n",
       "    <tr>\n",
       "      <th>std</th>\n",
       "      <td>3.651753</td>\n",
       "      <td>549.402655</td>\n",
       "      <td>3.000000e-02</td>\n",
       "      <td>3.973807</td>\n",
       "      <td>NaN</td>\n",
       "    </tr>\n",
       "    <tr>\n",
       "      <th>min</th>\n",
       "      <td>0.490000</td>\n",
       "      <td>0.122581</td>\n",
       "      <td>-9.000000e-02</td>\n",
       "      <td>-9.000000</td>\n",
       "      <td>NaN</td>\n",
       "    </tr>\n",
       "    <tr>\n",
       "      <th>25%</th>\n",
       "      <td>4.265000</td>\n",
       "      <td>20.077850</td>\n",
       "      <td>-1.500000e-02</td>\n",
       "      <td>-1.770453</td>\n",
       "      <td>NaN</td>\n",
       "    </tr>\n",
       "    <tr>\n",
       "      <th>50%</th>\n",
       "      <td>5.070000</td>\n",
       "      <td>64.463265</td>\n",
       "      <td>1.000000e-02</td>\n",
       "      <td>1.218580</td>\n",
       "      <td>NaN</td>\n",
       "    </tr>\n",
       "    <tr>\n",
       "      <th>75%</th>\n",
       "      <td>7.785000</td>\n",
       "      <td>239.000004</td>\n",
       "      <td>1.000000e-02</td>\n",
       "      <td>3.457530</td>\n",
       "      <td>NaN</td>\n",
       "    </tr>\n",
       "    <tr>\n",
       "      <th>max</th>\n",
       "      <td>15.820000</td>\n",
       "      <td>2143.120250</td>\n",
       "      <td>4.000000e-02</td>\n",
       "      <td>6.531747</td>\n",
       "      <td>NaN</td>\n",
       "    </tr>\n",
       "  </tbody>\n",
       "</table>\n",
       "</div>"
      ],
      "text/plain": [
       "             DER  Operating Profit Margin           ROA  Sales Growth  \\\n",
       "count  19.000000                19.000000  1.900000e+01     19.000000   \n",
       "mean    6.340000               317.852923  1.826025e-19      0.744804   \n",
       "std     3.651753               549.402655  3.000000e-02      3.973807   \n",
       "min     0.490000                 0.122581 -9.000000e-02     -9.000000   \n",
       "25%     4.265000                20.077850 -1.500000e-02     -1.770453   \n",
       "50%     5.070000                64.463265  1.000000e-02      1.218580   \n",
       "75%     7.785000               239.000004  1.000000e-02      3.457530   \n",
       "max    15.820000              2143.120250  4.000000e-02      6.531747   \n",
       "\n",
       "       Category  \n",
       "count       0.0  \n",
       "mean        NaN  \n",
       "std         NaN  \n",
       "min         NaN  \n",
       "25%         NaN  \n",
       "50%         NaN  \n",
       "75%         NaN  \n",
       "max         NaN  "
      ]
     },
     "execution_count": 12,
     "metadata": {},
     "output_type": "execute_result"
    }
   ],
   "source": [
    "df1.describe()"
   ]
  },
  {
   "cell_type": "code",
   "execution_count": 13,
   "id": "13860a8c",
   "metadata": {
    "execution": {
     "iopub.execute_input": "2022-04-20T04:41:58.067757Z",
     "iopub.status.busy": "2022-04-20T04:41:58.067353Z",
     "iopub.status.idle": "2022-04-20T04:41:58.247879Z",
     "shell.execute_reply": "2022-04-20T04:41:58.246874Z"
    },
    "papermill": {
     "duration": 0.234884,
     "end_time": "2022-04-20T04:41:58.250080",
     "exception": false,
     "start_time": "2022-04-20T04:41:58.015196",
     "status": "completed"
    },
    "tags": []
   },
   "outputs": [
    {
     "data": {
      "text/html": [
       "<div>\n",
       "<style scoped>\n",
       "    .dataframe tbody tr th:only-of-type {\n",
       "        vertical-align: middle;\n",
       "    }\n",
       "\n",
       "    .dataframe tbody tr th {\n",
       "        vertical-align: top;\n",
       "    }\n",
       "\n",
       "    .dataframe thead th {\n",
       "        text-align: right;\n",
       "    }\n",
       "</style>\n",
       "<table border=\"1\" class=\"dataframe\">\n",
       "  <thead>\n",
       "    <tr style=\"text-align: right;\">\n",
       "      <th></th>\n",
       "      <th>DER</th>\n",
       "      <th>Operating Profit Margin</th>\n",
       "      <th>Sales Growth</th>\n",
       "    </tr>\n",
       "  </thead>\n",
       "  <tbody>\n",
       "    <tr>\n",
       "      <th>count</th>\n",
       "      <td>1.900000e+01</td>\n",
       "      <td>1.900000e+01</td>\n",
       "      <td>1.900000e+01</td>\n",
       "    </tr>\n",
       "    <tr>\n",
       "      <th>mean</th>\n",
       "      <td>-1.869849e-16</td>\n",
       "      <td>2.921640e-17</td>\n",
       "      <td>-6.135443e-17</td>\n",
       "    </tr>\n",
       "    <tr>\n",
       "      <th>std</th>\n",
       "      <td>1.027402e+00</td>\n",
       "      <td>1.027402e+00</td>\n",
       "      <td>1.027402e+00</td>\n",
       "    </tr>\n",
       "    <tr>\n",
       "      <th>min</th>\n",
       "      <td>-1.645868e+00</td>\n",
       "      <td>-5.941669e-01</td>\n",
       "      <td>-2.519457e+00</td>\n",
       "    </tr>\n",
       "    <tr>\n",
       "      <th>25%</th>\n",
       "      <td>-5.837908e-01</td>\n",
       "      <td>-5.568499e-01</td>\n",
       "      <td>-6.503036e-01</td>\n",
       "    </tr>\n",
       "    <tr>\n",
       "      <th>50%</th>\n",
       "      <td>-3.573081e-01</td>\n",
       "      <td>-4.738476e-01</td>\n",
       "      <td>1.224916e-01</td>\n",
       "    </tr>\n",
       "    <tr>\n",
       "      <th>75%</th>\n",
       "      <td>4.065435e-01</td>\n",
       "      <td>-1.474577e-01</td>\n",
       "      <td>7.013578e-01</td>\n",
       "    </tr>\n",
       "    <tr>\n",
       "      <th>max</th>\n",
       "      <td>2.667150e+00</td>\n",
       "      <td>3.413314e+00</td>\n",
       "      <td>1.496177e+00</td>\n",
       "    </tr>\n",
       "  </tbody>\n",
       "</table>\n",
       "</div>"
      ],
      "text/plain": [
       "                DER  Operating Profit Margin  Sales Growth\n",
       "count  1.900000e+01             1.900000e+01  1.900000e+01\n",
       "mean  -1.869849e-16             2.921640e-17 -6.135443e-17\n",
       "std    1.027402e+00             1.027402e+00  1.027402e+00\n",
       "min   -1.645868e+00            -5.941669e-01 -2.519457e+00\n",
       "25%   -5.837908e-01            -5.568499e-01 -6.503036e-01\n",
       "50%   -3.573081e-01            -4.738476e-01  1.224916e-01\n",
       "75%    4.065435e-01            -1.474577e-01  7.013578e-01\n",
       "max    2.667150e+00             3.413314e+00  1.496177e+00"
      ]
     },
     "execution_count": 13,
     "metadata": {},
     "output_type": "execute_result"
    }
   ],
   "source": [
    "feats = ['DER','Operating Profit Margin','Sales Growth']\n",
    "X = df1[feats].values\n",
    "y = df1['Category'].values\n",
    "\n",
    "from sklearn.preprocessing import StandardScaler\n",
    "X_std = StandardScaler().fit_transform(X)\n",
    "new_df = pd.DataFrame(data = X_std, columns = feats)\n",
    "new_df.describe()"
   ]
  },
  {
   "cell_type": "code",
   "execution_count": 14,
   "id": "2ae3e1f3",
   "metadata": {
    "execution": {
     "iopub.execute_input": "2022-04-20T04:41:58.350191Z",
     "iopub.status.busy": "2022-04-20T04:41:58.349792Z",
     "iopub.status.idle": "2022-04-20T04:41:58.654309Z",
     "shell.execute_reply": "2022-04-20T04:41:58.653330Z"
    },
    "papermill": {
     "duration": 0.358017,
     "end_time": "2022-04-20T04:41:58.656853",
     "exception": false,
     "start_time": "2022-04-20T04:41:58.298836",
     "status": "completed"
    },
    "tags": []
   },
   "outputs": [],
   "source": [
    "from sklearn.cluster import KMeans\n",
    "wcss=[]"
   ]
  },
  {
   "cell_type": "code",
   "execution_count": 15,
   "id": "3d768c9f",
   "metadata": {
    "execution": {
     "iopub.execute_input": "2022-04-20T04:41:58.752043Z",
     "iopub.status.busy": "2022-04-20T04:41:58.750996Z",
     "iopub.status.idle": "2022-04-20T04:41:58.756603Z",
     "shell.execute_reply": "2022-04-20T04:41:58.755851Z"
    },
    "papermill": {
     "duration": 0.05459,
     "end_time": "2022-04-20T04:41:58.758622",
     "exception": false,
     "start_time": "2022-04-20T04:41:58.704032",
     "status": "completed"
    },
    "tags": []
   },
   "outputs": [
    {
     "data": {
      "text/plain": [
       "(20, 6)"
      ]
     },
     "execution_count": 15,
     "metadata": {},
     "output_type": "execute_result"
    }
   ],
   "source": [
    "df0.shape"
   ]
  },
  {
   "cell_type": "code",
   "execution_count": 16,
   "id": "dca735a9",
   "metadata": {
    "execution": {
     "iopub.execute_input": "2022-04-20T04:41:58.853893Z",
     "iopub.status.busy": "2022-04-20T04:41:58.853604Z",
     "iopub.status.idle": "2022-04-20T04:41:59.339827Z",
     "shell.execute_reply": "2022-04-20T04:41:59.338836Z"
    },
    "papermill": {
     "duration": 0.536433,
     "end_time": "2022-04-20T04:41:59.342392",
     "exception": false,
     "start_time": "2022-04-20T04:41:58.805959",
     "status": "completed"
    },
    "tags": []
   },
   "outputs": [
    {
     "data": {
      "text/plain": [
       "[<matplotlib.lines.Line2D at 0x7fdfa5dab510>]"
      ]
     },
     "execution_count": 16,
     "metadata": {},
     "output_type": "execute_result"
    },
    {
     "data": {
      "image/png": "[encoded data removed]",
      "text/plain": [
       "<Figure size 864x504 with 1 Axes>"
      ]
     },
     "metadata": {
      "needs_background": "light"
     },
     "output_type": "display_data"
    }
   ],
   "source": [
    "from sklearn.cluster import KMeans\n",
    "inertia = []\n",
    "\n",
    "for i in range(1, 7):\n",
    "  kmeans = KMeans(n_clusters=i, init='k-means++', max_iter=300, n_init=10, random_state=0)\n",
    "  kmeans.fit(new_df.values)\n",
    "  inertia.append(kmeans.inertia_)\n",
    "\n",
    "plt.figure(figsize=(12, 7))\n",
    "plt.plot(inertia) #Elbow Method"
   ]
  },
  {
   "cell_type": "code",
   "execution_count": 17,
   "id": "ae411cbf",
   "metadata": {
    "execution": {
     "iopub.execute_input": "2022-04-20T04:41:59.455458Z",
     "iopub.status.busy": "2022-04-20T04:41:59.455163Z",
     "iopub.status.idle": "2022-04-20T04:41:59.476922Z",
     "shell.execute_reply": "2022-04-20T04:41:59.476139Z"
    },
    "papermill": {
     "duration": 0.078723,
     "end_time": "2022-04-20T04:41:59.478988",
     "exception": false,
     "start_time": "2022-04-20T04:41:59.400265",
     "status": "completed"
    },
    "tags": []
   },
   "outputs": [
    {
     "data": {
      "text/plain": [
       "KMeans(n_clusters=2, random_state=0)"
      ]
     },
     "execution_count": 17,
     "metadata": {},
     "output_type": "execute_result"
    }
   ],
   "source": [
    "from sklearn.cluster import KMeans\n",
    "kmeans = KMeans(n_clusters=2, init='k-means++', max_iter=300, n_init=10, random_state=0)\n",
    "kmeans.fit(new_df.values)"
   ]
  },
  {
   "cell_type": "code",
   "execution_count": 18,
   "id": "77c391d5",
   "metadata": {
    "execution": {
     "iopub.execute_input": "2022-04-20T04:41:59.577802Z",
     "iopub.status.busy": "2022-04-20T04:41:59.577492Z",
     "iopub.status.idle": "2022-04-20T04:41:59.583932Z",
     "shell.execute_reply": "2022-04-20T04:41:59.583030Z"
    },
    "papermill": {
     "duration": 0.057681,
     "end_time": "2022-04-20T04:41:59.585998",
     "exception": false,
     "start_time": "2022-04-20T04:41:59.528317",
     "status": "completed"
    },
    "tags": []
   },
   "outputs": [],
   "source": [
    "new_df['target'] = y\n",
    "new_df['fit'] = kmeans.labels_"
   ]
  },
  {
   "cell_type": "code",
   "execution_count": 19,
   "id": "82974429",
   "metadata": {
    "execution": {
     "iopub.execute_input": "2022-04-20T04:41:59.684805Z",
     "iopub.status.busy": "2022-04-20T04:41:59.684518Z",
     "iopub.status.idle": "2022-04-20T04:41:59.915380Z",
     "shell.execute_reply": "2022-04-20T04:41:59.914548Z"
    },
    "papermill": {
     "duration": 0.2828,
     "end_time": "2022-04-20T04:41:59.917588",
     "exception": false,
     "start_time": "2022-04-20T04:41:59.634788",
     "status": "completed"
    },
    "tags": []
   },
   "outputs": [
    {
     "data": {
      "image/png": "[encoded data removed]",
      "text/plain": [
       "<Figure size 576x576 with 1 Axes>"
      ]
     },
     "metadata": {
      "needs_background": "light"
     },
     "output_type": "display_data"
    }
   ],
   "source": [
    "plt.rcParams[\"figure.figsize\"] = (8, 8)\n",
    "sns.scatterplot(x='DER', y='Operating Profit Margin', hue=new_df.target.to_list(), data=new_df);"
   ]
  },
  {
   "cell_type": "code",
   "execution_count": 20,
   "id": "b1bf329e",
   "metadata": {
    "execution": {
     "iopub.execute_input": "2022-04-20T04:42:00.018412Z",
     "iopub.status.busy": "2022-04-20T04:42:00.018103Z",
     "iopub.status.idle": "2022-04-20T04:42:00.032943Z",
     "shell.execute_reply": "2022-04-20T04:42:00.032000Z"
    },
    "papermill": {
     "duration": 0.068581,
     "end_time": "2022-04-20T04:42:00.035115",
     "exception": false,
     "start_time": "2022-04-20T04:41:59.966534",
     "status": "completed"
    },
    "tags": []
   },
   "outputs": [
    {
     "data": {
      "text/html": [
       "<div>\n",
       "<style scoped>\n",
       "    .dataframe tbody tr th:only-of-type {\n",
       "        vertical-align: middle;\n",
       "    }\n",
       "\n",
       "    .dataframe tbody tr th {\n",
       "        vertical-align: top;\n",
       "    }\n",
       "\n",
       "    .dataframe thead th {\n",
       "        text-align: right;\n",
       "    }\n",
       "</style>\n",
       "<table border=\"1\" class=\"dataframe\">\n",
       "  <thead>\n",
       "    <tr style=\"text-align: right;\">\n",
       "      <th></th>\n",
       "      <th>DER</th>\n",
       "      <th>Operating Profit Margin</th>\n",
       "      <th>Sales Growth</th>\n",
       "      <th>target</th>\n",
       "      <th>fit</th>\n",
       "    </tr>\n",
       "  </thead>\n",
       "  <tbody>\n",
       "    <tr>\n",
       "      <th>0</th>\n",
       "      <td>0.227889</td>\n",
       "      <td>-0.387733</td>\n",
       "      <td>-0.670953</td>\n",
       "      <td>NaN</td>\n",
       "      <td>0</td>\n",
       "    </tr>\n",
       "    <tr>\n",
       "      <th>1</th>\n",
       "      <td>-0.410764</td>\n",
       "      <td>1.246771</td>\n",
       "      <td>-0.451108</td>\n",
       "      <td>NaN</td>\n",
       "      <td>0</td>\n",
       "    </tr>\n",
       "    <tr>\n",
       "      <th>2</th>\n",
       "      <td>-0.557063</td>\n",
       "      <td>-0.594167</td>\n",
       "      <td>0.122492</td>\n",
       "      <td>NaN</td>\n",
       "      <td>0</td>\n",
       "    </tr>\n",
       "    <tr>\n",
       "      <th>3</th>\n",
       "      <td>1.038163</td>\n",
       "      <td>-0.487989</td>\n",
       "      <td>-0.566354</td>\n",
       "      <td>NaN</td>\n",
       "      <td>0</td>\n",
       "    </tr>\n",
       "    <tr>\n",
       "      <th>4</th>\n",
       "      <td>-0.967827</td>\n",
       "      <td>-0.547641</td>\n",
       "      <td>1.398654</td>\n",
       "      <td>NaN</td>\n",
       "      <td>0</td>\n",
       "    </tr>\n",
       "    <tr>\n",
       "      <th>5</th>\n",
       "      <td>-0.438898</td>\n",
       "      <td>1.356501</td>\n",
       "      <td>1.496177</td>\n",
       "      <td>NaN</td>\n",
       "      <td>1</td>\n",
       "    </tr>\n",
       "    <tr>\n",
       "      <th>6</th>\n",
       "      <td>-1.645868</td>\n",
       "      <td>-0.593893</td>\n",
       "      <td>0.390619</td>\n",
       "      <td>NaN</td>\n",
       "      <td>0</td>\n",
       "    </tr>\n",
       "    <tr>\n",
       "      <th>7</th>\n",
       "      <td>2.667150</td>\n",
       "      <td>-0.185873</td>\n",
       "      <td>0.141709</td>\n",
       "      <td>NaN</td>\n",
       "      <td>1</td>\n",
       "    </tr>\n",
       "    <tr>\n",
       "      <th>8</th>\n",
       "      <td>-0.008440</td>\n",
       "      <td>-0.587060</td>\n",
       "      <td>0.240168</td>\n",
       "      <td>NaN</td>\n",
       "      <td>0</td>\n",
       "    </tr>\n",
       "    <tr>\n",
       "      <th>9</th>\n",
       "      <td>1.460180</td>\n",
       "      <td>-0.496569</td>\n",
       "      <td>-0.832537</td>\n",
       "      <td>NaN</td>\n",
       "      <td>0</td>\n",
       "    </tr>\n",
       "    <tr>\n",
       "      <th>10</th>\n",
       "      <td>-0.610519</td>\n",
       "      <td>-0.561222</td>\n",
       "      <td>-2.519457</td>\n",
       "      <td>NaN</td>\n",
       "      <td>0</td>\n",
       "    </tr>\n",
       "    <tr>\n",
       "      <th>11</th>\n",
       "      <td>1.406725</td>\n",
       "      <td>-0.109042</td>\n",
       "      <td>1.486079</td>\n",
       "      <td>NaN</td>\n",
       "      <td>1</td>\n",
       "    </tr>\n",
       "    <tr>\n",
       "      <th>12</th>\n",
       "      <td>0.585198</td>\n",
       "      <td>-0.190872</td>\n",
       "      <td>0.904943</td>\n",
       "      <td>NaN</td>\n",
       "      <td>1</td>\n",
       "    </tr>\n",
       "    <tr>\n",
       "      <th>13</th>\n",
       "      <td>-0.708989</td>\n",
       "      <td>-0.388314</td>\n",
       "      <td>-0.993483</td>\n",
       "      <td>NaN</td>\n",
       "      <td>0</td>\n",
       "    </tr>\n",
       "    <tr>\n",
       "      <th>14</th>\n",
       "      <td>-0.120978</td>\n",
       "      <td>3.413314</td>\n",
       "      <td>1.108997</td>\n",
       "      <td>NaN</td>\n",
       "      <td>1</td>\n",
       "    </tr>\n",
       "    <tr>\n",
       "      <th>15</th>\n",
       "      <td>-0.801833</td>\n",
       "      <td>-0.593719</td>\n",
       "      <td>-0.672530</td>\n",
       "      <td>NaN</td>\n",
       "      <td>0</td>\n",
       "    </tr>\n",
       "    <tr>\n",
       "      <th>16</th>\n",
       "      <td>-0.239143</td>\n",
       "      <td>0.733835</td>\n",
       "      <td>-0.451534</td>\n",
       "      <td>NaN</td>\n",
       "      <td>0</td>\n",
       "    </tr>\n",
       "    <tr>\n",
       "      <th>17</th>\n",
       "      <td>-0.517675</td>\n",
       "      <td>-0.473848</td>\n",
       "      <td>-0.629654</td>\n",
       "      <td>NaN</td>\n",
       "      <td>0</td>\n",
       "    </tr>\n",
       "    <tr>\n",
       "      <th>18</th>\n",
       "      <td>-0.357308</td>\n",
       "      <td>-0.552478</td>\n",
       "      <td>0.497773</td>\n",
       "      <td>NaN</td>\n",
       "      <td>0</td>\n",
       "    </tr>\n",
       "  </tbody>\n",
       "</table>\n",
       "</div>"
      ],
      "text/plain": [
       "         DER  Operating Profit Margin  Sales Growth  target  fit\n",
       "0   0.227889                -0.387733     -0.670953     NaN    0\n",
       "1  -0.410764                 1.246771     -0.451108     NaN    0\n",
       "2  -0.557063                -0.594167      0.122492     NaN    0\n",
       "3   1.038163                -0.487989     -0.566354     NaN    0\n",
       "4  -0.967827                -0.547641      1.398654     NaN    0\n",
       "5  -0.438898                 1.356501      1.496177     NaN    1\n",
       "6  -1.645868                -0.593893      0.390619     NaN    0\n",
       "7   2.667150                -0.185873      0.141709     NaN    1\n",
       "8  -0.008440                -0.587060      0.240168     NaN    0\n",
       "9   1.460180                -0.496569     -0.832537     NaN    0\n",
       "10 -0.610519                -0.561222     -2.519457     NaN    0\n",
       "11  1.406725                -0.109042      1.486079     NaN    1\n",
       "12  0.585198                -0.190872      0.904943     NaN    1\n",
       "13 -0.708989                -0.388314     -0.993483     NaN    0\n",
       "14 -0.120978                 3.413314      1.108997     NaN    1\n",
       "15 -0.801833                -0.593719     -0.672530     NaN    0\n",
       "16 -0.239143                 0.733835     -0.451534     NaN    0\n",
       "17 -0.517675                -0.473848     -0.629654     NaN    0\n",
       "18 -0.357308                -0.552478      0.497773     NaN    0"
      ]
     },
     "execution_count": 20,
     "metadata": {},
     "output_type": "execute_result"
    }
   ],
   "source": [
    " new_df.head(20)"
   ]
  },
  {
   "cell_type": "markdown",
   "id": "460feafa",
   "metadata": {
    "papermill": {
     "duration": 0.049383,
     "end_time": "2022-04-20T04:42:00.134540",
     "exception": false,
     "start_time": "2022-04-20T04:42:00.085157",
     "status": "completed"
    },
    "tags": []
   },
   "source": []
  },
  {
   "cell_type": "code",
   "execution_count": 21,
   "id": "53180325",
   "metadata": {
    "execution": {
     "iopub.execute_input": "2022-04-20T04:42:00.236115Z",
     "iopub.status.busy": "2022-04-20T04:42:00.235838Z",
     "iopub.status.idle": "2022-04-20T04:42:00.257447Z",
     "shell.execute_reply": "2022-04-20T04:42:00.256720Z"
    },
    "papermill": {
     "duration": 0.075203,
     "end_time": "2022-04-20T04:42:00.259401",
     "exception": false,
     "start_time": "2022-04-20T04:42:00.184198",
     "status": "completed"
    },
    "tags": []
   },
   "outputs": [
    {
     "data": {
      "text/html": [
       "<div>\n",
       "<style scoped>\n",
       "    .dataframe tbody tr th:only-of-type {\n",
       "        vertical-align: middle;\n",
       "    }\n",
       "\n",
       "    .dataframe tbody tr th {\n",
       "        vertical-align: top;\n",
       "    }\n",
       "\n",
       "    .dataframe thead th {\n",
       "        text-align: right;\n",
       "    }\n",
       "</style>\n",
       "<table border=\"1\" class=\"dataframe\">\n",
       "  <thead>\n",
       "    <tr style=\"text-align: right;\">\n",
       "      <th></th>\n",
       "      <th>Category</th>\n",
       "      <th>DER</th>\n",
       "      <th>Operating Profit Margin</th>\n",
       "      <th>Sales Growth</th>\n",
       "      <th>target</th>\n",
       "      <th>fit</th>\n",
       "    </tr>\n",
       "  </thead>\n",
       "  <tbody>\n",
       "    <tr>\n",
       "      <th>0</th>\n",
       "      <td>2</td>\n",
       "      <td>0.227889</td>\n",
       "      <td>-0.387733</td>\n",
       "      <td>-0.670953</td>\n",
       "      <td>NaN</td>\n",
       "      <td>0</td>\n",
       "    </tr>\n",
       "    <tr>\n",
       "      <th>1</th>\n",
       "      <td>2</td>\n",
       "      <td>-0.410764</td>\n",
       "      <td>1.246771</td>\n",
       "      <td>-0.451108</td>\n",
       "      <td>NaN</td>\n",
       "      <td>0</td>\n",
       "    </tr>\n",
       "    <tr>\n",
       "      <th>2</th>\n",
       "      <td>2</td>\n",
       "      <td>-0.557063</td>\n",
       "      <td>-0.594167</td>\n",
       "      <td>0.122492</td>\n",
       "      <td>NaN</td>\n",
       "      <td>0</td>\n",
       "    </tr>\n",
       "    <tr>\n",
       "      <th>3</th>\n",
       "      <td>2</td>\n",
       "      <td>1.038163</td>\n",
       "      <td>-0.487989</td>\n",
       "      <td>-0.566354</td>\n",
       "      <td>NaN</td>\n",
       "      <td>0</td>\n",
       "    </tr>\n",
       "    <tr>\n",
       "      <th>4</th>\n",
       "      <td>2</td>\n",
       "      <td>-0.967827</td>\n",
       "      <td>-0.547641</td>\n",
       "      <td>1.398654</td>\n",
       "      <td>NaN</td>\n",
       "      <td>0</td>\n",
       "    </tr>\n",
       "    <tr>\n",
       "      <th>5</th>\n",
       "      <td>4</td>\n",
       "      <td>-0.438898</td>\n",
       "      <td>1.356501</td>\n",
       "      <td>1.496177</td>\n",
       "      <td>NaN</td>\n",
       "      <td>1</td>\n",
       "    </tr>\n",
       "    <tr>\n",
       "      <th>6</th>\n",
       "      <td>2</td>\n",
       "      <td>-1.645868</td>\n",
       "      <td>-0.593893</td>\n",
       "      <td>0.390619</td>\n",
       "      <td>NaN</td>\n",
       "      <td>0</td>\n",
       "    </tr>\n",
       "    <tr>\n",
       "      <th>7</th>\n",
       "      <td>4</td>\n",
       "      <td>2.667150</td>\n",
       "      <td>-0.185873</td>\n",
       "      <td>0.141709</td>\n",
       "      <td>NaN</td>\n",
       "      <td>1</td>\n",
       "    </tr>\n",
       "    <tr>\n",
       "      <th>8</th>\n",
       "      <td>2</td>\n",
       "      <td>-0.008440</td>\n",
       "      <td>-0.587060</td>\n",
       "      <td>0.240168</td>\n",
       "      <td>NaN</td>\n",
       "      <td>0</td>\n",
       "    </tr>\n",
       "    <tr>\n",
       "      <th>9</th>\n",
       "      <td>2</td>\n",
       "      <td>1.460180</td>\n",
       "      <td>-0.496569</td>\n",
       "      <td>-0.832537</td>\n",
       "      <td>NaN</td>\n",
       "      <td>0</td>\n",
       "    </tr>\n",
       "    <tr>\n",
       "      <th>10</th>\n",
       "      <td>2</td>\n",
       "      <td>-0.610519</td>\n",
       "      <td>-0.561222</td>\n",
       "      <td>-2.519457</td>\n",
       "      <td>NaN</td>\n",
       "      <td>0</td>\n",
       "    </tr>\n",
       "    <tr>\n",
       "      <th>11</th>\n",
       "      <td>4</td>\n",
       "      <td>1.406725</td>\n",
       "      <td>-0.109042</td>\n",
       "      <td>1.486079</td>\n",
       "      <td>NaN</td>\n",
       "      <td>1</td>\n",
       "    </tr>\n",
       "    <tr>\n",
       "      <th>12</th>\n",
       "      <td>4</td>\n",
       "      <td>0.585198</td>\n",
       "      <td>-0.190872</td>\n",
       "      <td>0.904943</td>\n",
       "      <td>NaN</td>\n",
       "      <td>1</td>\n",
       "    </tr>\n",
       "    <tr>\n",
       "      <th>13</th>\n",
       "      <td>2</td>\n",
       "      <td>-0.708989</td>\n",
       "      <td>-0.388314</td>\n",
       "      <td>-0.993483</td>\n",
       "      <td>NaN</td>\n",
       "      <td>0</td>\n",
       "    </tr>\n",
       "    <tr>\n",
       "      <th>14</th>\n",
       "      <td>4</td>\n",
       "      <td>-0.120978</td>\n",
       "      <td>3.413314</td>\n",
       "      <td>1.108997</td>\n",
       "      <td>NaN</td>\n",
       "      <td>1</td>\n",
       "    </tr>\n",
       "    <tr>\n",
       "      <th>15</th>\n",
       "      <td>2</td>\n",
       "      <td>-0.801833</td>\n",
       "      <td>-0.593719</td>\n",
       "      <td>-0.672530</td>\n",
       "      <td>NaN</td>\n",
       "      <td>0</td>\n",
       "    </tr>\n",
       "    <tr>\n",
       "      <th>16</th>\n",
       "      <td>2</td>\n",
       "      <td>-0.239143</td>\n",
       "      <td>0.733835</td>\n",
       "      <td>-0.451534</td>\n",
       "      <td>NaN</td>\n",
       "      <td>0</td>\n",
       "    </tr>\n",
       "    <tr>\n",
       "      <th>17</th>\n",
       "      <td>2</td>\n",
       "      <td>-0.517675</td>\n",
       "      <td>-0.473848</td>\n",
       "      <td>-0.629654</td>\n",
       "      <td>NaN</td>\n",
       "      <td>0</td>\n",
       "    </tr>\n",
       "    <tr>\n",
       "      <th>18</th>\n",
       "      <td>2</td>\n",
       "      <td>-0.357308</td>\n",
       "      <td>-0.552478</td>\n",
       "      <td>0.497773</td>\n",
       "      <td>NaN</td>\n",
       "      <td>0</td>\n",
       "    </tr>\n",
       "  </tbody>\n",
       "</table>\n",
       "</div>"
      ],
      "text/plain": [
       "    Category       DER  Operating Profit Margin  Sales Growth  target  fit\n",
       "0          2  0.227889                -0.387733     -0.670953     NaN    0\n",
       "1          2 -0.410764                 1.246771     -0.451108     NaN    0\n",
       "2          2 -0.557063                -0.594167      0.122492     NaN    0\n",
       "3          2  1.038163                -0.487989     -0.566354     NaN    0\n",
       "4          2 -0.967827                -0.547641      1.398654     NaN    0\n",
       "5          4 -0.438898                 1.356501      1.496177     NaN    1\n",
       "6          2 -1.645868                -0.593893      0.390619     NaN    0\n",
       "7          4  2.667150                -0.185873      0.141709     NaN    1\n",
       "8          2 -0.008440                -0.587060      0.240168     NaN    0\n",
       "9          2  1.460180                -0.496569     -0.832537     NaN    0\n",
       "10         2 -0.610519                -0.561222     -2.519457     NaN    0\n",
       "11         4  1.406725                -0.109042      1.486079     NaN    1\n",
       "12         4  0.585198                -0.190872      0.904943     NaN    1\n",
       "13         2 -0.708989                -0.388314     -0.993483     NaN    0\n",
       "14         4 -0.120978                 3.413314      1.108997     NaN    1\n",
       "15         2 -0.801833                -0.593719     -0.672530     NaN    0\n",
       "16         2 -0.239143                 0.733835     -0.451534     NaN    0\n",
       "17         2 -0.517675                -0.473848     -0.629654     NaN    0\n",
       "18         2 -0.357308                -0.552478      0.497773     NaN    0"
      ]
     },
     "execution_count": 21,
     "metadata": {},
     "output_type": "execute_result"
    }
   ],
   "source": [
    "new_df.insert(0,\"Category\",np.nan,True)\n",
    "new_df.loc[new_df['fit'] == 0, 'Category'] = 2\n",
    "new_df.loc[new_df['fit'] == 1, 'Category'] = 4\n",
    "new_df.loc[new_df['fit'] == 2, 'Category'] = 1\n",
    "new_df.loc[new_df['fit'] == 3, 'Category'] = 0\n",
    "new_df.loc[new_df['fit'] == 4, 'Category'] = 3\n",
    "new_df['Category'] = new_df['Category'].astype(int)\n",
    "new_df.head(20)"
   ]
  },
  {
   "cell_type": "code",
   "execution_count": 22,
   "id": "6f4b9357",
   "metadata": {
    "execution": {
     "iopub.execute_input": "2022-04-20T04:42:00.362822Z",
     "iopub.status.busy": "2022-04-20T04:42:00.362364Z",
     "iopub.status.idle": "2022-04-20T04:42:00.374689Z",
     "shell.execute_reply": "2022-04-20T04:42:00.374092Z"
    },
    "papermill": {
     "duration": 0.066648,
     "end_time": "2022-04-20T04:42:00.376933",
     "exception": false,
     "start_time": "2022-04-20T04:42:00.310285",
     "status": "completed"
    },
    "tags": []
   },
   "outputs": [
    {
     "name": "stdout",
     "output_type": "stream",
     "text": [
      "<class 'pandas.core.frame.DataFrame'>\n",
      "RangeIndex: 19 entries, 0 to 18\n",
      "Data columns (total 4 columns):\n",
      " #   Column                         Non-Null Count  Dtype  \n",
      "---  ------                         --------------  -----  \n",
      " 0   Category                       19 non-null     int64  \n",
      " 1   DER (St.)                      19 non-null     float64\n",
      " 2   Operating Profit Margin (St.)  19 non-null     float64\n",
      " 3   Sales Growth (St.)             19 non-null     float64\n",
      "dtypes: float64(3), int64(1)\n",
      "memory usage: 736.0 bytes\n"
     ]
    }
   ],
   "source": [
    "new_df.drop([\"fit\",\"target\"], axis=1, inplace=True)\n",
    "new_df.columns = ['Category','DER (St.)','Operating Profit Margin (St.)', 'Sales Growth (St.)']\n",
    "new_df.info()"
   ]
  },
  {
   "cell_type": "code",
   "execution_count": 23,
   "id": "126a1088",
   "metadata": {
    "execution": {
     "iopub.execute_input": "2022-04-20T04:42:00.483630Z",
     "iopub.status.busy": "2022-04-20T04:42:00.483017Z",
     "iopub.status.idle": "2022-04-20T04:42:00.990537Z",
     "shell.execute_reply": "2022-04-20T04:42:00.989879Z"
    },
    "papermill": {
     "duration": 0.563947,
     "end_time": "2022-04-20T04:42:00.992754",
     "exception": false,
     "start_time": "2022-04-20T04:42:00.428807",
     "status": "completed"
    },
    "tags": []
   },
   "outputs": [
    {
     "data": {
      "image/png": "[encoded data removed]",
      "text/plain": [
       "<Figure size 576x576 with 1 Axes>"
      ]
     },
     "metadata": {
      "needs_background": "light"
     },
     "output_type": "display_data"
    }
   ],
   "source": [
    "from mpl_toolkits.mplot3d import Axes3D\n",
    "\n",
    "fig = plt.figure()\n",
    "ax = fig.add_subplot(111, projection = '3d')\n",
    "\n",
    "\n",
    "x = new_df['DER (St.)']\n",
    "y = new_df['Operating Profit Margin (St.)']\n",
    "z = new_df['Sales Growth (St.)']\n",
    "\n",
    "ax.set_xlabel(\"DER (St.)\")\n",
    "ax.set_ylabel(\"Operating Profit Margin (St.)\")\n",
    "ax.set_zlabel(\"Sales Growth (St.)\")\n",
    "\n",
    "cmap = ListedColormap(sns.color_palette(\"RdYlGn\", 256).as_hex())\n",
    "\n",
    "sc = ax.scatter(x, y, z, s=40, c=new_df['Category'], marker='o', cmap=cmap, alpha=1)\n",
    "plt.legend(*sc.legend_elements(), bbox_to_anchor=(1.05, 1), loc=2)\n",
    "\n",
    "plt.show()"
   ]
  },
  {
   "cell_type": "code",
   "execution_count": 24,
   "id": "6ba72ba7",
   "metadata": {
    "execution": {
     "iopub.execute_input": "2022-04-20T04:42:01.105670Z",
     "iopub.status.busy": "2022-04-20T04:42:01.104938Z",
     "iopub.status.idle": "2022-04-20T04:42:01.371886Z",
     "shell.execute_reply": "2022-04-20T04:42:01.371242Z"
    },
    "papermill": {
     "duration": 0.325596,
     "end_time": "2022-04-20T04:42:01.373654",
     "exception": false,
     "start_time": "2022-04-20T04:42:01.048058",
     "status": "completed"
    },
    "tags": []
   },
   "outputs": [
    {
     "data": {
      "image/png": "[encoded data removed]",
      "text/plain": [
       "<Figure size 576x576 with 1 Axes>"
      ]
     },
     "metadata": {
      "needs_background": "light"
     },
     "output_type": "display_data"
    }
   ],
   "source": [
    "# color palette as dictionary\n",
    "palette = {0:\"tab:red\",\n",
    "           1:\"tab:orange\", \n",
    "           2:\"yellow\",\n",
    "           3:\"lime\",\n",
    "           4:\"darkgreen\"}\n",
    "\n",
    "sns.scatterplot(x='DER (St.)', y='Sales Growth (St.)', \n",
    "                hue='Category', data=new_df, s=80,\n",
    "                palette=palette)\n",
    "plt.title(\"DER vs Sales Growth (Standardisasi)\", fontsize=18, y=1.05)\n",
    "plt.show()"
   ]
  },
  {
   "cell_type": "code",
   "execution_count": 25,
   "id": "828c5744",
   "metadata": {
    "execution": {
     "iopub.execute_input": "2022-04-20T04:42:01.485824Z",
     "iopub.status.busy": "2022-04-20T04:42:01.485513Z",
     "iopub.status.idle": "2022-04-20T04:42:01.778504Z",
     "shell.execute_reply": "2022-04-20T04:42:01.777549Z"
    },
    "papermill": {
     "duration": 0.352295,
     "end_time": "2022-04-20T04:42:01.780692",
     "exception": false,
     "start_time": "2022-04-20T04:42:01.428397",
     "status": "completed"
    },
    "tags": []
   },
   "outputs": [
    {
     "data": {
      "image/png": "[encoded data removed]",
      "text/plain": [
       "<Figure size 576x576 with 1 Axes>"
      ]
     },
     "metadata": {
      "needs_background": "light"
     },
     "output_type": "display_data"
    }
   ],
   "source": [
    "sns.scatterplot(x='Operating Profit Margin (St.)', y='Sales Growth (St.)', \n",
    "                hue='Category', data=new_df, s=80,\n",
    "                palette=palette)\n",
    "plt.title(\"Operating Profit Margin vs Sales Growth (Standardisasi)\", fontsize=18, y=1.05)\n",
    "plt.show()"
   ]
  },
  {
   "cell_type": "code",
   "execution_count": 26,
   "id": "ed0c2259",
   "metadata": {
    "execution": {
     "iopub.execute_input": "2022-04-20T04:42:01.895826Z",
     "iopub.status.busy": "2022-04-20T04:42:01.895495Z",
     "iopub.status.idle": "2022-04-20T04:42:02.173286Z",
     "shell.execute_reply": "2022-04-20T04:42:02.172359Z"
    },
    "papermill": {
     "duration": 0.337904,
     "end_time": "2022-04-20T04:42:02.175373",
     "exception": false,
     "start_time": "2022-04-20T04:42:01.837469",
     "status": "completed"
    },
    "tags": []
   },
   "outputs": [
    {
     "data": {
      "image/png": "[encoded data removed]",
      "text/plain": [
       "<Figure size 576x576 with 1 Axes>"
      ]
     },
     "metadata": {
      "needs_background": "light"
     },
     "output_type": "display_data"
    }
   ],
   "source": [
    "sns.scatterplot(x='DER (St.)', y='Operating Profit Margin (St.)', \n",
    "                hue='Category', data=new_df, s=80,\n",
    "                palette=palette)\n",
    "plt.title(\"DER vs Operating Profit Margin (Standardisasi)\", fontsize=18, y=1.05)\n",
    "plt.show()"
   ]
  },
  {
   "cell_type": "code",
   "execution_count": 27,
   "id": "3b435302",
   "metadata": {
    "execution": {
     "iopub.execute_input": "2022-04-20T04:42:02.293881Z",
     "iopub.status.busy": "2022-04-20T04:42:02.293097Z",
     "iopub.status.idle": "2022-04-20T04:42:02.301887Z",
     "shell.execute_reply": "2022-04-20T04:42:02.301035Z"
    },
    "papermill": {
     "duration": 0.071282,
     "end_time": "2022-04-20T04:42:02.304506",
     "exception": false,
     "start_time": "2022-04-20T04:42:02.233224",
     "status": "completed"
    },
    "tags": []
   },
   "outputs": [],
   "source": [
    "# drop these row indexes\n",
    "# from dataFrame\n",
    "index_names = df0[ df0['Emitten'] == 'ARTO' ].index\n",
    "df0.drop(index_names, inplace = True)\n",
    "df0.reset_index(drop=True, inplace=True)\n",
    "df0.drop([\"Category\"\n",
    "         ], axis=1, inplace=True)"
   ]
  },
  {
   "cell_type": "code",
   "execution_count": 28,
   "id": "8771f0cb",
   "metadata": {
    "execution": {
     "iopub.execute_input": "2022-04-20T04:42:02.423970Z",
     "iopub.status.busy": "2022-04-20T04:42:02.423647Z",
     "iopub.status.idle": "2022-04-20T04:42:02.460384Z",
     "shell.execute_reply": "2022-04-20T04:42:02.459427Z"
    },
    "papermill": {
     "duration": 0.097084,
     "end_time": "2022-04-20T04:42:02.462279",
     "exception": false,
     "start_time": "2022-04-20T04:42:02.365195",
     "status": "completed"
    },
    "tags": []
   },
   "outputs": [
    {
     "data": {
      "text/html": [
       "<div>\n",
       "<style scoped>\n",
       "    .dataframe tbody tr th:only-of-type {\n",
       "        vertical-align: middle;\n",
       "    }\n",
       "\n",
       "    .dataframe tbody tr th {\n",
       "        vertical-align: top;\n",
       "    }\n",
       "\n",
       "    .dataframe thead th {\n",
       "        text-align: right;\n",
       "    }\n",
       "</style>\n",
       "<table border=\"1\" class=\"dataframe\">\n",
       "  <thead>\n",
       "    <tr style=\"text-align: right;\">\n",
       "      <th></th>\n",
       "      <th>Emitten;Company</th>\n",
       "      <th>Category</th>\n",
       "      <th>DER (St.)</th>\n",
       "      <th>Operating Profit Margin (St.)</th>\n",
       "      <th>Sales Growth (St.)</th>\n",
       "      <th>Emitten</th>\n",
       "      <th>DER</th>\n",
       "      <th>Operating Profit Margin</th>\n",
       "      <th>ROA</th>\n",
       "      <th>Sales Growth</th>\n",
       "    </tr>\n",
       "  </thead>\n",
       "  <tbody>\n",
       "    <tr>\n",
       "      <th>0</th>\n",
       "      <td>AGRO;PT Bank Rakyat Indonesia Agroniaga Tbk</td>\n",
       "      <td>2.0</td>\n",
       "      <td>0.227889</td>\n",
       "      <td>-0.387733</td>\n",
       "      <td>-0.670953</td>\n",
       "      <td>AGRO</td>\n",
       "      <td>7.15</td>\n",
       "      <td>1.105130e+02</td>\n",
       "      <td>-0.09</td>\n",
       "      <td>-1.850321</td>\n",
       "    </tr>\n",
       "    <tr>\n",
       "      <th>1</th>\n",
       "      <td>BBCA;PT Bank Central Asia Tbk</td>\n",
       "      <td>2.0</td>\n",
       "      <td>-0.410764</td>\n",
       "      <td>1.246771</td>\n",
       "      <td>-0.451108</td>\n",
       "      <td>BBCA</td>\n",
       "      <td>4.88</td>\n",
       "      <td>9.845626e+02</td>\n",
       "      <td>0.03</td>\n",
       "      <td>-1.000000</td>\n",
       "    </tr>\n",
       "    <tr>\n",
       "      <th>2</th>\n",
       "      <td>BBHI;PT Bank Harda Internasional Tbk</td>\n",
       "      <td>2.0</td>\n",
       "      <td>-0.557063</td>\n",
       "      <td>-0.594167</td>\n",
       "      <td>0.122492</td>\n",
       "      <td>BBHI</td>\n",
       "      <td>4.36</td>\n",
       "      <td>1.225807e-01</td>\n",
       "      <td>0.01</td>\n",
       "      <td>1.218580</td>\n",
       "    </tr>\n",
       "    <tr>\n",
       "      <th>3</th>\n",
       "      <td>BBKP;Bank Bukopin Tbk</td>\n",
       "      <td>2.0</td>\n",
       "      <td>1.038163</td>\n",
       "      <td>-0.487989</td>\n",
       "      <td>-0.566354</td>\n",
       "      <td>BBKP</td>\n",
       "      <td>10.03</td>\n",
       "      <td>5.690090e+01</td>\n",
       "      <td>-0.01</td>\n",
       "      <td>-1.445750</td>\n",
       "    </tr>\n",
       "    <tr>\n",
       "      <th>4</th>\n",
       "      <td>BBMD;PT Bank Mestika Dharma Tbk</td>\n",
       "      <td>2.0</td>\n",
       "      <td>-0.967827</td>\n",
       "      <td>-0.547641</td>\n",
       "      <td>1.398654</td>\n",
       "      <td>BBMD</td>\n",
       "      <td>2.90</td>\n",
       "      <td>2.500228e+01</td>\n",
       "      <td>0.03</td>\n",
       "      <td>6.154548</td>\n",
       "    </tr>\n",
       "    <tr>\n",
       "      <th>5</th>\n",
       "      <td>BBNI;PT Bank Negara Indonesia (Persero) Tbk</td>\n",
       "      <td>4.0</td>\n",
       "      <td>-0.438898</td>\n",
       "      <td>1.356501</td>\n",
       "      <td>1.496177</td>\n",
       "      <td>BBNI</td>\n",
       "      <td>790.00</td>\n",
       "      <td>5.351928e+06</td>\n",
       "      <td>0.01</td>\n",
       "      <td>4.246426</td>\n",
       "    </tr>\n",
       "    <tr>\n",
       "      <th>6</th>\n",
       "      <td>BBRI;PT Bank Rakyat Indonesia (Persero) Tbk</td>\n",
       "      <td>2.0</td>\n",
       "      <td>-1.645868</td>\n",
       "      <td>-0.593893</td>\n",
       "      <td>0.390619</td>\n",
       "      <td>BBRI</td>\n",
       "      <td>4.78</td>\n",
       "      <td>1.043241e+03</td>\n",
       "      <td>0.01</td>\n",
       "      <td>6.531747</td>\n",
       "    </tr>\n",
       "    <tr>\n",
       "      <th>7</th>\n",
       "      <td>BBSI;PT Bank Bisnis Internasional Tbk</td>\n",
       "      <td>4.0</td>\n",
       "      <td>2.667150</td>\n",
       "      <td>-0.185873</td>\n",
       "      <td>0.141709</td>\n",
       "      <td>BBSI</td>\n",
       "      <td>0.49</td>\n",
       "      <td>2.690269e-01</td>\n",
       "      <td>0.04</td>\n",
       "      <td>2.255647</td>\n",
       "    </tr>\n",
       "    <tr>\n",
       "      <th>8</th>\n",
       "      <td>BBTN;PT Bank Tabungan Negara (Persero) Tbk</td>\n",
       "      <td>2.0</td>\n",
       "      <td>-0.008440</td>\n",
       "      <td>-0.587060</td>\n",
       "      <td>0.240168</td>\n",
       "      <td>BBTN</td>\n",
       "      <td>15.82</td>\n",
       "      <td>2.184574e+02</td>\n",
       "      <td>0.01</td>\n",
       "      <td>1.292910</td>\n",
       "    </tr>\n",
       "    <tr>\n",
       "      <th>9</th>\n",
       "      <td>BBYB;PT Bank Neo Commerce Tbk</td>\n",
       "      <td>2.0</td>\n",
       "      <td>1.460180</td>\n",
       "      <td>-0.496569</td>\n",
       "      <td>-0.832537</td>\n",
       "      <td>BBYB</td>\n",
       "      <td>6.31</td>\n",
       "      <td>3.922799e+00</td>\n",
       "      <td>-0.04</td>\n",
       "      <td>1.673732</td>\n",
       "    </tr>\n",
       "    <tr>\n",
       "      <th>10</th>\n",
       "      <td>BCIC;PT Bank JTrust Indonesia Tbk</td>\n",
       "      <td>2.0</td>\n",
       "      <td>-0.610519</td>\n",
       "      <td>-0.561222</td>\n",
       "      <td>-2.519457</td>\n",
       "      <td>BCIC</td>\n",
       "      <td>11.53</td>\n",
       "      <td>5.231316e+01</td>\n",
       "      <td>-0.02</td>\n",
       "      <td>-2.475300</td>\n",
       "    </tr>\n",
       "    <tr>\n",
       "      <th>11</th>\n",
       "      <td>BEKS;PT Bank Pembangunan Daerah Banten Tbk</td>\n",
       "      <td>4.0</td>\n",
       "      <td>1.406725</td>\n",
       "      <td>-0.109042</td>\n",
       "      <td>1.486079</td>\n",
       "      <td>BEKS</td>\n",
       "      <td>4.17</td>\n",
       "      <td>1.773977e+01</td>\n",
       "      <td>-0.03</td>\n",
       "      <td>-9.000000</td>\n",
       "    </tr>\n",
       "    <tr>\n",
       "      <th>12</th>\n",
       "      <td>BJBR;Bank Pembangunan Daerah Jawa Barat dan Ba...</td>\n",
       "      <td>4.0</td>\n",
       "      <td>0.585198</td>\n",
       "      <td>-0.190872</td>\n",
       "      <td>0.904943</td>\n",
       "      <td>BJBR</td>\n",
       "      <td>11.34</td>\n",
       "      <td>2.595427e+02</td>\n",
       "      <td>0.01</td>\n",
       "      <td>6.492690</td>\n",
       "    </tr>\n",
       "    <tr>\n",
       "      <th>13</th>\n",
       "      <td>BJTM;Bank Pembangunan Daerah Jawa Timur Tbk</td>\n",
       "      <td>2.0</td>\n",
       "      <td>-0.708989</td>\n",
       "      <td>-0.388314</td>\n",
       "      <td>-0.993483</td>\n",
       "      <td>BJTM</td>\n",
       "      <td>8.42</td>\n",
       "      <td>2.157844e+02</td>\n",
       "      <td>0.02</td>\n",
       "      <td>4.244960</td>\n",
       "    </tr>\n",
       "    <tr>\n",
       "      <th>14</th>\n",
       "      <td>BKSW;PT Bank QNB Indonesia Tbk</td>\n",
       "      <td>4.0</td>\n",
       "      <td>-0.120978</td>\n",
       "      <td>3.413314</td>\n",
       "      <td>1.108997</td>\n",
       "      <td>BKSW</td>\n",
       "      <td>3.82</td>\n",
       "      <td>1.102022e+02</td>\n",
       "      <td>-0.02</td>\n",
       "      <td>-3.097810</td>\n",
       "    </tr>\n",
       "    <tr>\n",
       "      <th>15</th>\n",
       "      <td>BMRI;PT Bank Mandiri (Persero) Tbk</td>\n",
       "      <td>2.0</td>\n",
       "      <td>-0.801833</td>\n",
       "      <td>-0.593719</td>\n",
       "      <td>-0.672530</td>\n",
       "      <td>BMRI</td>\n",
       "      <td>5.91</td>\n",
       "      <td>2.143120e+03</td>\n",
       "      <td>0.01</td>\n",
       "      <td>5.034205</td>\n",
       "    </tr>\n",
       "    <tr>\n",
       "      <th>16</th>\n",
       "      <td>BNBA;Bank Bumi Arta Tbk</td>\n",
       "      <td>2.0</td>\n",
       "      <td>-0.239143</td>\n",
       "      <td>0.733835</td>\n",
       "      <td>-0.451534</td>\n",
       "      <td>BNBA</td>\n",
       "      <td>3.49</td>\n",
       "      <td>3.619399e-01</td>\n",
       "      <td>0.01</td>\n",
       "      <td>-1.856421</td>\n",
       "    </tr>\n",
       "    <tr>\n",
       "      <th>17</th>\n",
       "      <td>BNGA;PT Bank CIMB Niaga Tbk</td>\n",
       "      <td>2.0</td>\n",
       "      <td>-0.517675</td>\n",
       "      <td>-0.473848</td>\n",
       "      <td>-0.629654</td>\n",
       "      <td>BNGA</td>\n",
       "      <td>5.49</td>\n",
       "      <td>7.102705e+02</td>\n",
       "      <td>0.01</td>\n",
       "      <td>-1.001648</td>\n",
       "    </tr>\n",
       "    <tr>\n",
       "      <th>18</th>\n",
       "      <td>BNII;PT Bank Maybank Indonesia Tbk</td>\n",
       "      <td>2.0</td>\n",
       "      <td>-0.357308</td>\n",
       "      <td>-0.552478</td>\n",
       "      <td>0.497773</td>\n",
       "      <td>BNII</td>\n",
       "      <td>4.50</td>\n",
       "      <td>6.446327e+01</td>\n",
       "      <td>0.01</td>\n",
       "      <td>-1.690584</td>\n",
       "    </tr>\n",
       "    <tr>\n",
       "      <th>19</th>\n",
       "      <td>BNLI;Bank Permata Tbk</td>\n",
       "      <td>NaN</td>\n",
       "      <td>NaN</td>\n",
       "      <td>NaN</td>\n",
       "      <td>NaN</td>\n",
       "      <td>BNLI</td>\n",
       "      <td>5.07</td>\n",
       "      <td>2.241593e+01</td>\n",
       "      <td>0.01</td>\n",
       "      <td>2.670100</td>\n",
       "    </tr>\n",
       "  </tbody>\n",
       "</table>\n",
       "</div>"
      ],
      "text/plain": [
       "                                      Emitten;Company  Category  DER (St.)  \\\n",
       "0         AGRO;PT Bank Rakyat Indonesia Agroniaga Tbk       2.0   0.227889   \n",
       "1                       BBCA;PT Bank Central Asia Tbk       2.0  -0.410764   \n",
       "2                BBHI;PT Bank Harda Internasional Tbk       2.0  -0.557063   \n",
       "3                               BBKP;Bank Bukopin Tbk       2.0   1.038163   \n",
       "4                     BBMD;PT Bank Mestika Dharma Tbk       2.0  -0.967827   \n",
       "5         BBNI;PT Bank Negara Indonesia (Persero) Tbk       4.0  -0.438898   \n",
       "6         BBRI;PT Bank Rakyat Indonesia (Persero) Tbk       2.0  -1.645868   \n",
       "7               BBSI;PT Bank Bisnis Internasional Tbk       4.0   2.667150   \n",
       "8          BBTN;PT Bank Tabungan Negara (Persero) Tbk       2.0  -0.008440   \n",
       "9                       BBYB;PT Bank Neo Commerce Tbk       2.0   1.460180   \n",
       "10                  BCIC;PT Bank JTrust Indonesia Tbk       2.0  -0.610519   \n",
       "11         BEKS;PT Bank Pembangunan Daerah Banten Tbk       4.0   1.406725   \n",
       "12  BJBR;Bank Pembangunan Daerah Jawa Barat dan Ba...       4.0   0.585198   \n",
       "13        BJTM;Bank Pembangunan Daerah Jawa Timur Tbk       2.0  -0.708989   \n",
       "14                     BKSW;PT Bank QNB Indonesia Tbk       4.0  -0.120978   \n",
       "15                 BMRI;PT Bank Mandiri (Persero) Tbk       2.0  -0.801833   \n",
       "16                            BNBA;Bank Bumi Arta Tbk       2.0  -0.239143   \n",
       "17                        BNGA;PT Bank CIMB Niaga Tbk       2.0  -0.517675   \n",
       "18                 BNII;PT Bank Maybank Indonesia Tbk       2.0  -0.357308   \n",
       "19                              BNLI;Bank Permata Tbk       NaN        NaN   \n",
       "\n",
       "    Operating Profit Margin (St.)  Sales Growth (St.)  Emitten     DER  \\\n",
       "0                       -0.387733           -0.670953  AGRO       7.15   \n",
       "1                        1.246771           -0.451108     BBCA    4.88   \n",
       "2                       -0.594167            0.122492     BBHI    4.36   \n",
       "3                       -0.487989           -0.566354     BBKP   10.03   \n",
       "4                       -0.547641            1.398654     BBMD    2.90   \n",
       "5                        1.356501            1.496177     BBNI  790.00   \n",
       "6                       -0.593893            0.390619     BBRI    4.78   \n",
       "7                       -0.185873            0.141709     BBSI    0.49   \n",
       "8                       -0.587060            0.240168     BBTN   15.82   \n",
       "9                       -0.496569           -0.832537     BBYB    6.31   \n",
       "10                      -0.561222           -2.519457     BCIC   11.53   \n",
       "11                      -0.109042            1.486079     BEKS    4.17   \n",
       "12                      -0.190872            0.904943     BJBR   11.34   \n",
       "13                      -0.388314           -0.993483     BJTM    8.42   \n",
       "14                       3.413314            1.108997     BKSW    3.82   \n",
       "15                      -0.593719           -0.672530     BMRI    5.91   \n",
       "16                       0.733835           -0.451534     BNBA    3.49   \n",
       "17                      -0.473848           -0.629654     BNGA    5.49   \n",
       "18                      -0.552478            0.497773     BNII    4.50   \n",
       "19                            NaN                 NaN     BNLI    5.07   \n",
       "\n",
       "    Operating Profit Margin   ROA  Sales Growth  \n",
       "0              1.105130e+02 -0.09     -1.850321  \n",
       "1              9.845626e+02  0.03     -1.000000  \n",
       "2              1.225807e-01  0.01      1.218580  \n",
       "3              5.690090e+01 -0.01     -1.445750  \n",
       "4              2.500228e+01  0.03      6.154548  \n",
       "5              5.351928e+06  0.01      4.246426  \n",
       "6              1.043241e+03  0.01      6.531747  \n",
       "7              2.690269e-01  0.04      2.255647  \n",
       "8              2.184574e+02  0.01      1.292910  \n",
       "9              3.922799e+00 -0.04      1.673732  \n",
       "10             5.231316e+01 -0.02     -2.475300  \n",
       "11             1.773977e+01 -0.03     -9.000000  \n",
       "12             2.595427e+02  0.01      6.492690  \n",
       "13             2.157844e+02  0.02      4.244960  \n",
       "14             1.102022e+02 -0.02     -3.097810  \n",
       "15             2.143120e+03  0.01      5.034205  \n",
       "16             3.619399e-01  0.01     -1.856421  \n",
       "17             7.102705e+02  0.01     -1.001648  \n",
       "18             6.446327e+01  0.01     -1.690584  \n",
       "19             2.241593e+01  0.01      2.670100  "
      ]
     },
     "execution_count": 28,
     "metadata": {},
     "output_type": "execute_result"
    }
   ],
   "source": [
    "dftemp = pd.read_csv('../input/bank-dataset/DATA Emitten bank .csv')\n",
    "df = pd.concat([dftemp, new_df, df0], axis=1)\n",
    "df.head(20)"
   ]
  },
  {
   "cell_type": "code",
   "execution_count": 29,
   "id": "42f8a0e6",
   "metadata": {
    "execution": {
     "iopub.execute_input": "2022-04-20T04:42:02.581414Z",
     "iopub.status.busy": "2022-04-20T04:42:02.581130Z",
     "iopub.status.idle": "2022-04-20T04:42:02.588829Z",
     "shell.execute_reply": "2022-04-20T04:42:02.588059Z"
    },
    "papermill": {
     "duration": 0.069565,
     "end_time": "2022-04-20T04:42:02.591056",
     "exception": false,
     "start_time": "2022-04-20T04:42:02.521491",
     "status": "completed"
    },
    "tags": []
   },
   "outputs": [],
   "source": [
    "df.to_csv('result.csv', index = False)"
   ]
  },
  {
   "cell_type": "code",
   "execution_count": 30,
   "id": "619a4ca8",
   "metadata": {
    "execution": {
     "iopub.execute_input": "2022-04-20T04:42:02.713024Z",
     "iopub.status.busy": "2022-04-20T04:42:02.712075Z",
     "iopub.status.idle": "2022-04-20T04:42:02.718709Z",
     "shell.execute_reply": "2022-04-20T04:42:02.717797Z"
    },
    "papermill": {
     "duration": 0.069909,
     "end_time": "2022-04-20T04:42:02.720910",
     "exception": false,
     "start_time": "2022-04-20T04:42:02.651001",
     "status": "completed"
    },
    "tags": []
   },
   "outputs": [
    {
     "data": {
      "text/plain": [
       "array([[-0.29279973, -0.30600201, -0.3669932 ],\n",
       "       [ 0.81983924,  0.85680562,  1.02758097]])"
      ]
     },
     "execution_count": 30,
     "metadata": {},
     "output_type": "execute_result"
    }
   ],
   "source": [
    "kmeans.cluster_centers_"
   ]
  },
  {
   "cell_type": "code",
   "execution_count": 31,
   "id": "62fa23ab",
   "metadata": {
    "execution": {
     "iopub.execute_input": "2022-04-20T04:42:02.840446Z",
     "iopub.status.busy": "2022-04-20T04:42:02.839554Z",
     "iopub.status.idle": "2022-04-20T04:42:03.076248Z",
     "shell.execute_reply": "2022-04-20T04:42:03.075441Z"
    },
    "papermill": {
     "duration": 0.298243,
     "end_time": "2022-04-20T04:42:03.078253",
     "exception": false,
     "start_time": "2022-04-20T04:42:02.780010",
     "status": "completed"
    },
    "tags": []
   },
   "outputs": [
    {
     "data": {
      "image/png": "[encoded data removed]",
      "text/plain": [
       "<Figure size 576x576 with 1 Axes>"
      ]
     },
     "metadata": {
      "needs_background": "light"
     },
     "output_type": "display_data"
    }
   ],
   "source": [
    "from mpl_toolkits.mplot3d import Axes3D\n",
    "\n",
    "fig = plt.figure()\n",
    "ax = fig.add_subplot(111, projection = '3d')\n",
    "x = [0.07796577,3.3825386,-0.19978728,-0.22183117,-0.32525515]\n",
    "y = [1.27721216,-0.22442569,-1.39490532,0.15549501,-0.03911061]\n",
    "z = [-0.22773712,0.35006475,-0.89274149,4.44060221,0.14030381]\n",
    "\n",
    "ax.set_xlabel(\"DER (St.)\")\n",
    "ax.set_ylabel(\"Operating Profit Margin (St.)\")\n",
    "ax.set_zlabel(\"Sales Growth (St.)\")\n",
    "ax.scatter(x, y, z)\n",
    "plt.show()"
   ]
  },
  {
   "cell_type": "code",
   "execution_count": 32,
   "id": "c42b91b3",
   "metadata": {
    "execution": {
     "iopub.execute_input": "2022-04-20T04:42:03.201677Z",
     "iopub.status.busy": "2022-04-20T04:42:03.201082Z",
     "iopub.status.idle": "2022-04-20T04:42:03.235907Z",
     "shell.execute_reply": "2022-04-20T04:42:03.235306Z"
    },
    "papermill": {
     "duration": 0.098668,
     "end_time": "2022-04-20T04:42:03.237660",
     "exception": false,
     "start_time": "2022-04-20T04:42:03.138992",
     "status": "completed"
    },
    "tags": []
   },
   "outputs": [
    {
     "data": {
      "text/html": [
       "<div>\n",
       "<style scoped>\n",
       "    .dataframe tbody tr th:only-of-type {\n",
       "        vertical-align: middle;\n",
       "    }\n",
       "\n",
       "    .dataframe tbody tr th {\n",
       "        vertical-align: top;\n",
       "    }\n",
       "\n",
       "    .dataframe thead th {\n",
       "        text-align: right;\n",
       "    }\n",
       "</style>\n",
       "<table border=\"1\" class=\"dataframe\">\n",
       "  <thead>\n",
       "    <tr style=\"text-align: right;\">\n",
       "      <th></th>\n",
       "      <th>Category</th>\n",
       "      <th>DER (St.)</th>\n",
       "      <th>Operating Profit Margin (St.)</th>\n",
       "      <th>Sales Growth (St.)</th>\n",
       "      <th>DER</th>\n",
       "      <th>Operating Profit Margin</th>\n",
       "      <th>ROA</th>\n",
       "      <th>Sales Growth</th>\n",
       "    </tr>\n",
       "  </thead>\n",
       "  <tbody>\n",
       "    <tr>\n",
       "      <th>count</th>\n",
       "      <td>5.0</td>\n",
       "      <td>5.000000</td>\n",
       "      <td>5.000000</td>\n",
       "      <td>5.000000</td>\n",
       "      <td>5.000000</td>\n",
       "      <td>5.000000e+00</td>\n",
       "      <td>5.000000</td>\n",
       "      <td>5.000000</td>\n",
       "    </tr>\n",
       "    <tr>\n",
       "      <th>mean</th>\n",
       "      <td>4.0</td>\n",
       "      <td>0.819839</td>\n",
       "      <td>0.856806</td>\n",
       "      <td>1.027581</td>\n",
       "      <td>161.964000</td>\n",
       "      <td>1.070463e+06</td>\n",
       "      <td>0.002000</td>\n",
       "      <td>0.179391</td>\n",
       "    </tr>\n",
       "    <tr>\n",
       "      <th>std</th>\n",
       "      <td>0.0</td>\n",
       "      <td>1.253157</td>\n",
       "      <td>1.573460</td>\n",
       "      <td>0.555932</td>\n",
       "      <td>351.105088</td>\n",
       "      <td>2.393412e+06</td>\n",
       "      <td>0.027749</td>\n",
       "      <td>6.239203</td>\n",
       "    </tr>\n",
       "    <tr>\n",
       "      <th>min</th>\n",
       "      <td>4.0</td>\n",
       "      <td>-0.438898</td>\n",
       "      <td>-0.190872</td>\n",
       "      <td>0.141709</td>\n",
       "      <td>0.490000</td>\n",
       "      <td>2.690269e-01</td>\n",
       "      <td>-0.030000</td>\n",
       "      <td>-9.000000</td>\n",
       "    </tr>\n",
       "    <tr>\n",
       "      <th>25%</th>\n",
       "      <td>4.0</td>\n",
       "      <td>-0.120978</td>\n",
       "      <td>-0.185873</td>\n",
       "      <td>0.904943</td>\n",
       "      <td>3.820000</td>\n",
       "      <td>1.773977e+01</td>\n",
       "      <td>-0.020000</td>\n",
       "      <td>-3.097810</td>\n",
       "    </tr>\n",
       "    <tr>\n",
       "      <th>50%</th>\n",
       "      <td>4.0</td>\n",
       "      <td>0.585198</td>\n",
       "      <td>-0.109042</td>\n",
       "      <td>1.108997</td>\n",
       "      <td>4.170000</td>\n",
       "      <td>1.102022e+02</td>\n",
       "      <td>0.010000</td>\n",
       "      <td>2.255647</td>\n",
       "    </tr>\n",
       "    <tr>\n",
       "      <th>75%</th>\n",
       "      <td>4.0</td>\n",
       "      <td>1.406725</td>\n",
       "      <td>1.356501</td>\n",
       "      <td>1.486079</td>\n",
       "      <td>11.340000</td>\n",
       "      <td>2.595427e+02</td>\n",
       "      <td>0.010000</td>\n",
       "      <td>4.246426</td>\n",
       "    </tr>\n",
       "    <tr>\n",
       "      <th>max</th>\n",
       "      <td>4.0</td>\n",
       "      <td>2.667150</td>\n",
       "      <td>3.413314</td>\n",
       "      <td>1.496177</td>\n",
       "      <td>790.000000</td>\n",
       "      <td>5.351928e+06</td>\n",
       "      <td>0.040000</td>\n",
       "      <td>6.492690</td>\n",
       "    </tr>\n",
       "  </tbody>\n",
       "</table>\n",
       "</div>"
      ],
      "text/plain": [
       "       Category  DER (St.)  Operating Profit Margin (St.)  Sales Growth (St.)  \\\n",
       "count       5.0   5.000000                       5.000000            5.000000   \n",
       "mean        4.0   0.819839                       0.856806            1.027581   \n",
       "std         0.0   1.253157                       1.573460            0.555932   \n",
       "min         4.0  -0.438898                      -0.190872            0.141709   \n",
       "25%         4.0  -0.120978                      -0.185873            0.904943   \n",
       "50%         4.0   0.585198                      -0.109042            1.108997   \n",
       "75%         4.0   1.406725                       1.356501            1.486079   \n",
       "max         4.0   2.667150                       3.413314            1.496177   \n",
       "\n",
       "              DER  Operating Profit Margin       ROA  Sales Growth  \n",
       "count    5.000000             5.000000e+00  5.000000      5.000000  \n",
       "mean   161.964000             1.070463e+06  0.002000      0.179391  \n",
       "std    351.105088             2.393412e+06  0.027749      6.239203  \n",
       "min      0.490000             2.690269e-01 -0.030000     -9.000000  \n",
       "25%      3.820000             1.773977e+01 -0.020000     -3.097810  \n",
       "50%      4.170000             1.102022e+02  0.010000      2.255647  \n",
       "75%     11.340000             2.595427e+02  0.010000      4.246426  \n",
       "max    790.000000             5.351928e+06  0.040000      6.492690  "
      ]
     },
     "execution_count": 32,
     "metadata": {},
     "output_type": "execute_result"
    }
   ],
   "source": [
    "df[df['Category'] == 4].describe() "
   ]
  },
  {
   "cell_type": "code",
   "execution_count": 33,
   "id": "2564f8ae",
   "metadata": {
    "execution": {
     "iopub.execute_input": "2022-04-20T04:42:03.362822Z",
     "iopub.status.busy": "2022-04-20T04:42:03.362298Z",
     "iopub.status.idle": "2022-04-20T04:42:03.393484Z",
     "shell.execute_reply": "2022-04-20T04:42:03.392871Z"
    },
    "papermill": {
     "duration": 0.095959,
     "end_time": "2022-04-20T04:42:03.395212",
     "exception": false,
     "start_time": "2022-04-20T04:42:03.299253",
     "status": "completed"
    },
    "tags": []
   },
   "outputs": [
    {
     "data": {
      "text/html": [
       "<div>\n",
       "<style scoped>\n",
       "    .dataframe tbody tr th:only-of-type {\n",
       "        vertical-align: middle;\n",
       "    }\n",
       "\n",
       "    .dataframe tbody tr th {\n",
       "        vertical-align: top;\n",
       "    }\n",
       "\n",
       "    .dataframe thead th {\n",
       "        text-align: right;\n",
       "    }\n",
       "</style>\n",
       "<table border=\"1\" class=\"dataframe\">\n",
       "  <thead>\n",
       "    <tr style=\"text-align: right;\">\n",
       "      <th></th>\n",
       "      <th>Category</th>\n",
       "      <th>DER (St.)</th>\n",
       "      <th>Operating Profit Margin (St.)</th>\n",
       "      <th>Sales Growth (St.)</th>\n",
       "      <th>DER</th>\n",
       "      <th>Operating Profit Margin</th>\n",
       "      <th>ROA</th>\n",
       "      <th>Sales Growth</th>\n",
       "    </tr>\n",
       "  </thead>\n",
       "  <tbody>\n",
       "    <tr>\n",
       "      <th>count</th>\n",
       "      <td>0.0</td>\n",
       "      <td>0.0</td>\n",
       "      <td>0.0</td>\n",
       "      <td>0.0</td>\n",
       "      <td>0.0</td>\n",
       "      <td>0.0</td>\n",
       "      <td>0.0</td>\n",
       "      <td>0.0</td>\n",
       "    </tr>\n",
       "    <tr>\n",
       "      <th>mean</th>\n",
       "      <td>NaN</td>\n",
       "      <td>NaN</td>\n",
       "      <td>NaN</td>\n",
       "      <td>NaN</td>\n",
       "      <td>NaN</td>\n",
       "      <td>NaN</td>\n",
       "      <td>NaN</td>\n",
       "      <td>NaN</td>\n",
       "    </tr>\n",
       "    <tr>\n",
       "      <th>std</th>\n",
       "      <td>NaN</td>\n",
       "      <td>NaN</td>\n",
       "      <td>NaN</td>\n",
       "      <td>NaN</td>\n",
       "      <td>NaN</td>\n",
       "      <td>NaN</td>\n",
       "      <td>NaN</td>\n",
       "      <td>NaN</td>\n",
       "    </tr>\n",
       "    <tr>\n",
       "      <th>min</th>\n",
       "      <td>NaN</td>\n",
       "      <td>NaN</td>\n",
       "      <td>NaN</td>\n",
       "      <td>NaN</td>\n",
       "      <td>NaN</td>\n",
       "      <td>NaN</td>\n",
       "      <td>NaN</td>\n",
       "      <td>NaN</td>\n",
       "    </tr>\n",
       "    <tr>\n",
       "      <th>25%</th>\n",
       "      <td>NaN</td>\n",
       "      <td>NaN</td>\n",
       "      <td>NaN</td>\n",
       "      <td>NaN</td>\n",
       "      <td>NaN</td>\n",
       "      <td>NaN</td>\n",
       "      <td>NaN</td>\n",
       "      <td>NaN</td>\n",
       "    </tr>\n",
       "    <tr>\n",
       "      <th>50%</th>\n",
       "      <td>NaN</td>\n",
       "      <td>NaN</td>\n",
       "      <td>NaN</td>\n",
       "      <td>NaN</td>\n",
       "      <td>NaN</td>\n",
       "      <td>NaN</td>\n",
       "      <td>NaN</td>\n",
       "      <td>NaN</td>\n",
       "    </tr>\n",
       "    <tr>\n",
       "      <th>75%</th>\n",
       "      <td>NaN</td>\n",
       "      <td>NaN</td>\n",
       "      <td>NaN</td>\n",
       "      <td>NaN</td>\n",
       "      <td>NaN</td>\n",
       "      <td>NaN</td>\n",
       "      <td>NaN</td>\n",
       "      <td>NaN</td>\n",
       "    </tr>\n",
       "    <tr>\n",
       "      <th>max</th>\n",
       "      <td>NaN</td>\n",
       "      <td>NaN</td>\n",
       "      <td>NaN</td>\n",
       "      <td>NaN</td>\n",
       "      <td>NaN</td>\n",
       "      <td>NaN</td>\n",
       "      <td>NaN</td>\n",
       "      <td>NaN</td>\n",
       "    </tr>\n",
       "  </tbody>\n",
       "</table>\n",
       "</div>"
      ],
      "text/plain": [
       "       Category  DER (St.)  Operating Profit Margin (St.)  Sales Growth (St.)  \\\n",
       "count       0.0        0.0                            0.0                 0.0   \n",
       "mean        NaN        NaN                            NaN                 NaN   \n",
       "std         NaN        NaN                            NaN                 NaN   \n",
       "min         NaN        NaN                            NaN                 NaN   \n",
       "25%         NaN        NaN                            NaN                 NaN   \n",
       "50%         NaN        NaN                            NaN                 NaN   \n",
       "75%         NaN        NaN                            NaN                 NaN   \n",
       "max         NaN        NaN                            NaN                 NaN   \n",
       "\n",
       "       DER  Operating Profit Margin  ROA  Sales Growth  \n",
       "count  0.0                      0.0  0.0           0.0  \n",
       "mean   NaN                      NaN  NaN           NaN  \n",
       "std    NaN                      NaN  NaN           NaN  \n",
       "min    NaN                      NaN  NaN           NaN  \n",
       "25%    NaN                      NaN  NaN           NaN  \n",
       "50%    NaN                      NaN  NaN           NaN  \n",
       "75%    NaN                      NaN  NaN           NaN  \n",
       "max    NaN                      NaN  NaN           NaN  "
      ]
     },
     "execution_count": 33,
     "metadata": {},
     "output_type": "execute_result"
    }
   ],
   "source": [
    "#Highly Positively Impacted\n",
    "df[df['Category'] == 3].describe() "
   ]
  },
  {
   "cell_type": "code",
   "execution_count": 34,
   "id": "9325dcab",
   "metadata": {
    "execution": {
     "iopub.execute_input": "2022-04-20T04:42:03.521906Z",
     "iopub.status.busy": "2022-04-20T04:42:03.521367Z",
     "iopub.status.idle": "2022-04-20T04:42:03.554638Z",
     "shell.execute_reply": "2022-04-20T04:42:03.553979Z"
    },
    "papermill": {
     "duration": 0.099371,
     "end_time": "2022-04-20T04:42:03.556528",
     "exception": false,
     "start_time": "2022-04-20T04:42:03.457157",
     "status": "completed"
    },
    "tags": []
   },
   "outputs": [
    {
     "data": {
      "text/html": [
       "<div>\n",
       "<style scoped>\n",
       "    .dataframe tbody tr th:only-of-type {\n",
       "        vertical-align: middle;\n",
       "    }\n",
       "\n",
       "    .dataframe tbody tr th {\n",
       "        vertical-align: top;\n",
       "    }\n",
       "\n",
       "    .dataframe thead th {\n",
       "        text-align: right;\n",
       "    }\n",
       "</style>\n",
       "<table border=\"1\" class=\"dataframe\">\n",
       "  <thead>\n",
       "    <tr style=\"text-align: right;\">\n",
       "      <th></th>\n",
       "      <th>Category</th>\n",
       "      <th>DER (St.)</th>\n",
       "      <th>Operating Profit Margin (St.)</th>\n",
       "      <th>Sales Growth (St.)</th>\n",
       "      <th>DER</th>\n",
       "      <th>Operating Profit Margin</th>\n",
       "      <th>ROA</th>\n",
       "      <th>Sales Growth</th>\n",
       "    </tr>\n",
       "  </thead>\n",
       "  <tbody>\n",
       "    <tr>\n",
       "      <th>count</th>\n",
       "      <td>14.0</td>\n",
       "      <td>14.000000</td>\n",
       "      <td>14.000000</td>\n",
       "      <td>14.000000</td>\n",
       "      <td>14.000000</td>\n",
       "      <td>14.000000</td>\n",
       "      <td>14.000000</td>\n",
       "      <td>14.000000</td>\n",
       "    </tr>\n",
       "    <tr>\n",
       "      <th>mean</th>\n",
       "      <td>2.0</td>\n",
       "      <td>-0.292800</td>\n",
       "      <td>-0.306002</td>\n",
       "      <td>-0.366993</td>\n",
       "      <td>6.826429</td>\n",
       "      <td>402.073993</td>\n",
       "      <td>-0.000714</td>\n",
       "      <td>1.059333</td>\n",
       "    </tr>\n",
       "    <tr>\n",
       "      <th>std</th>\n",
       "      <td>0.0</td>\n",
       "      <td>0.792147</td>\n",
       "      <td>0.562645</td>\n",
       "      <td>0.902926</td>\n",
       "      <td>3.560770</td>\n",
       "      <td>620.740563</td>\n",
       "      <td>0.031736</td>\n",
       "      <td>3.211770</td>\n",
       "    </tr>\n",
       "    <tr>\n",
       "      <th>min</th>\n",
       "      <td>2.0</td>\n",
       "      <td>-1.645868</td>\n",
       "      <td>-0.594167</td>\n",
       "      <td>-2.519457</td>\n",
       "      <td>2.900000</td>\n",
       "      <td>0.122581</td>\n",
       "      <td>-0.090000</td>\n",
       "      <td>-2.475300</td>\n",
       "    </tr>\n",
       "    <tr>\n",
       "      <th>25%</th>\n",
       "      <td>2.0</td>\n",
       "      <td>-0.684372</td>\n",
       "      <td>-0.580601</td>\n",
       "      <td>-0.672136</td>\n",
       "      <td>4.570000</td>\n",
       "      <td>31.829996</td>\n",
       "      <td>-0.005000</td>\n",
       "      <td>-1.629376</td>\n",
       "    </tr>\n",
       "    <tr>\n",
       "      <th>50%</th>\n",
       "      <td>2.0</td>\n",
       "      <td>-0.464219</td>\n",
       "      <td>-0.522105</td>\n",
       "      <td>-0.508944</td>\n",
       "      <td>5.700000</td>\n",
       "      <td>87.488108</td>\n",
       "      <td>0.010000</td>\n",
       "      <td>0.109290</td>\n",
       "    </tr>\n",
       "    <tr>\n",
       "      <th>75%</th>\n",
       "      <td>2.0</td>\n",
       "      <td>-0.066116</td>\n",
       "      <td>-0.409697</td>\n",
       "      <td>0.210749</td>\n",
       "      <td>8.102500</td>\n",
       "      <td>587.317242</td>\n",
       "      <td>0.010000</td>\n",
       "      <td>3.602153</td>\n",
       "    </tr>\n",
       "    <tr>\n",
       "      <th>max</th>\n",
       "      <td>2.0</td>\n",
       "      <td>1.460180</td>\n",
       "      <td>1.246771</td>\n",
       "      <td>1.398654</td>\n",
       "      <td>15.820000</td>\n",
       "      <td>2143.120250</td>\n",
       "      <td>0.030000</td>\n",
       "      <td>6.531747</td>\n",
       "    </tr>\n",
       "  </tbody>\n",
       "</table>\n",
       "</div>"
      ],
      "text/plain": [
       "       Category  DER (St.)  Operating Profit Margin (St.)  Sales Growth (St.)  \\\n",
       "count      14.0  14.000000                      14.000000           14.000000   \n",
       "mean        2.0  -0.292800                      -0.306002           -0.366993   \n",
       "std         0.0   0.792147                       0.562645            0.902926   \n",
       "min         2.0  -1.645868                      -0.594167           -2.519457   \n",
       "25%         2.0  -0.684372                      -0.580601           -0.672136   \n",
       "50%         2.0  -0.464219                      -0.522105           -0.508944   \n",
       "75%         2.0  -0.066116                      -0.409697            0.210749   \n",
       "max         2.0   1.460180                       1.246771            1.398654   \n",
       "\n",
       "             DER  Operating Profit Margin        ROA  Sales Growth  \n",
       "count  14.000000                14.000000  14.000000     14.000000  \n",
       "mean    6.826429               402.073993  -0.000714      1.059333  \n",
       "std     3.560770               620.740563   0.031736      3.211770  \n",
       "min     2.900000                 0.122581  -0.090000     -2.475300  \n",
       "25%     4.570000                31.829996  -0.005000     -1.629376  \n",
       "50%     5.700000                87.488108   0.010000      0.109290  \n",
       "75%     8.102500               587.317242   0.010000      3.602153  \n",
       "max    15.820000              2143.120250   0.030000      6.531747  "
      ]
     },
     "execution_count": 34,
     "metadata": {},
     "output_type": "execute_result"
    }
   ],
   "source": [
    "#Highly Positively Impacted\n",
    "df[df['Category'] == 2].describe() "
   ]
  },
  {
   "cell_type": "code",
   "execution_count": 35,
   "id": "f61ea956",
   "metadata": {
    "execution": {
     "iopub.execute_input": "2022-04-20T04:42:03.683754Z",
     "iopub.status.busy": "2022-04-20T04:42:03.683446Z",
     "iopub.status.idle": "2022-04-20T04:42:03.719699Z",
     "shell.execute_reply": "2022-04-20T04:42:03.718868Z"
    },
    "papermill": {
     "duration": 0.102424,
     "end_time": "2022-04-20T04:42:03.721715",
     "exception": false,
     "start_time": "2022-04-20T04:42:03.619291",
     "status": "completed"
    },
    "tags": []
   },
   "outputs": [
    {
     "data": {
      "text/html": [
       "<div>\n",
       "<style scoped>\n",
       "    .dataframe tbody tr th:only-of-type {\n",
       "        vertical-align: middle;\n",
       "    }\n",
       "\n",
       "    .dataframe tbody tr th {\n",
       "        vertical-align: top;\n",
       "    }\n",
       "\n",
       "    .dataframe thead th {\n",
       "        text-align: right;\n",
       "    }\n",
       "</style>\n",
       "<table border=\"1\" class=\"dataframe\">\n",
       "  <thead>\n",
       "    <tr style=\"text-align: right;\">\n",
       "      <th></th>\n",
       "      <th>Category</th>\n",
       "      <th>DER (St.)</th>\n",
       "      <th>Operating Profit Margin (St.)</th>\n",
       "      <th>Sales Growth (St.)</th>\n",
       "      <th>DER</th>\n",
       "      <th>Operating Profit Margin</th>\n",
       "      <th>ROA</th>\n",
       "      <th>Sales Growth</th>\n",
       "    </tr>\n",
       "  </thead>\n",
       "  <tbody>\n",
       "    <tr>\n",
       "      <th>count</th>\n",
       "      <td>0.0</td>\n",
       "      <td>0.0</td>\n",
       "      <td>0.0</td>\n",
       "      <td>0.0</td>\n",
       "      <td>0.0</td>\n",
       "      <td>0.0</td>\n",
       "      <td>0.0</td>\n",
       "      <td>0.0</td>\n",
       "    </tr>\n",
       "    <tr>\n",
       "      <th>mean</th>\n",
       "      <td>NaN</td>\n",
       "      <td>NaN</td>\n",
       "      <td>NaN</td>\n",
       "      <td>NaN</td>\n",
       "      <td>NaN</td>\n",
       "      <td>NaN</td>\n",
       "      <td>NaN</td>\n",
       "      <td>NaN</td>\n",
       "    </tr>\n",
       "    <tr>\n",
       "      <th>std</th>\n",
       "      <td>NaN</td>\n",
       "      <td>NaN</td>\n",
       "      <td>NaN</td>\n",
       "      <td>NaN</td>\n",
       "      <td>NaN</td>\n",
       "      <td>NaN</td>\n",
       "      <td>NaN</td>\n",
       "      <td>NaN</td>\n",
       "    </tr>\n",
       "    <tr>\n",
       "      <th>min</th>\n",
       "      <td>NaN</td>\n",
       "      <td>NaN</td>\n",
       "      <td>NaN</td>\n",
       "      <td>NaN</td>\n",
       "      <td>NaN</td>\n",
       "      <td>NaN</td>\n",
       "      <td>NaN</td>\n",
       "      <td>NaN</td>\n",
       "    </tr>\n",
       "    <tr>\n",
       "      <th>25%</th>\n",
       "      <td>NaN</td>\n",
       "      <td>NaN</td>\n",
       "      <td>NaN</td>\n",
       "      <td>NaN</td>\n",
       "      <td>NaN</td>\n",
       "      <td>NaN</td>\n",
       "      <td>NaN</td>\n",
       "      <td>NaN</td>\n",
       "    </tr>\n",
       "    <tr>\n",
       "      <th>50%</th>\n",
       "      <td>NaN</td>\n",
       "      <td>NaN</td>\n",
       "      <td>NaN</td>\n",
       "      <td>NaN</td>\n",
       "      <td>NaN</td>\n",
       "      <td>NaN</td>\n",
       "      <td>NaN</td>\n",
       "      <td>NaN</td>\n",
       "    </tr>\n",
       "    <tr>\n",
       "      <th>75%</th>\n",
       "      <td>NaN</td>\n",
       "      <td>NaN</td>\n",
       "      <td>NaN</td>\n",
       "      <td>NaN</td>\n",
       "      <td>NaN</td>\n",
       "      <td>NaN</td>\n",
       "      <td>NaN</td>\n",
       "      <td>NaN</td>\n",
       "    </tr>\n",
       "    <tr>\n",
       "      <th>max</th>\n",
       "      <td>NaN</td>\n",
       "      <td>NaN</td>\n",
       "      <td>NaN</td>\n",
       "      <td>NaN</td>\n",
       "      <td>NaN</td>\n",
       "      <td>NaN</td>\n",
       "      <td>NaN</td>\n",
       "      <td>NaN</td>\n",
       "    </tr>\n",
       "  </tbody>\n",
       "</table>\n",
       "</div>"
      ],
      "text/plain": [
       "       Category  DER (St.)  Operating Profit Margin (St.)  Sales Growth (St.)  \\\n",
       "count       0.0        0.0                            0.0                 0.0   \n",
       "mean        NaN        NaN                            NaN                 NaN   \n",
       "std         NaN        NaN                            NaN                 NaN   \n",
       "min         NaN        NaN                            NaN                 NaN   \n",
       "25%         NaN        NaN                            NaN                 NaN   \n",
       "50%         NaN        NaN                            NaN                 NaN   \n",
       "75%         NaN        NaN                            NaN                 NaN   \n",
       "max         NaN        NaN                            NaN                 NaN   \n",
       "\n",
       "       DER  Operating Profit Margin  ROA  Sales Growth  \n",
       "count  0.0                      0.0  0.0           0.0  \n",
       "mean   NaN                      NaN  NaN           NaN  \n",
       "std    NaN                      NaN  NaN           NaN  \n",
       "min    NaN                      NaN  NaN           NaN  \n",
       "25%    NaN                      NaN  NaN           NaN  \n",
       "50%    NaN                      NaN  NaN           NaN  \n",
       "75%    NaN                      NaN  NaN           NaN  \n",
       "max    NaN                      NaN  NaN           NaN  "
      ]
     },
     "execution_count": 35,
     "metadata": {},
     "output_type": "execute_result"
    }
   ],
   "source": [
    "#Highly Positively Impacted\n",
    "df[df['Category'] == 1].describe() "
   ]
  },
  {
   "cell_type": "code",
   "execution_count": 36,
   "id": "70190c3c",
   "metadata": {
    "execution": {
     "iopub.execute_input": "2022-04-20T04:42:03.851153Z",
     "iopub.status.busy": "2022-04-20T04:42:03.850360Z",
     "iopub.status.idle": "2022-04-20T04:42:03.881967Z",
     "shell.execute_reply": "2022-04-20T04:42:03.881346Z"
    },
    "papermill": {
     "duration": 0.09861,
     "end_time": "2022-04-20T04:42:03.883876",
     "exception": false,
     "start_time": "2022-04-20T04:42:03.785266",
     "status": "completed"
    },
    "tags": []
   },
   "outputs": [
    {
     "data": {
      "text/html": [
       "<div>\n",
       "<style scoped>\n",
       "    .dataframe tbody tr th:only-of-type {\n",
       "        vertical-align: middle;\n",
       "    }\n",
       "\n",
       "    .dataframe tbody tr th {\n",
       "        vertical-align: top;\n",
       "    }\n",
       "\n",
       "    .dataframe thead th {\n",
       "        text-align: right;\n",
       "    }\n",
       "</style>\n",
       "<table border=\"1\" class=\"dataframe\">\n",
       "  <thead>\n",
       "    <tr style=\"text-align: right;\">\n",
       "      <th></th>\n",
       "      <th>Category</th>\n",
       "      <th>DER (St.)</th>\n",
       "      <th>Operating Profit Margin (St.)</th>\n",
       "      <th>Sales Growth (St.)</th>\n",
       "      <th>DER</th>\n",
       "      <th>Operating Profit Margin</th>\n",
       "      <th>ROA</th>\n",
       "      <th>Sales Growth</th>\n",
       "    </tr>\n",
       "  </thead>\n",
       "  <tbody>\n",
       "    <tr>\n",
       "      <th>count</th>\n",
       "      <td>0.0</td>\n",
       "      <td>0.0</td>\n",
       "      <td>0.0</td>\n",
       "      <td>0.0</td>\n",
       "      <td>0.0</td>\n",
       "      <td>0.0</td>\n",
       "      <td>0.0</td>\n",
       "      <td>0.0</td>\n",
       "    </tr>\n",
       "    <tr>\n",
       "      <th>mean</th>\n",
       "      <td>NaN</td>\n",
       "      <td>NaN</td>\n",
       "      <td>NaN</td>\n",
       "      <td>NaN</td>\n",
       "      <td>NaN</td>\n",
       "      <td>NaN</td>\n",
       "      <td>NaN</td>\n",
       "      <td>NaN</td>\n",
       "    </tr>\n",
       "    <tr>\n",
       "      <th>std</th>\n",
       "      <td>NaN</td>\n",
       "      <td>NaN</td>\n",
       "      <td>NaN</td>\n",
       "      <td>NaN</td>\n",
       "      <td>NaN</td>\n",
       "      <td>NaN</td>\n",
       "      <td>NaN</td>\n",
       "      <td>NaN</td>\n",
       "    </tr>\n",
       "    <tr>\n",
       "      <th>min</th>\n",
       "      <td>NaN</td>\n",
       "      <td>NaN</td>\n",
       "      <td>NaN</td>\n",
       "      <td>NaN</td>\n",
       "      <td>NaN</td>\n",
       "      <td>NaN</td>\n",
       "      <td>NaN</td>\n",
       "      <td>NaN</td>\n",
       "    </tr>\n",
       "    <tr>\n",
       "      <th>25%</th>\n",
       "      <td>NaN</td>\n",
       "      <td>NaN</td>\n",
       "      <td>NaN</td>\n",
       "      <td>NaN</td>\n",
       "      <td>NaN</td>\n",
       "      <td>NaN</td>\n",
       "      <td>NaN</td>\n",
       "      <td>NaN</td>\n",
       "    </tr>\n",
       "    <tr>\n",
       "      <th>50%</th>\n",
       "      <td>NaN</td>\n",
       "      <td>NaN</td>\n",
       "      <td>NaN</td>\n",
       "      <td>NaN</td>\n",
       "      <td>NaN</td>\n",
       "      <td>NaN</td>\n",
       "      <td>NaN</td>\n",
       "      <td>NaN</td>\n",
       "    </tr>\n",
       "    <tr>\n",
       "      <th>75%</th>\n",
       "      <td>NaN</td>\n",
       "      <td>NaN</td>\n",
       "      <td>NaN</td>\n",
       "      <td>NaN</td>\n",
       "      <td>NaN</td>\n",
       "      <td>NaN</td>\n",
       "      <td>NaN</td>\n",
       "      <td>NaN</td>\n",
       "    </tr>\n",
       "    <tr>\n",
       "      <th>max</th>\n",
       "      <td>NaN</td>\n",
       "      <td>NaN</td>\n",
       "      <td>NaN</td>\n",
       "      <td>NaN</td>\n",
       "      <td>NaN</td>\n",
       "      <td>NaN</td>\n",
       "      <td>NaN</td>\n",
       "      <td>NaN</td>\n",
       "    </tr>\n",
       "  </tbody>\n",
       "</table>\n",
       "</div>"
      ],
      "text/plain": [
       "       Category  DER (St.)  Operating Profit Margin (St.)  Sales Growth (St.)  \\\n",
       "count       0.0        0.0                            0.0                 0.0   \n",
       "mean        NaN        NaN                            NaN                 NaN   \n",
       "std         NaN        NaN                            NaN                 NaN   \n",
       "min         NaN        NaN                            NaN                 NaN   \n",
       "25%         NaN        NaN                            NaN                 NaN   \n",
       "50%         NaN        NaN                            NaN                 NaN   \n",
       "75%         NaN        NaN                            NaN                 NaN   \n",
       "max         NaN        NaN                            NaN                 NaN   \n",
       "\n",
       "       DER  Operating Profit Margin  ROA  Sales Growth  \n",
       "count  0.0                      0.0  0.0           0.0  \n",
       "mean   NaN                      NaN  NaN           NaN  \n",
       "std    NaN                      NaN  NaN           NaN  \n",
       "min    NaN                      NaN  NaN           NaN  \n",
       "25%    NaN                      NaN  NaN           NaN  \n",
       "50%    NaN                      NaN  NaN           NaN  \n",
       "75%    NaN                      NaN  NaN           NaN  \n",
       "max    NaN                      NaN  NaN           NaN  "
      ]
     },
     "execution_count": 36,
     "metadata": {},
     "output_type": "execute_result"
    }
   ],
   "source": [
    "#Highly Positively Impacted\n",
    "df[df['Category'] == 0].describe() "
   ]
  }
 ],
 "metadata": {
  "kernelspec": {
   "display_name": "Python 3",
   "language": "python",
   "name": "python3"
  },
  "language_info": {
   "codemirror_mode": {
    "name": "ipython",
    "version": 3
   },
   "file_extension": ".py",
   "mimetype": "text/x-python",
   "name": "python",
   "nbconvert_exporter": "python",
   "pygments_lexer": "ipython3",
   "version": "3.7.12"
  },
  "papermill": {
   "default_parameters": {},
   "duration": 70.828329,
   "end_time": "2022-04-20T04:42:06.466363",
   "environment_variables": {},
   "exception": null,
   "input_path": "__notebook__.ipynb",
   "output_path": "__notebook__.ipynb",
   "parameters": {},
   "start_time": "2022-04-20T04:40:55.638034",
   "version": "2.3.4"
  }
 },
 "nbformat": 4,
 "nbformat_minor": 5
}
