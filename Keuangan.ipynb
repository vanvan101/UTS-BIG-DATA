{
 "cells": [
  {
   "cell_type": "code",
   "execution_count": 1,
   "id": "f5b95a9a",
   "metadata": {
    "_cell_guid": "b1076dfc-b9ad-4769-8c92-a6c4dae69d19",
    "_uuid": "8f2839f25d086af736a60e9eeb907d3b93b6e0e5",
    "execution": {
     "iopub.execute_input": "2022-04-17T13:13:07.711808Z",
     "iopub.status.busy": "2022-04-17T13:13:07.711146Z",
     "iopub.status.idle": "2022-04-17T13:13:07.732485Z",
     "shell.execute_reply": "2022-04-17T13:13:07.731205Z"
    },
    "papermill": {
     "duration": 0.074649,
     "end_time": "2022-04-17T13:13:07.735673",
     "exception": false,
     "start_time": "2022-04-17T13:13:07.661024",
     "status": "completed"
    },
    "tags": []
   },
   "outputs": [
    {
     "name": "stdout",
     "output_type": "stream",
     "text": [
      "/kaggle/input/keuangan/KEUANGAN VANNO.csv\n",
      "/kaggle/input/keuangan/Emittenlist vanno.csv\n"
     ]
    }
   ],
   "source": [
    "# This Python 3 environment comes with many helpful analytics libraries installed\n",
    "# It is defined by the kaggle/python Docker image: https://github.com/kaggle/docker-python\n",
    "# For example, here's several helpful packages to load\n",
    "\n",
    "import numpy as np # linear algebra\n",
    "import pandas as pd # data processing, CSV file I/O (e.g. pd.read_csv)\n",
    "\n",
    "# Input data files are available in the read-only \"../input/\" directory\n",
    "# For example, running this (by clicking run or pressing Shift+Enter) will list all files under the input directory\n",
    "\n",
    "import os\n",
    "for dirname, _, filenames in os.walk('/kaggle/input'):\n",
    "    for filename in filenames:\n",
    "        print(os.path.join(dirname, filename))\n",
    "\n",
    "# You can write up to 20GB to the current directory (/kaggle/working/) that gets preserved as output when you create a version using \"Save & Run All\" \n",
    "# You can also write temporary files to /kaggle/temp/, but they won't be saved outside of the current session"
   ]
  },
  {
   "cell_type": "code",
   "execution_count": 2,
   "id": "35ada96c",
   "metadata": {
    "execution": {
     "iopub.execute_input": "2022-04-17T13:13:07.823673Z",
     "iopub.status.busy": "2022-04-17T13:13:07.823369Z",
     "iopub.status.idle": "2022-04-17T13:13:08.768198Z",
     "shell.execute_reply": "2022-04-17T13:13:08.767468Z"
    },
    "papermill": {
     "duration": 0.989982,
     "end_time": "2022-04-17T13:13:08.770644",
     "exception": false,
     "start_time": "2022-04-17T13:13:07.780662",
     "status": "completed"
    },
    "tags": []
   },
   "outputs": [],
   "source": [
    "import pandas as pd \n",
    "import numpy as np\n",
    "import matplotlib.pyplot as plt\n",
    "import seaborn as sns\n",
    "from matplotlib.colors import ListedColormap\n",
    "%matplotlib inline\n",
    "from scipy import stats"
   ]
  },
  {
   "cell_type": "code",
   "execution_count": 3,
   "id": "4522746f",
   "metadata": {
    "execution": {
     "iopub.execute_input": "2022-04-17T13:13:08.856335Z",
     "iopub.status.busy": "2022-04-17T13:13:08.855998Z",
     "iopub.status.idle": "2022-04-17T13:13:08.886322Z",
     "shell.execute_reply": "2022-04-17T13:13:08.885548Z"
    },
    "papermill": {
     "duration": 0.076923,
     "end_time": "2022-04-17T13:13:08.888798",
     "exception": false,
     "start_time": "2022-04-17T13:13:08.811875",
     "status": "completed"
    },
    "tags": []
   },
   "outputs": [
    {
     "name": "stdout",
     "output_type": "stream",
     "text": [
      "<class 'pandas.core.frame.DataFrame'>\n",
      "RangeIndex: 6 entries, 0 to 5\n",
      "Data columns (total 6 columns):\n",
      " #   Column                   Non-Null Count  Dtype  \n",
      "---  ------                   --------------  -----  \n",
      " 0   Emitten                  6 non-null      object \n",
      " 1   DER                      6 non-null      float64\n",
      " 2   Operating Profit Margin  6 non-null      float64\n",
      " 3   Return On Asset          6 non-null      float64\n",
      " 4   Sales Growth             6 non-null      int64  \n",
      " 5   Category                 0 non-null      float64\n",
      "dtypes: float64(4), int64(1), object(1)\n",
      "memory usage: 416.0+ bytes\n"
     ]
    }
   ],
   "source": [
    "df0 = pd.read_csv('../input/keuangan/KEUANGAN VANNO.csv')\n",
    "df0.info()"
   ]
  },
  {
   "cell_type": "code",
   "execution_count": 4,
   "id": "8995f9fd",
   "metadata": {
    "execution": {
     "iopub.execute_input": "2022-04-17T13:13:08.974725Z",
     "iopub.status.busy": "2022-04-17T13:13:08.974438Z",
     "iopub.status.idle": "2022-04-17T13:13:09.010502Z",
     "shell.execute_reply": "2022-04-17T13:13:09.009819Z"
    },
    "papermill": {
     "duration": 0.081656,
     "end_time": "2022-04-17T13:13:09.012406",
     "exception": false,
     "start_time": "2022-04-17T13:13:08.930750",
     "status": "completed"
    },
    "tags": []
   },
   "outputs": [
    {
     "data": {
      "text/html": [
       "<div>\n",
       "<style scoped>\n",
       "    .dataframe tbody tr th:only-of-type {\n",
       "        vertical-align: middle;\n",
       "    }\n",
       "\n",
       "    .dataframe tbody tr th {\n",
       "        vertical-align: top;\n",
       "    }\n",
       "\n",
       "    .dataframe thead th {\n",
       "        text-align: right;\n",
       "    }\n",
       "</style>\n",
       "<table border=\"1\" class=\"dataframe\">\n",
       "  <thead>\n",
       "    <tr style=\"text-align: right;\">\n",
       "      <th></th>\n",
       "      <th>DER</th>\n",
       "      <th>Operating Profit Margin</th>\n",
       "      <th>Return On Asset</th>\n",
       "      <th>Sales Growth</th>\n",
       "      <th>Category</th>\n",
       "    </tr>\n",
       "  </thead>\n",
       "  <tbody>\n",
       "    <tr>\n",
       "      <th>count</th>\n",
       "      <td>6.000000</td>\n",
       "      <td>6.000000</td>\n",
       "      <td>6.000000</td>\n",
       "      <td>6.000000e+00</td>\n",
       "      <td>0.0</td>\n",
       "    </tr>\n",
       "    <tr>\n",
       "      <th>mean</th>\n",
       "      <td>0.431306</td>\n",
       "      <td>0.245260</td>\n",
       "      <td>10.061684</td>\n",
       "      <td>1.216128e+10</td>\n",
       "      <td>NaN</td>\n",
       "    </tr>\n",
       "    <tr>\n",
       "      <th>std</th>\n",
       "      <td>0.357947</td>\n",
       "      <td>0.205069</td>\n",
       "      <td>11.432641</td>\n",
       "      <td>1.858810e+10</td>\n",
       "      <td>NaN</td>\n",
       "    </tr>\n",
       "    <tr>\n",
       "      <th>min</th>\n",
       "      <td>0.011285</td>\n",
       "      <td>0.067262</td>\n",
       "      <td>0.008183</td>\n",
       "      <td>-1.562430e+08</td>\n",
       "      <td>NaN</td>\n",
       "    </tr>\n",
       "    <tr>\n",
       "      <th>25%</th>\n",
       "      <td>0.284419</td>\n",
       "      <td>0.079833</td>\n",
       "      <td>0.011943</td>\n",
       "      <td>1.239094e+09</td>\n",
       "      <td>NaN</td>\n",
       "    </tr>\n",
       "    <tr>\n",
       "      <th>50%</th>\n",
       "      <td>0.407063</td>\n",
       "      <td>0.202636</td>\n",
       "      <td>8.128168</td>\n",
       "      <td>3.080458e+09</td>\n",
       "      <td>NaN</td>\n",
       "    </tr>\n",
       "    <tr>\n",
       "      <th>75%</th>\n",
       "      <td>0.426028</td>\n",
       "      <td>0.335348</td>\n",
       "      <td>17.945349</td>\n",
       "      <td>1.504960e+10</td>\n",
       "      <td>NaN</td>\n",
       "    </tr>\n",
       "    <tr>\n",
       "      <th>max</th>\n",
       "      <td>1.086540</td>\n",
       "      <td>0.580543</td>\n",
       "      <td>25.581305</td>\n",
       "      <td>4.729836e+10</td>\n",
       "      <td>NaN</td>\n",
       "    </tr>\n",
       "  </tbody>\n",
       "</table>\n",
       "</div>"
      ],
      "text/plain": [
       "            DER  Operating Profit Margin  Return On Asset  Sales Growth  \\\n",
       "count  6.000000                 6.000000         6.000000  6.000000e+00   \n",
       "mean   0.431306                 0.245260        10.061684  1.216128e+10   \n",
       "std    0.357947                 0.205069        11.432641  1.858810e+10   \n",
       "min    0.011285                 0.067262         0.008183 -1.562430e+08   \n",
       "25%    0.284419                 0.079833         0.011943  1.239094e+09   \n",
       "50%    0.407063                 0.202636         8.128168  3.080458e+09   \n",
       "75%    0.426028                 0.335348        17.945349  1.504960e+10   \n",
       "max    1.086540                 0.580543        25.581305  4.729836e+10   \n",
       "\n",
       "       Category  \n",
       "count       0.0  \n",
       "mean        NaN  \n",
       "std         NaN  \n",
       "min         NaN  \n",
       "25%         NaN  \n",
       "50%         NaN  \n",
       "75%         NaN  \n",
       "max         NaN  "
      ]
     },
     "execution_count": 4,
     "metadata": {},
     "output_type": "execute_result"
    }
   ],
   "source": [
    "df0.describe()"
   ]
  },
  {
   "cell_type": "code",
   "execution_count": 5,
   "id": "d28bb52d",
   "metadata": {
    "execution": {
     "iopub.execute_input": "2022-04-17T13:13:09.099575Z",
     "iopub.status.busy": "2022-04-17T13:13:09.098777Z",
     "iopub.status.idle": "2022-04-17T13:13:09.104651Z",
     "shell.execute_reply": "2022-04-17T13:13:09.103611Z"
    },
    "papermill": {
     "duration": 0.050982,
     "end_time": "2022-04-17T13:13:09.106895",
     "exception": false,
     "start_time": "2022-04-17T13:13:09.055913",
     "status": "completed"
    },
    "tags": []
   },
   "outputs": [],
   "source": [
    "df0.drop([\"Emitten\",\"Category\"], axis=1, inplace=True)"
   ]
  },
  {
   "cell_type": "code",
   "execution_count": 6,
   "id": "cb774f3f",
   "metadata": {
    "execution": {
     "iopub.execute_input": "2022-04-17T13:13:09.209676Z",
     "iopub.status.busy": "2022-04-17T13:13:09.208584Z",
     "iopub.status.idle": "2022-04-17T13:13:11.416642Z",
     "shell.execute_reply": "2022-04-17T13:13:11.415688Z"
    },
    "papermill": {
     "duration": 2.268514,
     "end_time": "2022-04-17T13:13:11.419245",
     "exception": false,
     "start_time": "2022-04-17T13:13:09.150731",
     "status": "completed"
    },
    "tags": []
   },
   "outputs": [
    {
     "data": {
      "text/plain": [
       "<Figure size 1080x1080 with 0 Axes>"
      ]
     },
     "metadata": {},
     "output_type": "display_data"
    },
    {
     "data": {
      "image/png": "[encoded data removed]",
      "text/plain": [
       "<Figure size 540x540 with 12 Axes>"
      ]
     },
     "metadata": {
      "needs_background": "light"
     },
     "output_type": "display_data"
    }
   ],
   "source": [
    "plt.figure(figsize=(15, 15))\n",
    "sns.pairplot(df0, vars = df0.columns[1:13]);"
   ]
  },
  {
   "cell_type": "code",
   "execution_count": 7,
   "id": "322b2c71",
   "metadata": {
    "execution": {
     "iopub.execute_input": "2022-04-17T13:13:11.509047Z",
     "iopub.status.busy": "2022-04-17T13:13:11.508758Z",
     "iopub.status.idle": "2022-04-17T13:13:11.540625Z",
     "shell.execute_reply": "2022-04-17T13:13:11.539689Z"
    },
    "papermill": {
     "duration": 0.079614,
     "end_time": "2022-04-17T13:13:11.542885",
     "exception": false,
     "start_time": "2022-04-17T13:13:11.463271",
     "status": "completed"
    },
    "tags": []
   },
   "outputs": [
    {
     "data": {
      "text/html": [
       "<div>\n",
       "<style scoped>\n",
       "    .dataframe tbody tr th:only-of-type {\n",
       "        vertical-align: middle;\n",
       "    }\n",
       "\n",
       "    .dataframe tbody tr th {\n",
       "        vertical-align: top;\n",
       "    }\n",
       "\n",
       "    .dataframe thead th {\n",
       "        text-align: right;\n",
       "    }\n",
       "</style>\n",
       "<table border=\"1\" class=\"dataframe\">\n",
       "  <thead>\n",
       "    <tr style=\"text-align: right;\">\n",
       "      <th></th>\n",
       "      <th>DER</th>\n",
       "      <th>Operating Profit Margin</th>\n",
       "      <th>Return On Asset</th>\n",
       "      <th>Sales Growth</th>\n",
       "      <th>Category</th>\n",
       "    </tr>\n",
       "  </thead>\n",
       "  <tbody>\n",
       "    <tr>\n",
       "      <th>count</th>\n",
       "      <td>6.000000</td>\n",
       "      <td>6.000000</td>\n",
       "      <td>6.000000</td>\n",
       "      <td>6.000000e+00</td>\n",
       "      <td>0.0</td>\n",
       "    </tr>\n",
       "    <tr>\n",
       "      <th>mean</th>\n",
       "      <td>0.431306</td>\n",
       "      <td>0.245260</td>\n",
       "      <td>10.061684</td>\n",
       "      <td>1.216128e+10</td>\n",
       "      <td>NaN</td>\n",
       "    </tr>\n",
       "    <tr>\n",
       "      <th>std</th>\n",
       "      <td>0.357947</td>\n",
       "      <td>0.205069</td>\n",
       "      <td>11.432641</td>\n",
       "      <td>1.858810e+10</td>\n",
       "      <td>NaN</td>\n",
       "    </tr>\n",
       "    <tr>\n",
       "      <th>min</th>\n",
       "      <td>0.011285</td>\n",
       "      <td>0.067262</td>\n",
       "      <td>0.008183</td>\n",
       "      <td>-1.562430e+08</td>\n",
       "      <td>NaN</td>\n",
       "    </tr>\n",
       "    <tr>\n",
       "      <th>25%</th>\n",
       "      <td>0.284419</td>\n",
       "      <td>0.079833</td>\n",
       "      <td>0.011943</td>\n",
       "      <td>1.239094e+09</td>\n",
       "      <td>NaN</td>\n",
       "    </tr>\n",
       "    <tr>\n",
       "      <th>50%</th>\n",
       "      <td>0.407063</td>\n",
       "      <td>0.202636</td>\n",
       "      <td>8.128168</td>\n",
       "      <td>3.080458e+09</td>\n",
       "      <td>NaN</td>\n",
       "    </tr>\n",
       "    <tr>\n",
       "      <th>75%</th>\n",
       "      <td>0.426028</td>\n",
       "      <td>0.335348</td>\n",
       "      <td>17.945349</td>\n",
       "      <td>1.504960e+10</td>\n",
       "      <td>NaN</td>\n",
       "    </tr>\n",
       "    <tr>\n",
       "      <th>max</th>\n",
       "      <td>1.086540</td>\n",
       "      <td>0.580543</td>\n",
       "      <td>25.581305</td>\n",
       "      <td>4.729836e+10</td>\n",
       "      <td>NaN</td>\n",
       "    </tr>\n",
       "  </tbody>\n",
       "</table>\n",
       "</div>"
      ],
      "text/plain": [
       "            DER  Operating Profit Margin  Return On Asset  Sales Growth  \\\n",
       "count  6.000000                 6.000000         6.000000  6.000000e+00   \n",
       "mean   0.431306                 0.245260        10.061684  1.216128e+10   \n",
       "std    0.357947                 0.205069        11.432641  1.858810e+10   \n",
       "min    0.011285                 0.067262         0.008183 -1.562430e+08   \n",
       "25%    0.284419                 0.079833         0.011943  1.239094e+09   \n",
       "50%    0.407063                 0.202636         8.128168  3.080458e+09   \n",
       "75%    0.426028                 0.335348        17.945349  1.504960e+10   \n",
       "max    1.086540                 0.580543        25.581305  4.729836e+10   \n",
       "\n",
       "       Category  \n",
       "count       0.0  \n",
       "mean        NaN  \n",
       "std         NaN  \n",
       "min         NaN  \n",
       "25%         NaN  \n",
       "50%         NaN  \n",
       "75%         NaN  \n",
       "max         NaN  "
      ]
     },
     "execution_count": 7,
     "metadata": {},
     "output_type": "execute_result"
    }
   ],
   "source": [
    "df0 = pd.read_csv('../input/keuangan/KEUANGAN VANNO.csv')\n",
    "df1 = df0[['DER','Operating Profit Margin' ,'Return On Asset','Sales Growth','Category']]\n",
    "df1.describe()"
   ]
  },
  {
   "cell_type": "code",
   "execution_count": 8,
   "id": "99034407",
   "metadata": {
    "execution": {
     "iopub.execute_input": "2022-04-17T13:13:11.633494Z",
     "iopub.status.busy": "2022-04-17T13:13:11.632756Z",
     "iopub.status.idle": "2022-04-17T13:13:11.845447Z",
     "shell.execute_reply": "2022-04-17T13:13:11.844497Z"
    },
    "papermill": {
     "duration": 0.26059,
     "end_time": "2022-04-17T13:13:11.847609",
     "exception": false,
     "start_time": "2022-04-17T13:13:11.587019",
     "status": "completed"
    },
    "tags": []
   },
   "outputs": [
    {
     "data": {
      "text/plain": [
       "<AxesSubplot:xlabel='Emitten', ylabel='Operating Profit Margin'>"
      ]
     },
     "execution_count": 8,
     "metadata": {},
     "output_type": "execute_result"
    },
    {
     "data": {
      "image/png": "[encoded data removed]",
      "text/plain": [
       "<Figure size 1296x288 with 1 Axes>"
      ]
     },
     "metadata": {
      "needs_background": "light"
     },
     "output_type": "display_data"
    }
   ],
   "source": [
    "plt.figure(figsize=(18, 4))\n",
    "plt.xticks(rotation=45)\n",
    "sns.scatterplot(x='Emitten', y='Operating Profit Margin', \n",
    "                data=df0, s=80)"
   ]
  },
  {
   "cell_type": "code",
   "execution_count": 9,
   "id": "6bf78da2",
   "metadata": {
    "execution": {
     "iopub.execute_input": "2022-04-17T13:13:11.940955Z",
     "iopub.status.busy": "2022-04-17T13:13:11.940331Z",
     "iopub.status.idle": "2022-04-17T13:13:12.294040Z",
     "shell.execute_reply": "2022-04-17T13:13:12.292935Z"
    },
    "papermill": {
     "duration": 0.402854,
     "end_time": "2022-04-17T13:13:12.296176",
     "exception": false,
     "start_time": "2022-04-17T13:13:11.893322",
     "status": "completed"
    },
    "tags": []
   },
   "outputs": [
    {
     "data": {
      "text/plain": [
       "<AxesSubplot:xlabel='Emitten', ylabel='DER'>"
      ]
     },
     "execution_count": 9,
     "metadata": {},
     "output_type": "execute_result"
    },
    {
     "data": {
      "image/png": "[encoded data removed]",
      "text/plain": [
       "<Figure size 1296x288 with 1 Axes>"
      ]
     },
     "metadata": {
      "needs_background": "light"
     },
     "output_type": "display_data"
    }
   ],
   "source": [
    "plt.figure(figsize=(18, 4))\n",
    "plt.xticks(rotation=45)\n",
    "sns.scatterplot(x='Emitten', y='DER', \n",
    "                data=df0, s=80)"
   ]
  },
  {
   "cell_type": "code",
   "execution_count": 10,
   "id": "0fb55e16",
   "metadata": {
    "execution": {
     "iopub.execute_input": "2022-04-17T13:13:12.393203Z",
     "iopub.status.busy": "2022-04-17T13:13:12.392690Z",
     "iopub.status.idle": "2022-04-17T13:13:12.633427Z",
     "shell.execute_reply": "2022-04-17T13:13:12.632439Z"
    },
    "papermill": {
     "duration": 0.292251,
     "end_time": "2022-04-17T13:13:12.635622",
     "exception": false,
     "start_time": "2022-04-17T13:13:12.343371",
     "status": "completed"
    },
    "tags": []
   },
   "outputs": [
    {
     "data": {
      "text/plain": [
       "<AxesSubplot:xlabel='Emitten', ylabel='Sales Growth'>"
      ]
     },
     "execution_count": 10,
     "metadata": {},
     "output_type": "execute_result"
    },
    {
     "data": {
      "image/png": "[encoded data removed]",
      "text/plain": [
       "<Figure size 1296x288 with 1 Axes>"
      ]
     },
     "metadata": {
      "needs_background": "light"
     },
     "output_type": "display_data"
    }
   ],
   "source": [
    "plt.figure(figsize=(18, 4))\n",
    "plt.xticks(rotation=45)\n",
    "sns.scatterplot(x='Emitten', y='Sales Growth', \n",
    "                data=df0, s=80)"
   ]
  },
  {
   "cell_type": "code",
   "execution_count": 11,
   "id": "8e01cce4",
   "metadata": {
    "execution": {
     "iopub.execute_input": "2022-04-17T13:13:12.735129Z",
     "iopub.status.busy": "2022-04-17T13:13:12.734821Z",
     "iopub.status.idle": "2022-04-17T13:13:12.746178Z",
     "shell.execute_reply": "2022-04-17T13:13:12.745236Z"
    },
    "papermill": {
     "duration": 0.064403,
     "end_time": "2022-04-17T13:13:12.748970",
     "exception": false,
     "start_time": "2022-04-17T13:13:12.684567",
     "status": "completed"
    },
    "tags": []
   },
   "outputs": [
    {
     "name": "stdout",
     "output_type": "stream",
     "text": [
      "Jumlah baris sebelum memfilter outlier: 6\n",
      "Jumlah baris setelah memfilter outlier: 6\n"
     ]
    }
   ],
   "source": [
    "print(f'Jumlah baris sebelum memfilter outlier: {len(df1)}')\n",
    "\n",
    "filtered_entries = np.array([False] * len(df1))\n",
    "for col in ['Operating Profit Margin']:\n",
    "    zscore = abs(stats.zscore(df1[col]))\n",
    "    filtered_entries = (zscore < 3) | filtered_entries\n",
    "    \n",
    "df1 = df1[filtered_entries]\n",
    "\n",
    "print(f'Jumlah baris setelah memfilter outlier: {len(df1)}')"
   ]
  },
  {
   "cell_type": "code",
   "execution_count": 12,
   "id": "b5a48bec",
   "metadata": {
    "execution": {
     "iopub.execute_input": "2022-04-17T13:13:12.849744Z",
     "iopub.status.busy": "2022-04-17T13:13:12.849230Z",
     "iopub.status.idle": "2022-04-17T13:13:12.876014Z",
     "shell.execute_reply": "2022-04-17T13:13:12.875342Z"
    },
    "papermill": {
     "duration": 0.079643,
     "end_time": "2022-04-17T13:13:12.877975",
     "exception": false,
     "start_time": "2022-04-17T13:13:12.798332",
     "status": "completed"
    },
    "tags": []
   },
   "outputs": [
    {
     "data": {
      "text/html": [
       "<div>\n",
       "<style scoped>\n",
       "    .dataframe tbody tr th:only-of-type {\n",
       "        vertical-align: middle;\n",
       "    }\n",
       "\n",
       "    .dataframe tbody tr th {\n",
       "        vertical-align: top;\n",
       "    }\n",
       "\n",
       "    .dataframe thead th {\n",
       "        text-align: right;\n",
       "    }\n",
       "</style>\n",
       "<table border=\"1\" class=\"dataframe\">\n",
       "  <thead>\n",
       "    <tr style=\"text-align: right;\">\n",
       "      <th></th>\n",
       "      <th>DER</th>\n",
       "      <th>Operating Profit Margin</th>\n",
       "      <th>Return On Asset</th>\n",
       "      <th>Sales Growth</th>\n",
       "      <th>Category</th>\n",
       "    </tr>\n",
       "  </thead>\n",
       "  <tbody>\n",
       "    <tr>\n",
       "      <th>count</th>\n",
       "      <td>6.000000</td>\n",
       "      <td>6.000000</td>\n",
       "      <td>6.000000</td>\n",
       "      <td>6.000000e+00</td>\n",
       "      <td>0.0</td>\n",
       "    </tr>\n",
       "    <tr>\n",
       "      <th>mean</th>\n",
       "      <td>0.431306</td>\n",
       "      <td>0.245260</td>\n",
       "      <td>10.061684</td>\n",
       "      <td>1.216128e+10</td>\n",
       "      <td>NaN</td>\n",
       "    </tr>\n",
       "    <tr>\n",
       "      <th>std</th>\n",
       "      <td>0.357947</td>\n",
       "      <td>0.205069</td>\n",
       "      <td>11.432641</td>\n",
       "      <td>1.858810e+10</td>\n",
       "      <td>NaN</td>\n",
       "    </tr>\n",
       "    <tr>\n",
       "      <th>min</th>\n",
       "      <td>0.011285</td>\n",
       "      <td>0.067262</td>\n",
       "      <td>0.008183</td>\n",
       "      <td>-1.562430e+08</td>\n",
       "      <td>NaN</td>\n",
       "    </tr>\n",
       "    <tr>\n",
       "      <th>25%</th>\n",
       "      <td>0.284419</td>\n",
       "      <td>0.079833</td>\n",
       "      <td>0.011943</td>\n",
       "      <td>1.239094e+09</td>\n",
       "      <td>NaN</td>\n",
       "    </tr>\n",
       "    <tr>\n",
       "      <th>50%</th>\n",
       "      <td>0.407063</td>\n",
       "      <td>0.202636</td>\n",
       "      <td>8.128168</td>\n",
       "      <td>3.080458e+09</td>\n",
       "      <td>NaN</td>\n",
       "    </tr>\n",
       "    <tr>\n",
       "      <th>75%</th>\n",
       "      <td>0.426028</td>\n",
       "      <td>0.335348</td>\n",
       "      <td>17.945349</td>\n",
       "      <td>1.504960e+10</td>\n",
       "      <td>NaN</td>\n",
       "    </tr>\n",
       "    <tr>\n",
       "      <th>max</th>\n",
       "      <td>1.086540</td>\n",
       "      <td>0.580543</td>\n",
       "      <td>25.581305</td>\n",
       "      <td>4.729836e+10</td>\n",
       "      <td>NaN</td>\n",
       "    </tr>\n",
       "  </tbody>\n",
       "</table>\n",
       "</div>"
      ],
      "text/plain": [
       "            DER  Operating Profit Margin  Return On Asset  Sales Growth  \\\n",
       "count  6.000000                 6.000000         6.000000  6.000000e+00   \n",
       "mean   0.431306                 0.245260        10.061684  1.216128e+10   \n",
       "std    0.357947                 0.205069        11.432641  1.858810e+10   \n",
       "min    0.011285                 0.067262         0.008183 -1.562430e+08   \n",
       "25%    0.284419                 0.079833         0.011943  1.239094e+09   \n",
       "50%    0.407063                 0.202636         8.128168  3.080458e+09   \n",
       "75%    0.426028                 0.335348        17.945349  1.504960e+10   \n",
       "max    1.086540                 0.580543        25.581305  4.729836e+10   \n",
       "\n",
       "       Category  \n",
       "count       0.0  \n",
       "mean        NaN  \n",
       "std         NaN  \n",
       "min         NaN  \n",
       "25%         NaN  \n",
       "50%         NaN  \n",
       "75%         NaN  \n",
       "max         NaN  "
      ]
     },
     "execution_count": 12,
     "metadata": {},
     "output_type": "execute_result"
    }
   ],
   "source": [
    "df1.describe()"
   ]
  },
  {
   "cell_type": "code",
   "execution_count": 13,
   "id": "32ad5f80",
   "metadata": {
    "execution": {
     "iopub.execute_input": "2022-04-17T13:13:12.979134Z",
     "iopub.status.busy": "2022-04-17T13:13:12.978616Z",
     "iopub.status.idle": "2022-04-17T13:13:13.116398Z",
     "shell.execute_reply": "2022-04-17T13:13:13.115420Z"
    },
    "papermill": {
     "duration": 0.1913,
     "end_time": "2022-04-17T13:13:13.118651",
     "exception": false,
     "start_time": "2022-04-17T13:13:12.927351",
     "status": "completed"
    },
    "tags": []
   },
   "outputs": [
    {
     "data": {
      "text/html": [
       "<div>\n",
       "<style scoped>\n",
       "    .dataframe tbody tr th:only-of-type {\n",
       "        vertical-align: middle;\n",
       "    }\n",
       "\n",
       "    .dataframe tbody tr th {\n",
       "        vertical-align: top;\n",
       "    }\n",
       "\n",
       "    .dataframe thead th {\n",
       "        text-align: right;\n",
       "    }\n",
       "</style>\n",
       "<table border=\"1\" class=\"dataframe\">\n",
       "  <thead>\n",
       "    <tr style=\"text-align: right;\">\n",
       "      <th></th>\n",
       "      <th>DER</th>\n",
       "      <th>Operating Profit Margin</th>\n",
       "      <th>Sales Growth</th>\n",
       "    </tr>\n",
       "  </thead>\n",
       "  <tbody>\n",
       "    <tr>\n",
       "      <th>count</th>\n",
       "      <td>6.000000e+00</td>\n",
       "      <td>6.000000e+00</td>\n",
       "      <td>6.000000e+00</td>\n",
       "    </tr>\n",
       "    <tr>\n",
       "      <th>mean</th>\n",
       "      <td>2.960595e-16</td>\n",
       "      <td>-1.480297e-16</td>\n",
       "      <td>-7.401487e-17</td>\n",
       "    </tr>\n",
       "    <tr>\n",
       "      <th>std</th>\n",
       "      <td>1.095445e+00</td>\n",
       "      <td>1.095445e+00</td>\n",
       "      <td>1.095445e+00</td>\n",
       "    </tr>\n",
       "    <tr>\n",
       "      <th>min</th>\n",
       "      <td>-1.285412e+00</td>\n",
       "      <td>-9.508366e-01</td>\n",
       "      <td>-7.259034e-01</td>\n",
       "    </tr>\n",
       "    <tr>\n",
       "      <th>25%</th>\n",
       "      <td>-4.495262e-01</td>\n",
       "      <td>-8.836872e-01</td>\n",
       "      <td>-6.436726e-01</td>\n",
       "    </tr>\n",
       "    <tr>\n",
       "      <th>50%</th>\n",
       "      <td>-7.419488e-02</td>\n",
       "      <td>-2.276921e-01</td>\n",
       "      <td>-5.351562e-01</td>\n",
       "    </tr>\n",
       "    <tr>\n",
       "      <th>75%</th>\n",
       "      <td>-1.615332e-02</td>\n",
       "      <td>4.812348e-01</td>\n",
       "      <td>1.702163e-01</td>\n",
       "    </tr>\n",
       "    <tr>\n",
       "      <th>max</th>\n",
       "      <td>2.005245e+00</td>\n",
       "      <td>1.791029e+00</td>\n",
       "      <td>2.070720e+00</td>\n",
       "    </tr>\n",
       "  </tbody>\n",
       "</table>\n",
       "</div>"
      ],
      "text/plain": [
       "                DER  Operating Profit Margin  Sales Growth\n",
       "count  6.000000e+00             6.000000e+00  6.000000e+00\n",
       "mean   2.960595e-16            -1.480297e-16 -7.401487e-17\n",
       "std    1.095445e+00             1.095445e+00  1.095445e+00\n",
       "min   -1.285412e+00            -9.508366e-01 -7.259034e-01\n",
       "25%   -4.495262e-01            -8.836872e-01 -6.436726e-01\n",
       "50%   -7.419488e-02            -2.276921e-01 -5.351562e-01\n",
       "75%   -1.615332e-02             4.812348e-01  1.702163e-01\n",
       "max    2.005245e+00             1.791029e+00  2.070720e+00"
      ]
     },
     "execution_count": 13,
     "metadata": {},
     "output_type": "execute_result"
    }
   ],
   "source": [
    "feats = ['DER','Operating Profit Margin','Sales Growth']\n",
    "X = df1[feats].values\n",
    "y = df1['Category'].values\n",
    "\n",
    "from sklearn.preprocessing import StandardScaler\n",
    "X_std = StandardScaler().fit_transform(X)\n",
    "new_df = pd.DataFrame(data = X_std, columns = feats)\n",
    "new_df.describe()"
   ]
  },
  {
   "cell_type": "code",
   "execution_count": 14,
   "id": "bafd2d13",
   "metadata": {
    "execution": {
     "iopub.execute_input": "2022-04-17T13:13:13.221320Z",
     "iopub.status.busy": "2022-04-17T13:13:13.221003Z",
     "iopub.status.idle": "2022-04-17T13:13:13.441617Z",
     "shell.execute_reply": "2022-04-17T13:13:13.440559Z"
    },
    "papermill": {
     "duration": 0.274627,
     "end_time": "2022-04-17T13:13:13.443982",
     "exception": false,
     "start_time": "2022-04-17T13:13:13.169355",
     "status": "completed"
    },
    "tags": []
   },
   "outputs": [],
   "source": [
    "from sklearn.cluster import KMeans\n",
    "wcss=[]"
   ]
  },
  {
   "cell_type": "code",
   "execution_count": 15,
   "id": "e4fb89a1",
   "metadata": {
    "execution": {
     "iopub.execute_input": "2022-04-17T13:13:13.546719Z",
     "iopub.status.busy": "2022-04-17T13:13:13.546105Z",
     "iopub.status.idle": "2022-04-17T13:13:13.552827Z",
     "shell.execute_reply": "2022-04-17T13:13:13.551840Z"
    },
    "papermill": {
     "duration": 0.060473,
     "end_time": "2022-04-17T13:13:13.554984",
     "exception": false,
     "start_time": "2022-04-17T13:13:13.494511",
     "status": "completed"
    },
    "tags": []
   },
   "outputs": [
    {
     "data": {
      "text/plain": [
       "(6, 6)"
      ]
     },
     "execution_count": 15,
     "metadata": {},
     "output_type": "execute_result"
    }
   ],
   "source": [
    "df0.shape"
   ]
  },
  {
   "cell_type": "code",
   "execution_count": 16,
   "id": "952435a5",
   "metadata": {
    "execution": {
     "iopub.execute_input": "2022-04-17T13:13:13.658081Z",
     "iopub.status.busy": "2022-04-17T13:13:13.657540Z",
     "iopub.status.idle": "2022-04-17T13:13:14.198383Z",
     "shell.execute_reply": "2022-04-17T13:13:14.197225Z"
    },
    "papermill": {
     "duration": 0.596152,
     "end_time": "2022-04-17T13:13:14.201576",
     "exception": false,
     "start_time": "2022-04-17T13:13:13.605424",
     "status": "completed"
    },
    "tags": []
   },
   "outputs": [
    {
     "data": {
      "text/plain": [
       "[<matplotlib.lines.Line2D at 0x7f1bad67ddd0>]"
      ]
     },
     "execution_count": 16,
     "metadata": {},
     "output_type": "execute_result"
    },
    {
     "data": {
      "image/png": "[encoded data removed]",
      "text/plain": [
       "<Figure size 864x432 with 1 Axes>"
      ]
     },
     "metadata": {
      "needs_background": "light"
     },
     "output_type": "display_data"
    }
   ],
   "source": [
    "from sklearn.cluster import KMeans\n",
    "inertia = []\n",
    "\n",
    "for i in range(1, 7):\n",
    "  kmeans = KMeans(n_clusters=i, init='k-means++', max_iter=300, n_init=10, random_state=0)\n",
    "  kmeans.fit(new_df.values)\n",
    "  inertia.append(kmeans.inertia_)\n",
    "\n",
    "plt.figure(figsize=(12, 6))\n",
    "plt.plot(inertia) #Elbow Method"
   ]
  },
  {
   "cell_type": "code",
   "execution_count": 17,
   "id": "4503eaeb",
   "metadata": {
    "execution": {
     "iopub.execute_input": "2022-04-17T13:13:14.311402Z",
     "iopub.status.busy": "2022-04-17T13:13:14.311026Z",
     "iopub.status.idle": "2022-04-17T13:13:14.439419Z",
     "shell.execute_reply": "2022-04-17T13:13:14.438516Z"
    },
    "papermill": {
     "duration": 0.184224,
     "end_time": "2022-04-17T13:13:14.441868",
     "exception": false,
     "start_time": "2022-04-17T13:13:14.257644",
     "status": "completed"
    },
    "tags": []
   },
   "outputs": [
    {
     "data": {
      "text/plain": [
       "KMeans(n_clusters=2, random_state=0)"
      ]
     },
     "execution_count": 17,
     "metadata": {},
     "output_type": "execute_result"
    }
   ],
   "source": [
    "from sklearn.cluster import KMeans\n",
    "kmeans = KMeans(n_clusters=2, init='k-means++', max_iter=300, n_init=10, random_state=0)\n",
    "kmeans.fit(new_df.values)"
   ]
  },
  {
   "cell_type": "code",
   "execution_count": 18,
   "id": "89d6c822",
   "metadata": {
    "execution": {
     "iopub.execute_input": "2022-04-17T13:13:14.565213Z",
     "iopub.status.busy": "2022-04-17T13:13:14.564663Z",
     "iopub.status.idle": "2022-04-17T13:13:14.571448Z",
     "shell.execute_reply": "2022-04-17T13:13:14.570491Z"
    },
    "papermill": {
     "duration": 0.069757,
     "end_time": "2022-04-17T13:13:14.573966",
     "exception": false,
     "start_time": "2022-04-17T13:13:14.504209",
     "status": "completed"
    },
    "tags": []
   },
   "outputs": [],
   "source": [
    "new_df['target'] = y\n",
    "new_df['fit'] = kmeans.labels_"
   ]
  },
  {
   "cell_type": "code",
   "execution_count": 19,
   "id": "b0399cf9",
   "metadata": {
    "execution": {
     "iopub.execute_input": "2022-04-17T13:13:14.683350Z",
     "iopub.status.busy": "2022-04-17T13:13:14.682937Z",
     "iopub.status.idle": "2022-04-17T13:13:14.952269Z",
     "shell.execute_reply": "2022-04-17T13:13:14.951106Z"
    },
    "papermill": {
     "duration": 0.327507,
     "end_time": "2022-04-17T13:13:14.955152",
     "exception": false,
     "start_time": "2022-04-17T13:13:14.627645",
     "status": "completed"
    },
    "tags": []
   },
   "outputs": [
    {
     "data": {
      "image/png": "[encoded data removed]",
      "text/plain": [
       "<Figure size 576x576 with 1 Axes>"
      ]
     },
     "metadata": {
      "needs_background": "light"
     },
     "output_type": "display_data"
    }
   ],
   "source": [
    "plt.rcParams[\"figure.figsize\"] = (8, 8)\n",
    "sns.scatterplot(x='DER', y='Operating Profit Margin', hue=new_df.target.to_list(), data=new_df);"
   ]
  },
  {
   "cell_type": "code",
   "execution_count": 20,
   "id": "aebc9144",
   "metadata": {
    "execution": {
     "iopub.execute_input": "2022-04-17T13:13:15.071816Z",
     "iopub.status.busy": "2022-04-17T13:13:15.071540Z",
     "iopub.status.idle": "2022-04-17T13:13:15.084544Z",
     "shell.execute_reply": "2022-04-17T13:13:15.083560Z"
    },
    "papermill": {
     "duration": 0.072439,
     "end_time": "2022-04-17T13:13:15.088404",
     "exception": false,
     "start_time": "2022-04-17T13:13:15.015965",
     "status": "completed"
    },
    "tags": []
   },
   "outputs": [
    {
     "data": {
      "text/html": [
       "<div>\n",
       "<style scoped>\n",
       "    .dataframe tbody tr th:only-of-type {\n",
       "        vertical-align: middle;\n",
       "    }\n",
       "\n",
       "    .dataframe tbody tr th {\n",
       "        vertical-align: top;\n",
       "    }\n",
       "\n",
       "    .dataframe thead th {\n",
       "        text-align: right;\n",
       "    }\n",
       "</style>\n",
       "<table border=\"1\" class=\"dataframe\">\n",
       "  <thead>\n",
       "    <tr style=\"text-align: right;\">\n",
       "      <th></th>\n",
       "      <th>DER</th>\n",
       "      <th>Operating Profit Margin</th>\n",
       "      <th>Sales Growth</th>\n",
       "      <th>target</th>\n",
       "      <th>fit</th>\n",
       "    </tr>\n",
       "  </thead>\n",
       "  <tbody>\n",
       "    <tr>\n",
       "      <th>0</th>\n",
       "      <td>-1.285412</td>\n",
       "      <td>-0.906479</td>\n",
       "      <td>-0.514349</td>\n",
       "      <td>NaN</td>\n",
       "      <td>0</td>\n",
       "    </tr>\n",
       "    <tr>\n",
       "      <th>1</th>\n",
       "      <td>-0.129583</td>\n",
       "      <td>-0.950837</td>\n",
       "      <td>-0.555964</td>\n",
       "      <td>NaN</td>\n",
       "      <td>0</td>\n",
       "    </tr>\n",
       "    <tr>\n",
       "      <th>2</th>\n",
       "      <td>-0.015269</td>\n",
       "      <td>-0.815311</td>\n",
       "      <td>2.070720</td>\n",
       "      <td>NaN</td>\n",
       "      <td>0</td>\n",
       "    </tr>\n",
       "    <tr>\n",
       "      <th>3</th>\n",
       "      <td>-0.556174</td>\n",
       "      <td>0.521671</td>\n",
       "      <td>-0.725903</td>\n",
       "      <td>NaN</td>\n",
       "      <td>0</td>\n",
       "    </tr>\n",
       "    <tr>\n",
       "      <th>4</th>\n",
       "      <td>-0.018807</td>\n",
       "      <td>0.359927</td>\n",
       "      <td>0.398405</td>\n",
       "      <td>NaN</td>\n",
       "      <td>0</td>\n",
       "    </tr>\n",
       "  </tbody>\n",
       "</table>\n",
       "</div>"
      ],
      "text/plain": [
       "        DER  Operating Profit Margin  Sales Growth  target  fit\n",
       "0 -1.285412                -0.906479     -0.514349     NaN    0\n",
       "1 -0.129583                -0.950837     -0.555964     NaN    0\n",
       "2 -0.015269                -0.815311      2.070720     NaN    0\n",
       "3 -0.556174                 0.521671     -0.725903     NaN    0\n",
       "4 -0.018807                 0.359927      0.398405     NaN    0"
      ]
     },
     "execution_count": 20,
     "metadata": {},
     "output_type": "execute_result"
    }
   ],
   "source": [
    "new_df.head(5)"
   ]
  },
  {
   "cell_type": "code",
   "execution_count": 21,
   "id": "b97be21c",
   "metadata": {
    "execution": {
     "iopub.execute_input": "2022-04-17T13:13:15.200359Z",
     "iopub.status.busy": "2022-04-17T13:13:15.199901Z",
     "iopub.status.idle": "2022-04-17T13:13:15.223650Z",
     "shell.execute_reply": "2022-04-17T13:13:15.222744Z"
    },
    "papermill": {
     "duration": 0.08186,
     "end_time": "2022-04-17T13:13:15.226106",
     "exception": false,
     "start_time": "2022-04-17T13:13:15.144246",
     "status": "completed"
    },
    "tags": []
   },
   "outputs": [
    {
     "data": {
      "text/html": [
       "<div>\n",
       "<style scoped>\n",
       "    .dataframe tbody tr th:only-of-type {\n",
       "        vertical-align: middle;\n",
       "    }\n",
       "\n",
       "    .dataframe tbody tr th {\n",
       "        vertical-align: top;\n",
       "    }\n",
       "\n",
       "    .dataframe thead th {\n",
       "        text-align: right;\n",
       "    }\n",
       "</style>\n",
       "<table border=\"1\" class=\"dataframe\">\n",
       "  <thead>\n",
       "    <tr style=\"text-align: right;\">\n",
       "      <th></th>\n",
       "      <th>Category</th>\n",
       "      <th>DER</th>\n",
       "      <th>Operating Profit Margin</th>\n",
       "      <th>Sales Growth</th>\n",
       "      <th>target</th>\n",
       "      <th>fit</th>\n",
       "    </tr>\n",
       "  </thead>\n",
       "  <tbody>\n",
       "    <tr>\n",
       "      <th>0</th>\n",
       "      <td>2</td>\n",
       "      <td>-1.285412</td>\n",
       "      <td>-0.906479</td>\n",
       "      <td>-0.514349</td>\n",
       "      <td>NaN</td>\n",
       "      <td>0</td>\n",
       "    </tr>\n",
       "    <tr>\n",
       "      <th>1</th>\n",
       "      <td>2</td>\n",
       "      <td>-0.129583</td>\n",
       "      <td>-0.950837</td>\n",
       "      <td>-0.555964</td>\n",
       "      <td>NaN</td>\n",
       "      <td>0</td>\n",
       "    </tr>\n",
       "    <tr>\n",
       "      <th>2</th>\n",
       "      <td>2</td>\n",
       "      <td>-0.015269</td>\n",
       "      <td>-0.815311</td>\n",
       "      <td>2.070720</td>\n",
       "      <td>NaN</td>\n",
       "      <td>0</td>\n",
       "    </tr>\n",
       "    <tr>\n",
       "      <th>3</th>\n",
       "      <td>2</td>\n",
       "      <td>-0.556174</td>\n",
       "      <td>0.521671</td>\n",
       "      <td>-0.725903</td>\n",
       "      <td>NaN</td>\n",
       "      <td>0</td>\n",
       "    </tr>\n",
       "    <tr>\n",
       "      <th>4</th>\n",
       "      <td>2</td>\n",
       "      <td>-0.018807</td>\n",
       "      <td>0.359927</td>\n",
       "      <td>0.398405</td>\n",
       "      <td>NaN</td>\n",
       "      <td>0</td>\n",
       "    </tr>\n",
       "  </tbody>\n",
       "</table>\n",
       "</div>"
      ],
      "text/plain": [
       "   Category       DER  Operating Profit Margin  Sales Growth  target  fit\n",
       "0         2 -1.285412                -0.906479     -0.514349     NaN    0\n",
       "1         2 -0.129583                -0.950837     -0.555964     NaN    0\n",
       "2         2 -0.015269                -0.815311      2.070720     NaN    0\n",
       "3         2 -0.556174                 0.521671     -0.725903     NaN    0\n",
       "4         2 -0.018807                 0.359927      0.398405     NaN    0"
      ]
     },
     "execution_count": 21,
     "metadata": {},
     "output_type": "execute_result"
    }
   ],
   "source": [
    "new_df.insert(0,\"Category\",np.nan,True)\n",
    "new_df.loc[new_df['fit'] == 0, 'Category'] = 2\n",
    "new_df.loc[new_df['fit'] == 1, 'Category'] = 4\n",
    "new_df.loc[new_df['fit'] == 2, 'Category'] = 1\n",
    "new_df.loc[new_df['fit'] == 3, 'Category'] = 0\n",
    "new_df.loc[new_df['fit'] == 4, 'Category'] = 3\n",
    "new_df['Category'] = new_df['Category'].astype(int)\n",
    "new_df.head(5)"
   ]
  },
  {
   "cell_type": "code",
   "execution_count": 22,
   "id": "bbfa7776",
   "metadata": {
    "execution": {
     "iopub.execute_input": "2022-04-17T13:13:15.342724Z",
     "iopub.status.busy": "2022-04-17T13:13:15.341714Z",
     "iopub.status.idle": "2022-04-17T13:13:15.356639Z",
     "shell.execute_reply": "2022-04-17T13:13:15.355963Z"
    },
    "papermill": {
     "duration": 0.078296,
     "end_time": "2022-04-17T13:13:15.360149",
     "exception": false,
     "start_time": "2022-04-17T13:13:15.281853",
     "status": "completed"
    },
    "tags": []
   },
   "outputs": [
    {
     "name": "stdout",
     "output_type": "stream",
     "text": [
      "<class 'pandas.core.frame.DataFrame'>\n",
      "RangeIndex: 6 entries, 0 to 5\n",
      "Data columns (total 4 columns):\n",
      " #   Column                         Non-Null Count  Dtype  \n",
      "---  ------                         --------------  -----  \n",
      " 0   Category                       6 non-null      int64  \n",
      " 1   DER (St.)                      6 non-null      float64\n",
      " 2   Operating Profit Margin (St.)  6 non-null      float64\n",
      " 3   Sales Growth (St.)             6 non-null      float64\n",
      "dtypes: float64(3), int64(1)\n",
      "memory usage: 320.0 bytes\n"
     ]
    }
   ],
   "source": [
    "new_df.drop([\"fit\",\"target\"], axis=1, inplace=True)\n",
    "new_df.columns = ['Category','DER (St.)','Operating Profit Margin (St.)', 'Sales Growth (St.)']\n",
    "new_df.info()"
   ]
  },
  {
   "cell_type": "code",
   "execution_count": 23,
   "id": "55fc9dcb",
   "metadata": {
    "execution": {
     "iopub.execute_input": "2022-04-17T13:13:15.482031Z",
     "iopub.status.busy": "2022-04-17T13:13:15.481541Z",
     "iopub.status.idle": "2022-04-17T13:13:16.018915Z",
     "shell.execute_reply": "2022-04-17T13:13:16.018219Z"
    },
    "papermill": {
     "duration": 0.597726,
     "end_time": "2022-04-17T13:13:16.021273",
     "exception": false,
     "start_time": "2022-04-17T13:13:15.423547",
     "status": "completed"
    },
    "tags": []
   },
   "outputs": [
    {
     "data": {
      "image/png": "[encoded data removed]",
      "text/plain": [
       "<Figure size 576x576 with 1 Axes>"
      ]
     },
     "metadata": {
      "needs_background": "light"
     },
     "output_type": "display_data"
    }
   ],
   "source": [
    "from mpl_toolkits.mplot3d import Axes3D\n",
    "\n",
    "fig = plt.figure()\n",
    "ax = fig.add_subplot(111, projection = '3d')\n",
    "\n",
    "\n",
    "x = new_df['DER (St.)']\n",
    "y = new_df['Operating Profit Margin (St.)']\n",
    "z = new_df['Sales Growth (St.)']\n",
    "\n",
    "ax.set_xlabel(\"DER (St.)\")\n",
    "ax.set_ylabel(\"Operating Profit Margin (St.)\")\n",
    "ax.set_zlabel(\"Sales Growth (St.)\")\n",
    "\n",
    "cmap = ListedColormap(sns.color_palette(\"RdYlGn\", 256).as_hex())\n",
    "\n",
    "sc = ax.scatter(x, y, z, s=40, c=new_df['Category'], marker='o', cmap=cmap, alpha=1)\n",
    "plt.legend(*sc.legend_elements(), bbox_to_anchor=(1.05, 1), loc=2)\n",
    "\n",
    "plt.show()"
   ]
  },
  {
   "cell_type": "code",
   "execution_count": 24,
   "id": "57008f74",
   "metadata": {
    "execution": {
     "iopub.execute_input": "2022-04-17T13:13:16.138279Z",
     "iopub.status.busy": "2022-04-17T13:13:16.137777Z",
     "iopub.status.idle": "2022-04-17T13:13:16.441192Z",
     "shell.execute_reply": "2022-04-17T13:13:16.440406Z"
    },
    "papermill": {
     "duration": 0.364294,
     "end_time": "2022-04-17T13:13:16.443618",
     "exception": false,
     "start_time": "2022-04-17T13:13:16.079324",
     "status": "completed"
    },
    "tags": []
   },
   "outputs": [
    {
     "data": {
      "image/png": "[encoded data removed]",
      "text/plain": [
       "<Figure size 576x576 with 1 Axes>"
      ]
     },
     "metadata": {
      "needs_background": "light"
     },
     "output_type": "display_data"
    }
   ],
   "source": [
    "# color palette as dictionary\n",
    "palette = {0:\"tab:red\",\n",
    "           1:\"tab:orange\", \n",
    "           2:\"yellow\",\n",
    "           3:\"lime\",\n",
    "           4:\"darkgreen\"}\n",
    "\n",
    "sns.scatterplot(x='DER (St.)', y='Sales Growth (St.)', \n",
    "                hue='Category', data=new_df, s=80,\n",
    "                palette=palette)\n",
    "plt.title(\"DER vs Sales Growth (Standardisasi)\", fontsize=18, y=1.05)\n",
    "plt.show()"
   ]
  },
  {
   "cell_type": "code",
   "execution_count": 25,
   "id": "4b05496a",
   "metadata": {
    "execution": {
     "iopub.execute_input": "2022-04-17T13:13:16.563948Z",
     "iopub.status.busy": "2022-04-17T13:13:16.563376Z",
     "iopub.status.idle": "2022-04-17T13:13:16.857604Z",
     "shell.execute_reply": "2022-04-17T13:13:16.856650Z"
    },
    "papermill": {
     "duration": 0.356742,
     "end_time": "2022-04-17T13:13:16.859873",
     "exception": false,
     "start_time": "2022-04-17T13:13:16.503131",
     "status": "completed"
    },
    "tags": []
   },
   "outputs": [
    {
     "data": {
      "image/png": "[encoded data removed]",
      "text/plain": [
       "<Figure size 576x576 with 1 Axes>"
      ]
     },
     "metadata": {
      "needs_background": "light"
     },
     "output_type": "display_data"
    }
   ],
   "source": [
    "sns.scatterplot(x='Operating Profit Margin (St.)', y='Sales Growth (St.)', \n",
    "                hue='Category', data=new_df, s=80,\n",
    "                palette=palette)\n",
    "plt.title(\"Operating Profit Margin vs Sales Growth (Standardisasi)\", fontsize=18, y=1.05)\n",
    "plt.show()"
   ]
  },
  {
   "cell_type": "code",
   "execution_count": 26,
   "id": "43a46360",
   "metadata": {
    "execution": {
     "iopub.execute_input": "2022-04-17T13:13:16.978628Z",
     "iopub.status.busy": "2022-04-17T13:13:16.978063Z",
     "iopub.status.idle": "2022-04-17T13:13:17.283974Z",
     "shell.execute_reply": "2022-04-17T13:13:17.283326Z"
    },
    "papermill": {
     "duration": 0.367932,
     "end_time": "2022-04-17T13:13:17.286021",
     "exception": false,
     "start_time": "2022-04-17T13:13:16.918089",
     "status": "completed"
    },
    "tags": []
   },
   "outputs": [
    {
     "data": {
      "image/png": "[encoded data removed]",
      "text/plain": [
       "<Figure size 576x576 with 1 Axes>"
      ]
     },
     "metadata": {
      "needs_background": "light"
     },
     "output_type": "display_data"
    }
   ],
   "source": [
    "sns.scatterplot(x='DER (St.)', y='Operating Profit Margin (St.)', \n",
    "                hue='Category', data=new_df, s=80,\n",
    "                palette=palette)\n",
    "plt.title(\"DER vs Operating Profit Margin (Standardisasi)\", fontsize=18, y=1.05)\n",
    "plt.show()"
   ]
  },
  {
   "cell_type": "code",
   "execution_count": 27,
   "id": "e1b45fe2",
   "metadata": {
    "execution": {
     "iopub.execute_input": "2022-04-17T13:13:17.411863Z",
     "iopub.status.busy": "2022-04-17T13:13:17.411529Z",
     "iopub.status.idle": "2022-04-17T13:13:17.420082Z",
     "shell.execute_reply": "2022-04-17T13:13:17.419003Z"
    },
    "papermill": {
     "duration": 0.075713,
     "end_time": "2022-04-17T13:13:17.422245",
     "exception": false,
     "start_time": "2022-04-17T13:13:17.346532",
     "status": "completed"
    },
    "tags": []
   },
   "outputs": [],
   "source": [
    "# drop these row indexes\n",
    "# from dataFrame\n",
    "index_names = df0[ df0['Emitten'] == 'ARTO' ].index\n",
    "df0.drop(index_names, inplace = True)\n",
    "df0.reset_index(drop=True, inplace=True)\n",
    "df0.drop([\"Category\"\n",
    "         ], axis=1, inplace=True)"
   ]
  },
  {
   "cell_type": "code",
   "execution_count": 28,
   "id": "cf3e8e5c",
   "metadata": {
    "execution": {
     "iopub.execute_input": "2022-04-17T13:13:17.544434Z",
     "iopub.status.busy": "2022-04-17T13:13:17.544109Z",
     "iopub.status.idle": "2022-04-17T13:13:17.569782Z",
     "shell.execute_reply": "2022-04-17T13:13:17.569089Z"
    },
    "papermill": {
     "duration": 0.089046,
     "end_time": "2022-04-17T13:13:17.571665",
     "exception": false,
     "start_time": "2022-04-17T13:13:17.482619",
     "status": "completed"
    },
    "tags": []
   },
   "outputs": [
    {
     "data": {
      "text/html": [
       "<div>\n",
       "<style scoped>\n",
       "    .dataframe tbody tr th:only-of-type {\n",
       "        vertical-align: middle;\n",
       "    }\n",
       "\n",
       "    .dataframe tbody tr th {\n",
       "        vertical-align: top;\n",
       "    }\n",
       "\n",
       "    .dataframe thead th {\n",
       "        text-align: right;\n",
       "    }\n",
       "</style>\n",
       "<table border=\"1\" class=\"dataframe\">\n",
       "  <thead>\n",
       "    <tr style=\"text-align: right;\">\n",
       "      <th></th>\n",
       "      <th>Industry</th>\n",
       "      <th>Company</th>\n",
       "      <th>Category</th>\n",
       "      <th>DER (St.)</th>\n",
       "      <th>Operating Profit Margin (St.)</th>\n",
       "      <th>Sales Growth (St.)</th>\n",
       "      <th>Emitten</th>\n",
       "      <th>DER</th>\n",
       "      <th>Operating Profit Margin</th>\n",
       "      <th>Return On Asset</th>\n",
       "      <th>Sales Growth</th>\n",
       "    </tr>\n",
       "  </thead>\n",
       "  <tbody>\n",
       "    <tr>\n",
       "      <th>0</th>\n",
       "      <td>Keuangan</td>\n",
       "      <td>PT Bank Central Asia Tbk (BBCA.JK)</td>\n",
       "      <td>2</td>\n",
       "      <td>-1.285412</td>\n",
       "      <td>-0.906479</td>\n",
       "      <td>-0.514349</td>\n",
       "      <td>BBCA.JK</td>\n",
       "      <td>0.011285</td>\n",
       "      <td>0.075566</td>\n",
       "      <td>25.581305</td>\n",
       "      <td>3433532000</td>\n",
       "    </tr>\n",
       "    <tr>\n",
       "      <th>1</th>\n",
       "      <td>Keuangan</td>\n",
       "      <td>PT Bank Negara Indonesia (Persero) Tbk (BBNI.JK)</td>\n",
       "      <td>2</td>\n",
       "      <td>-0.129583</td>\n",
       "      <td>-0.950837</td>\n",
       "      <td>-0.555964</td>\n",
       "      <td>BBNI.JK</td>\n",
       "      <td>0.388964</td>\n",
       "      <td>0.067262</td>\n",
       "      <td>0.011296</td>\n",
       "      <td>2727385000</td>\n",
       "    </tr>\n",
       "    <tr>\n",
       "      <th>2</th>\n",
       "      <td>Keuangan</td>\n",
       "      <td>PT Bank Rakyat Indonesia (Persero) Tbk (BBRI.JK)</td>\n",
       "      <td>2</td>\n",
       "      <td>-0.015269</td>\n",
       "      <td>-0.815311</td>\n",
       "      <td>2.070720</td>\n",
       "      <td>BBRI.JK</td>\n",
       "      <td>0.426317</td>\n",
       "      <td>0.092633</td>\n",
       "      <td>18.512981</td>\n",
       "      <td>47298364000</td>\n",
       "    </tr>\n",
       "    <tr>\n",
       "      <th>3</th>\n",
       "      <td>Keuangan</td>\n",
       "      <td>PT Bank Danamon Indonesia Tbk (BDMN.JK)</td>\n",
       "      <td>2</td>\n",
       "      <td>-0.556174</td>\n",
       "      <td>0.521671</td>\n",
       "      <td>-0.725903</td>\n",
       "      <td>BDMN.JK</td>\n",
       "      <td>0.249571</td>\n",
       "      <td>0.342917</td>\n",
       "      <td>0.008183</td>\n",
       "      <td>-156243000</td>\n",
       "    </tr>\n",
       "    <tr>\n",
       "      <th>4</th>\n",
       "      <td>Keuangan</td>\n",
       "      <td>PT Bank Mandiri (Persero) Tbk (BMRI.JK)</td>\n",
       "      <td>2</td>\n",
       "      <td>-0.018807</td>\n",
       "      <td>0.359927</td>\n",
       "      <td>0.398405</td>\n",
       "      <td>BMRI.JK</td>\n",
       "      <td>0.425161</td>\n",
       "      <td>0.312639</td>\n",
       "      <td>16.242451</td>\n",
       "      <td>18921620000</td>\n",
       "    </tr>\n",
       "    <tr>\n",
       "      <th>5</th>\n",
       "      <td>Keuangan</td>\n",
       "      <td>PT Bank BTPN Tbk (BTPN.JK)</td>\n",
       "      <td>4</td>\n",
       "      <td>2.005245</td>\n",
       "      <td>1.791029</td>\n",
       "      <td>-0.672909</td>\n",
       "      <td>BTPN.JK</td>\n",
       "      <td>1.086540</td>\n",
       "      <td>0.580543</td>\n",
       "      <td>0.013885</td>\n",
       "      <td>742997000</td>\n",
       "    </tr>\n",
       "  </tbody>\n",
       "</table>\n",
       "</div>"
      ],
      "text/plain": [
       "   Industry                                           Company  Category  \\\n",
       "0  Keuangan                PT Bank Central Asia Tbk (BBCA.JK)         2   \n",
       "1  Keuangan  PT Bank Negara Indonesia (Persero) Tbk (BBNI.JK)         2   \n",
       "2  Keuangan  PT Bank Rakyat Indonesia (Persero) Tbk (BBRI.JK)         2   \n",
       "3  Keuangan           PT Bank Danamon Indonesia Tbk (BDMN.JK)         2   \n",
       "4  Keuangan           PT Bank Mandiri (Persero) Tbk (BMRI.JK)         2   \n",
       "5  Keuangan                        PT Bank BTPN Tbk (BTPN.JK)         4   \n",
       "\n",
       "   DER (St.)  Operating Profit Margin (St.)  Sales Growth (St.)   Emitten  \\\n",
       "0  -1.285412                      -0.906479           -0.514349   BBCA.JK   \n",
       "1  -0.129583                      -0.950837           -0.555964   BBNI.JK   \n",
       "2  -0.015269                      -0.815311            2.070720   BBRI.JK   \n",
       "3  -0.556174                       0.521671           -0.725903   BDMN.JK   \n",
       "4  -0.018807                       0.359927            0.398405  BMRI.JK    \n",
       "5   2.005245                       1.791029           -0.672909   BTPN.JK   \n",
       "\n",
       "        DER  Operating Profit Margin  Return On Asset  Sales Growth  \n",
       "0  0.011285                 0.075566        25.581305    3433532000  \n",
       "1  0.388964                 0.067262         0.011296    2727385000  \n",
       "2  0.426317                 0.092633        18.512981   47298364000  \n",
       "3  0.249571                 0.342917         0.008183    -156243000  \n",
       "4  0.425161                 0.312639        16.242451   18921620000  \n",
       "5  1.086540                 0.580543         0.013885     742997000  "
      ]
     },
     "execution_count": 28,
     "metadata": {},
     "output_type": "execute_result"
    }
   ],
   "source": [
    "dftemp = pd.read_csv('../input/keuangan/Emittenlist vanno.csv')\n",
    "df = pd.concat([dftemp, new_df, df0], axis=1)\n",
    "df.head(6)"
   ]
  },
  {
   "cell_type": "code",
   "execution_count": 29,
   "id": "14fcb147",
   "metadata": {
    "execution": {
     "iopub.execute_input": "2022-04-17T13:13:17.695013Z",
     "iopub.status.busy": "2022-04-17T13:13:17.694486Z",
     "iopub.status.idle": "2022-04-17T13:13:17.702071Z",
     "shell.execute_reply": "2022-04-17T13:13:17.701038Z"
    },
    "papermill": {
     "duration": 0.072241,
     "end_time": "2022-04-17T13:13:17.704530",
     "exception": false,
     "start_time": "2022-04-17T13:13:17.632289",
     "status": "completed"
    },
    "tags": []
   },
   "outputs": [],
   "source": [
    "df.to_csv('result.csv', index = False)"
   ]
  },
  {
   "cell_type": "code",
   "execution_count": 30,
   "id": "0a235c2a",
   "metadata": {
    "execution": {
     "iopub.execute_input": "2022-04-17T13:13:17.829963Z",
     "iopub.status.busy": "2022-04-17T13:13:17.828964Z",
     "iopub.status.idle": "2022-04-17T13:13:17.835294Z",
     "shell.execute_reply": "2022-04-17T13:13:17.834578Z"
    },
    "papermill": {
     "duration": 0.071672,
     "end_time": "2022-04-17T13:13:17.837452",
     "exception": false,
     "start_time": "2022-04-17T13:13:17.765780",
     "status": "completed"
    },
    "tags": []
   },
   "outputs": [
    {
     "data": {
      "text/plain": [
       "array([[-0.40104898, -0.35820586,  0.13458178],\n",
       "       [ 2.00524488,  1.79102928, -0.67290888]])"
      ]
     },
     "execution_count": 30,
     "metadata": {},
     "output_type": "execute_result"
    }
   ],
   "source": [
    "kmeans.cluster_centers_"
   ]
  },
  {
   "cell_type": "code",
   "execution_count": 31,
   "id": "17257420",
   "metadata": {
    "execution": {
     "iopub.execute_input": "2022-04-17T13:13:17.963638Z",
     "iopub.status.busy": "2022-04-17T13:13:17.963102Z",
     "iopub.status.idle": "2022-04-17T13:13:18.227012Z",
     "shell.execute_reply": "2022-04-17T13:13:18.225926Z"
    },
    "papermill": {
     "duration": 0.329441,
     "end_time": "2022-04-17T13:13:18.229737",
     "exception": false,
     "start_time": "2022-04-17T13:13:17.900296",
     "status": "completed"
    },
    "tags": []
   },
   "outputs": [
    {
     "data": {
      "image/png": "[encoded data removed]",
      "text/plain": [
       "<Figure size 576x576 with 1 Axes>"
      ]
     },
     "metadata": {
      "needs_background": "light"
     },
     "output_type": "display_data"
    }
   ],
   "source": [
    "from mpl_toolkits.mplot3d import Axes3D\n",
    "\n",
    "fig = plt.figure()\n",
    "ax = fig.add_subplot(111, projection = '3d')\n",
    "x = [0.07796577,3.3825386,-0.19978728,-0.22183117,-0.32525515]\n",
    "y = [1.27721216,-0.22442569,-1.39490532,0.15549501,-0.03911061]\n",
    "z = [-0.22773712,0.35006475,-0.89274149,4.44060221,0.14030381]\n",
    "\n",
    "ax.set_xlabel(\"DER (St.)\")\n",
    "ax.set_ylabel(\"Operating Profit Margin (St.)\")\n",
    "ax.set_zlabel(\"Sales Growth (St.)\")\n",
    "ax.scatter(x, y, z)\n",
    "plt.show()"
   ]
  },
  {
   "cell_type": "code",
   "execution_count": 32,
   "id": "ee6264ea",
   "metadata": {
    "execution": {
     "iopub.execute_input": "2022-04-17T13:13:18.361219Z",
     "iopub.status.busy": "2022-04-17T13:13:18.360907Z",
     "iopub.status.idle": "2022-04-17T13:13:18.399248Z",
     "shell.execute_reply": "2022-04-17T13:13:18.398386Z"
    },
    "papermill": {
     "duration": 0.107072,
     "end_time": "2022-04-17T13:13:18.401250",
     "exception": false,
     "start_time": "2022-04-17T13:13:18.294178",
     "status": "completed"
    },
    "tags": []
   },
   "outputs": [
    {
     "data": {
      "text/html": [
       "<div>\n",
       "<style scoped>\n",
       "    .dataframe tbody tr th:only-of-type {\n",
       "        vertical-align: middle;\n",
       "    }\n",
       "\n",
       "    .dataframe tbody tr th {\n",
       "        vertical-align: top;\n",
       "    }\n",
       "\n",
       "    .dataframe thead th {\n",
       "        text-align: right;\n",
       "    }\n",
       "</style>\n",
       "<table border=\"1\" class=\"dataframe\">\n",
       "  <thead>\n",
       "    <tr style=\"text-align: right;\">\n",
       "      <th></th>\n",
       "      <th>Category</th>\n",
       "      <th>DER (St.)</th>\n",
       "      <th>Operating Profit Margin (St.)</th>\n",
       "      <th>Sales Growth (St.)</th>\n",
       "      <th>DER</th>\n",
       "      <th>Operating Profit Margin</th>\n",
       "      <th>Return On Asset</th>\n",
       "      <th>Sales Growth</th>\n",
       "    </tr>\n",
       "  </thead>\n",
       "  <tbody>\n",
       "    <tr>\n",
       "      <th>count</th>\n",
       "      <td>1.0</td>\n",
       "      <td>1.000000</td>\n",
       "      <td>1.000000</td>\n",
       "      <td>1.000000</td>\n",
       "      <td>1.00000</td>\n",
       "      <td>1.000000</td>\n",
       "      <td>1.000000</td>\n",
       "      <td>1.0</td>\n",
       "    </tr>\n",
       "    <tr>\n",
       "      <th>mean</th>\n",
       "      <td>4.0</td>\n",
       "      <td>2.005245</td>\n",
       "      <td>1.791029</td>\n",
       "      <td>-0.672909</td>\n",
       "      <td>1.08654</td>\n",
       "      <td>0.580543</td>\n",
       "      <td>0.013885</td>\n",
       "      <td>742997000.0</td>\n",
       "    </tr>\n",
       "    <tr>\n",
       "      <th>std</th>\n",
       "      <td>NaN</td>\n",
       "      <td>NaN</td>\n",
       "      <td>NaN</td>\n",
       "      <td>NaN</td>\n",
       "      <td>NaN</td>\n",
       "      <td>NaN</td>\n",
       "      <td>NaN</td>\n",
       "      <td>NaN</td>\n",
       "    </tr>\n",
       "    <tr>\n",
       "      <th>min</th>\n",
       "      <td>4.0</td>\n",
       "      <td>2.005245</td>\n",
       "      <td>1.791029</td>\n",
       "      <td>-0.672909</td>\n",
       "      <td>1.08654</td>\n",
       "      <td>0.580543</td>\n",
       "      <td>0.013885</td>\n",
       "      <td>742997000.0</td>\n",
       "    </tr>\n",
       "    <tr>\n",
       "      <th>25%</th>\n",
       "      <td>4.0</td>\n",
       "      <td>2.005245</td>\n",
       "      <td>1.791029</td>\n",
       "      <td>-0.672909</td>\n",
       "      <td>1.08654</td>\n",
       "      <td>0.580543</td>\n",
       "      <td>0.013885</td>\n",
       "      <td>742997000.0</td>\n",
       "    </tr>\n",
       "    <tr>\n",
       "      <th>50%</th>\n",
       "      <td>4.0</td>\n",
       "      <td>2.005245</td>\n",
       "      <td>1.791029</td>\n",
       "      <td>-0.672909</td>\n",
       "      <td>1.08654</td>\n",
       "      <td>0.580543</td>\n",
       "      <td>0.013885</td>\n",
       "      <td>742997000.0</td>\n",
       "    </tr>\n",
       "    <tr>\n",
       "      <th>75%</th>\n",
       "      <td>4.0</td>\n",
       "      <td>2.005245</td>\n",
       "      <td>1.791029</td>\n",
       "      <td>-0.672909</td>\n",
       "      <td>1.08654</td>\n",
       "      <td>0.580543</td>\n",
       "      <td>0.013885</td>\n",
       "      <td>742997000.0</td>\n",
       "    </tr>\n",
       "    <tr>\n",
       "      <th>max</th>\n",
       "      <td>4.0</td>\n",
       "      <td>2.005245</td>\n",
       "      <td>1.791029</td>\n",
       "      <td>-0.672909</td>\n",
       "      <td>1.08654</td>\n",
       "      <td>0.580543</td>\n",
       "      <td>0.013885</td>\n",
       "      <td>742997000.0</td>\n",
       "    </tr>\n",
       "  </tbody>\n",
       "</table>\n",
       "</div>"
      ],
      "text/plain": [
       "       Category  DER (St.)  Operating Profit Margin (St.)  Sales Growth (St.)  \\\n",
       "count       1.0   1.000000                       1.000000            1.000000   \n",
       "mean        4.0   2.005245                       1.791029           -0.672909   \n",
       "std         NaN        NaN                            NaN                 NaN   \n",
       "min         4.0   2.005245                       1.791029           -0.672909   \n",
       "25%         4.0   2.005245                       1.791029           -0.672909   \n",
       "50%         4.0   2.005245                       1.791029           -0.672909   \n",
       "75%         4.0   2.005245                       1.791029           -0.672909   \n",
       "max         4.0   2.005245                       1.791029           -0.672909   \n",
       "\n",
       "           DER  Operating Profit Margin  Return On Asset  Sales Growth  \n",
       "count  1.00000                 1.000000         1.000000           1.0  \n",
       "mean   1.08654                 0.580543         0.013885   742997000.0  \n",
       "std        NaN                      NaN              NaN           NaN  \n",
       "min    1.08654                 0.580543         0.013885   742997000.0  \n",
       "25%    1.08654                 0.580543         0.013885   742997000.0  \n",
       "50%    1.08654                 0.580543         0.013885   742997000.0  \n",
       "75%    1.08654                 0.580543         0.013885   742997000.0  \n",
       "max    1.08654                 0.580543         0.013885   742997000.0  "
      ]
     },
     "execution_count": 32,
     "metadata": {},
     "output_type": "execute_result"
    }
   ],
   "source": [
    "#Highly Positively Impacted\n",
    "df[df['Category'] == 4].describe() "
   ]
  },
  {
   "cell_type": "code",
   "execution_count": 33,
   "id": "7a8e2e8f",
   "metadata": {
    "execution": {
     "iopub.execute_input": "2022-04-17T13:13:18.532994Z",
     "iopub.status.busy": "2022-04-17T13:13:18.532493Z",
     "iopub.status.idle": "2022-04-17T13:13:18.568535Z",
     "shell.execute_reply": "2022-04-17T13:13:18.567776Z"
    },
    "papermill": {
     "duration": 0.103818,
     "end_time": "2022-04-17T13:13:18.570485",
     "exception": false,
     "start_time": "2022-04-17T13:13:18.466667",
     "status": "completed"
    },
    "tags": []
   },
   "outputs": [
    {
     "data": {
      "text/html": [
       "<div>\n",
       "<style scoped>\n",
       "    .dataframe tbody tr th:only-of-type {\n",
       "        vertical-align: middle;\n",
       "    }\n",
       "\n",
       "    .dataframe tbody tr th {\n",
       "        vertical-align: top;\n",
       "    }\n",
       "\n",
       "    .dataframe thead th {\n",
       "        text-align: right;\n",
       "    }\n",
       "</style>\n",
       "<table border=\"1\" class=\"dataframe\">\n",
       "  <thead>\n",
       "    <tr style=\"text-align: right;\">\n",
       "      <th></th>\n",
       "      <th>Category</th>\n",
       "      <th>DER (St.)</th>\n",
       "      <th>Operating Profit Margin (St.)</th>\n",
       "      <th>Sales Growth (St.)</th>\n",
       "      <th>DER</th>\n",
       "      <th>Operating Profit Margin</th>\n",
       "      <th>Return On Asset</th>\n",
       "      <th>Sales Growth</th>\n",
       "    </tr>\n",
       "  </thead>\n",
       "  <tbody>\n",
       "    <tr>\n",
       "      <th>count</th>\n",
       "      <td>0.0</td>\n",
       "      <td>0.0</td>\n",
       "      <td>0.0</td>\n",
       "      <td>0.0</td>\n",
       "      <td>0.0</td>\n",
       "      <td>0.0</td>\n",
       "      <td>0.0</td>\n",
       "      <td>0.0</td>\n",
       "    </tr>\n",
       "    <tr>\n",
       "      <th>mean</th>\n",
       "      <td>NaN</td>\n",
       "      <td>NaN</td>\n",
       "      <td>NaN</td>\n",
       "      <td>NaN</td>\n",
       "      <td>NaN</td>\n",
       "      <td>NaN</td>\n",
       "      <td>NaN</td>\n",
       "      <td>NaN</td>\n",
       "    </tr>\n",
       "    <tr>\n",
       "      <th>std</th>\n",
       "      <td>NaN</td>\n",
       "      <td>NaN</td>\n",
       "      <td>NaN</td>\n",
       "      <td>NaN</td>\n",
       "      <td>NaN</td>\n",
       "      <td>NaN</td>\n",
       "      <td>NaN</td>\n",
       "      <td>NaN</td>\n",
       "    </tr>\n",
       "    <tr>\n",
       "      <th>min</th>\n",
       "      <td>NaN</td>\n",
       "      <td>NaN</td>\n",
       "      <td>NaN</td>\n",
       "      <td>NaN</td>\n",
       "      <td>NaN</td>\n",
       "      <td>NaN</td>\n",
       "      <td>NaN</td>\n",
       "      <td>NaN</td>\n",
       "    </tr>\n",
       "    <tr>\n",
       "      <th>25%</th>\n",
       "      <td>NaN</td>\n",
       "      <td>NaN</td>\n",
       "      <td>NaN</td>\n",
       "      <td>NaN</td>\n",
       "      <td>NaN</td>\n",
       "      <td>NaN</td>\n",
       "      <td>NaN</td>\n",
       "      <td>NaN</td>\n",
       "    </tr>\n",
       "    <tr>\n",
       "      <th>50%</th>\n",
       "      <td>NaN</td>\n",
       "      <td>NaN</td>\n",
       "      <td>NaN</td>\n",
       "      <td>NaN</td>\n",
       "      <td>NaN</td>\n",
       "      <td>NaN</td>\n",
       "      <td>NaN</td>\n",
       "      <td>NaN</td>\n",
       "    </tr>\n",
       "    <tr>\n",
       "      <th>75%</th>\n",
       "      <td>NaN</td>\n",
       "      <td>NaN</td>\n",
       "      <td>NaN</td>\n",
       "      <td>NaN</td>\n",
       "      <td>NaN</td>\n",
       "      <td>NaN</td>\n",
       "      <td>NaN</td>\n",
       "      <td>NaN</td>\n",
       "    </tr>\n",
       "    <tr>\n",
       "      <th>max</th>\n",
       "      <td>NaN</td>\n",
       "      <td>NaN</td>\n",
       "      <td>NaN</td>\n",
       "      <td>NaN</td>\n",
       "      <td>NaN</td>\n",
       "      <td>NaN</td>\n",
       "      <td>NaN</td>\n",
       "      <td>NaN</td>\n",
       "    </tr>\n",
       "  </tbody>\n",
       "</table>\n",
       "</div>"
      ],
      "text/plain": [
       "       Category  DER (St.)  Operating Profit Margin (St.)  Sales Growth (St.)  \\\n",
       "count       0.0        0.0                            0.0                 0.0   \n",
       "mean        NaN        NaN                            NaN                 NaN   \n",
       "std         NaN        NaN                            NaN                 NaN   \n",
       "min         NaN        NaN                            NaN                 NaN   \n",
       "25%         NaN        NaN                            NaN                 NaN   \n",
       "50%         NaN        NaN                            NaN                 NaN   \n",
       "75%         NaN        NaN                            NaN                 NaN   \n",
       "max         NaN        NaN                            NaN                 NaN   \n",
       "\n",
       "       DER  Operating Profit Margin  Return On Asset  Sales Growth  \n",
       "count  0.0                      0.0              0.0           0.0  \n",
       "mean   NaN                      NaN              NaN           NaN  \n",
       "std    NaN                      NaN              NaN           NaN  \n",
       "min    NaN                      NaN              NaN           NaN  \n",
       "25%    NaN                      NaN              NaN           NaN  \n",
       "50%    NaN                      NaN              NaN           NaN  \n",
       "75%    NaN                      NaN              NaN           NaN  \n",
       "max    NaN                      NaN              NaN           NaN  "
      ]
     },
     "execution_count": 33,
     "metadata": {},
     "output_type": "execute_result"
    }
   ],
   "source": [
    "#Highly Positively Impacted\n",
    "df[df['Category'] == 3].describe() "
   ]
  },
  {
   "cell_type": "code",
   "execution_count": 34,
   "id": "c1f49aed",
   "metadata": {
    "execution": {
     "iopub.execute_input": "2022-04-17T13:13:18.702592Z",
     "iopub.status.busy": "2022-04-17T13:13:18.702077Z",
     "iopub.status.idle": "2022-04-17T13:13:18.740122Z",
     "shell.execute_reply": "2022-04-17T13:13:18.739242Z"
    },
    "papermill": {
     "duration": 0.107376,
     "end_time": "2022-04-17T13:13:18.743171",
     "exception": false,
     "start_time": "2022-04-17T13:13:18.635795",
     "status": "completed"
    },
    "tags": []
   },
   "outputs": [
    {
     "data": {
      "text/html": [
       "<div>\n",
       "<style scoped>\n",
       "    .dataframe tbody tr th:only-of-type {\n",
       "        vertical-align: middle;\n",
       "    }\n",
       "\n",
       "    .dataframe tbody tr th {\n",
       "        vertical-align: top;\n",
       "    }\n",
       "\n",
       "    .dataframe thead th {\n",
       "        text-align: right;\n",
       "    }\n",
       "</style>\n",
       "<table border=\"1\" class=\"dataframe\">\n",
       "  <thead>\n",
       "    <tr style=\"text-align: right;\">\n",
       "      <th></th>\n",
       "      <th>Category</th>\n",
       "      <th>DER (St.)</th>\n",
       "      <th>Operating Profit Margin (St.)</th>\n",
       "      <th>Sales Growth (St.)</th>\n",
       "      <th>DER</th>\n",
       "      <th>Operating Profit Margin</th>\n",
       "      <th>Return On Asset</th>\n",
       "      <th>Sales Growth</th>\n",
       "    </tr>\n",
       "  </thead>\n",
       "  <tbody>\n",
       "    <tr>\n",
       "      <th>count</th>\n",
       "      <td>5.0</td>\n",
       "      <td>5.000000</td>\n",
       "      <td>5.000000</td>\n",
       "      <td>5.000000</td>\n",
       "      <td>5.000000</td>\n",
       "      <td>5.000000</td>\n",
       "      <td>5.000000</td>\n",
       "      <td>5.000000e+00</td>\n",
       "    </tr>\n",
       "    <tr>\n",
       "      <th>mean</th>\n",
       "      <td>2.0</td>\n",
       "      <td>-0.401049</td>\n",
       "      <td>-0.358206</td>\n",
       "      <td>0.134582</td>\n",
       "      <td>0.300260</td>\n",
       "      <td>0.178203</td>\n",
       "      <td>12.071243</td>\n",
       "      <td>1.444493e+10</td>\n",
       "    </tr>\n",
       "    <tr>\n",
       "      <th>std</th>\n",
       "      <td>0.0</td>\n",
       "      <td>0.541939</td>\n",
       "      <td>0.733256</td>\n",
       "      <td>1.167972</td>\n",
       "      <td>0.177084</td>\n",
       "      <td>0.137266</td>\n",
       "      <td>11.536643</td>\n",
       "      <td>1.981877e+10</td>\n",
       "    </tr>\n",
       "    <tr>\n",
       "      <th>min</th>\n",
       "      <td>2.0</td>\n",
       "      <td>-1.285412</td>\n",
       "      <td>-0.950837</td>\n",
       "      <td>-0.725903</td>\n",
       "      <td>0.011285</td>\n",
       "      <td>0.067262</td>\n",
       "      <td>0.008183</td>\n",
       "      <td>-1.562430e+08</td>\n",
       "    </tr>\n",
       "    <tr>\n",
       "      <th>25%</th>\n",
       "      <td>2.0</td>\n",
       "      <td>-0.556174</td>\n",
       "      <td>-0.906479</td>\n",
       "      <td>-0.555964</td>\n",
       "      <td>0.249571</td>\n",
       "      <td>0.075566</td>\n",
       "      <td>0.011296</td>\n",
       "      <td>2.727385e+09</td>\n",
       "    </tr>\n",
       "    <tr>\n",
       "      <th>50%</th>\n",
       "      <td>2.0</td>\n",
       "      <td>-0.129583</td>\n",
       "      <td>-0.815311</td>\n",
       "      <td>-0.514349</td>\n",
       "      <td>0.388964</td>\n",
       "      <td>0.092633</td>\n",
       "      <td>16.242451</td>\n",
       "      <td>3.433532e+09</td>\n",
       "    </tr>\n",
       "    <tr>\n",
       "      <th>75%</th>\n",
       "      <td>2.0</td>\n",
       "      <td>-0.018807</td>\n",
       "      <td>0.359927</td>\n",
       "      <td>0.398405</td>\n",
       "      <td>0.425161</td>\n",
       "      <td>0.312639</td>\n",
       "      <td>18.512981</td>\n",
       "      <td>1.892162e+10</td>\n",
       "    </tr>\n",
       "    <tr>\n",
       "      <th>max</th>\n",
       "      <td>2.0</td>\n",
       "      <td>-0.015269</td>\n",
       "      <td>0.521671</td>\n",
       "      <td>2.070720</td>\n",
       "      <td>0.426317</td>\n",
       "      <td>0.342917</td>\n",
       "      <td>25.581305</td>\n",
       "      <td>4.729836e+10</td>\n",
       "    </tr>\n",
       "  </tbody>\n",
       "</table>\n",
       "</div>"
      ],
      "text/plain": [
       "       Category  DER (St.)  Operating Profit Margin (St.)  Sales Growth (St.)  \\\n",
       "count       5.0   5.000000                       5.000000            5.000000   \n",
       "mean        2.0  -0.401049                      -0.358206            0.134582   \n",
       "std         0.0   0.541939                       0.733256            1.167972   \n",
       "min         2.0  -1.285412                      -0.950837           -0.725903   \n",
       "25%         2.0  -0.556174                      -0.906479           -0.555964   \n",
       "50%         2.0  -0.129583                      -0.815311           -0.514349   \n",
       "75%         2.0  -0.018807                       0.359927            0.398405   \n",
       "max         2.0  -0.015269                       0.521671            2.070720   \n",
       "\n",
       "            DER  Operating Profit Margin  Return On Asset  Sales Growth  \n",
       "count  5.000000                 5.000000         5.000000  5.000000e+00  \n",
       "mean   0.300260                 0.178203        12.071243  1.444493e+10  \n",
       "std    0.177084                 0.137266        11.536643  1.981877e+10  \n",
       "min    0.011285                 0.067262         0.008183 -1.562430e+08  \n",
       "25%    0.249571                 0.075566         0.011296  2.727385e+09  \n",
       "50%    0.388964                 0.092633        16.242451  3.433532e+09  \n",
       "75%    0.425161                 0.312639        18.512981  1.892162e+10  \n",
       "max    0.426317                 0.342917        25.581305  4.729836e+10  "
      ]
     },
     "execution_count": 34,
     "metadata": {},
     "output_type": "execute_result"
    }
   ],
   "source": [
    "#Highly Positively Impacted\n",
    "df[df['Category'] == 2].describe() "
   ]
  },
  {
   "cell_type": "code",
   "execution_count": 35,
   "id": "5995b515",
   "metadata": {
    "execution": {
     "iopub.execute_input": "2022-04-17T13:13:18.878229Z",
     "iopub.status.busy": "2022-04-17T13:13:18.877727Z",
     "iopub.status.idle": "2022-04-17T13:13:18.913302Z",
     "shell.execute_reply": "2022-04-17T13:13:18.912613Z"
    },
    "papermill": {
     "duration": 0.106108,
     "end_time": "2022-04-17T13:13:18.915513",
     "exception": false,
     "start_time": "2022-04-17T13:13:18.809405",
     "status": "completed"
    },
    "tags": []
   },
   "outputs": [
    {
     "data": {
      "text/html": [
       "<div>\n",
       "<style scoped>\n",
       "    .dataframe tbody tr th:only-of-type {\n",
       "        vertical-align: middle;\n",
       "    }\n",
       "\n",
       "    .dataframe tbody tr th {\n",
       "        vertical-align: top;\n",
       "    }\n",
       "\n",
       "    .dataframe thead th {\n",
       "        text-align: right;\n",
       "    }\n",
       "</style>\n",
       "<table border=\"1\" class=\"dataframe\">\n",
       "  <thead>\n",
       "    <tr style=\"text-align: right;\">\n",
       "      <th></th>\n",
       "      <th>Category</th>\n",
       "      <th>DER (St.)</th>\n",
       "      <th>Operating Profit Margin (St.)</th>\n",
       "      <th>Sales Growth (St.)</th>\n",
       "      <th>DER</th>\n",
       "      <th>Operating Profit Margin</th>\n",
       "      <th>Return On Asset</th>\n",
       "      <th>Sales Growth</th>\n",
       "    </tr>\n",
       "  </thead>\n",
       "  <tbody>\n",
       "    <tr>\n",
       "      <th>count</th>\n",
       "      <td>0.0</td>\n",
       "      <td>0.0</td>\n",
       "      <td>0.0</td>\n",
       "      <td>0.0</td>\n",
       "      <td>0.0</td>\n",
       "      <td>0.0</td>\n",
       "      <td>0.0</td>\n",
       "      <td>0.0</td>\n",
       "    </tr>\n",
       "    <tr>\n",
       "      <th>mean</th>\n",
       "      <td>NaN</td>\n",
       "      <td>NaN</td>\n",
       "      <td>NaN</td>\n",
       "      <td>NaN</td>\n",
       "      <td>NaN</td>\n",
       "      <td>NaN</td>\n",
       "      <td>NaN</td>\n",
       "      <td>NaN</td>\n",
       "    </tr>\n",
       "    <tr>\n",
       "      <th>std</th>\n",
       "      <td>NaN</td>\n",
       "      <td>NaN</td>\n",
       "      <td>NaN</td>\n",
       "      <td>NaN</td>\n",
       "      <td>NaN</td>\n",
       "      <td>NaN</td>\n",
       "      <td>NaN</td>\n",
       "      <td>NaN</td>\n",
       "    </tr>\n",
       "    <tr>\n",
       "      <th>min</th>\n",
       "      <td>NaN</td>\n",
       "      <td>NaN</td>\n",
       "      <td>NaN</td>\n",
       "      <td>NaN</td>\n",
       "      <td>NaN</td>\n",
       "      <td>NaN</td>\n",
       "      <td>NaN</td>\n",
       "      <td>NaN</td>\n",
       "    </tr>\n",
       "    <tr>\n",
       "      <th>25%</th>\n",
       "      <td>NaN</td>\n",
       "      <td>NaN</td>\n",
       "      <td>NaN</td>\n",
       "      <td>NaN</td>\n",
       "      <td>NaN</td>\n",
       "      <td>NaN</td>\n",
       "      <td>NaN</td>\n",
       "      <td>NaN</td>\n",
       "    </tr>\n",
       "    <tr>\n",
       "      <th>50%</th>\n",
       "      <td>NaN</td>\n",
       "      <td>NaN</td>\n",
       "      <td>NaN</td>\n",
       "      <td>NaN</td>\n",
       "      <td>NaN</td>\n",
       "      <td>NaN</td>\n",
       "      <td>NaN</td>\n",
       "      <td>NaN</td>\n",
       "    </tr>\n",
       "    <tr>\n",
       "      <th>75%</th>\n",
       "      <td>NaN</td>\n",
       "      <td>NaN</td>\n",
       "      <td>NaN</td>\n",
       "      <td>NaN</td>\n",
       "      <td>NaN</td>\n",
       "      <td>NaN</td>\n",
       "      <td>NaN</td>\n",
       "      <td>NaN</td>\n",
       "    </tr>\n",
       "    <tr>\n",
       "      <th>max</th>\n",
       "      <td>NaN</td>\n",
       "      <td>NaN</td>\n",
       "      <td>NaN</td>\n",
       "      <td>NaN</td>\n",
       "      <td>NaN</td>\n",
       "      <td>NaN</td>\n",
       "      <td>NaN</td>\n",
       "      <td>NaN</td>\n",
       "    </tr>\n",
       "  </tbody>\n",
       "</table>\n",
       "</div>"
      ],
      "text/plain": [
       "       Category  DER (St.)  Operating Profit Margin (St.)  Sales Growth (St.)  \\\n",
       "count       0.0        0.0                            0.0                 0.0   \n",
       "mean        NaN        NaN                            NaN                 NaN   \n",
       "std         NaN        NaN                            NaN                 NaN   \n",
       "min         NaN        NaN                            NaN                 NaN   \n",
       "25%         NaN        NaN                            NaN                 NaN   \n",
       "50%         NaN        NaN                            NaN                 NaN   \n",
       "75%         NaN        NaN                            NaN                 NaN   \n",
       "max         NaN        NaN                            NaN                 NaN   \n",
       "\n",
       "       DER  Operating Profit Margin  Return On Asset  Sales Growth  \n",
       "count  0.0                      0.0              0.0           0.0  \n",
       "mean   NaN                      NaN              NaN           NaN  \n",
       "std    NaN                      NaN              NaN           NaN  \n",
       "min    NaN                      NaN              NaN           NaN  \n",
       "25%    NaN                      NaN              NaN           NaN  \n",
       "50%    NaN                      NaN              NaN           NaN  \n",
       "75%    NaN                      NaN              NaN           NaN  \n",
       "max    NaN                      NaN              NaN           NaN  "
      ]
     },
     "execution_count": 35,
     "metadata": {},
     "output_type": "execute_result"
    }
   ],
   "source": [
    "#Highly Positively Impacted\n",
    "df[df['Category'] == 1].describe() "
   ]
  },
  {
   "cell_type": "code",
   "execution_count": 36,
   "id": "a9a3ab8a",
   "metadata": {
    "execution": {
     "iopub.execute_input": "2022-04-17T13:13:19.049282Z",
     "iopub.status.busy": "2022-04-17T13:13:19.048744Z",
     "iopub.status.idle": "2022-04-17T13:13:19.085398Z",
     "shell.execute_reply": "2022-04-17T13:13:19.084649Z"
    },
    "papermill": {
     "duration": 0.105686,
     "end_time": "2022-04-17T13:13:19.087339",
     "exception": false,
     "start_time": "2022-04-17T13:13:18.981653",
     "status": "completed"
    },
    "tags": []
   },
   "outputs": [
    {
     "data": {
      "text/html": [
       "<div>\n",
       "<style scoped>\n",
       "    .dataframe tbody tr th:only-of-type {\n",
       "        vertical-align: middle;\n",
       "    }\n",
       "\n",
       "    .dataframe tbody tr th {\n",
       "        vertical-align: top;\n",
       "    }\n",
       "\n",
       "    .dataframe thead th {\n",
       "        text-align: right;\n",
       "    }\n",
       "</style>\n",
       "<table border=\"1\" class=\"dataframe\">\n",
       "  <thead>\n",
       "    <tr style=\"text-align: right;\">\n",
       "      <th></th>\n",
       "      <th>Category</th>\n",
       "      <th>DER (St.)</th>\n",
       "      <th>Operating Profit Margin (St.)</th>\n",
       "      <th>Sales Growth (St.)</th>\n",
       "      <th>DER</th>\n",
       "      <th>Operating Profit Margin</th>\n",
       "      <th>Return On Asset</th>\n",
       "      <th>Sales Growth</th>\n",
       "    </tr>\n",
       "  </thead>\n",
       "  <tbody>\n",
       "    <tr>\n",
       "      <th>count</th>\n",
       "      <td>0.0</td>\n",
       "      <td>0.0</td>\n",
       "      <td>0.0</td>\n",
       "      <td>0.0</td>\n",
       "      <td>0.0</td>\n",
       "      <td>0.0</td>\n",
       "      <td>0.0</td>\n",
       "      <td>0.0</td>\n",
       "    </tr>\n",
       "    <tr>\n",
       "      <th>mean</th>\n",
       "      <td>NaN</td>\n",
       "      <td>NaN</td>\n",
       "      <td>NaN</td>\n",
       "      <td>NaN</td>\n",
       "      <td>NaN</td>\n",
       "      <td>NaN</td>\n",
       "      <td>NaN</td>\n",
       "      <td>NaN</td>\n",
       "    </tr>\n",
       "    <tr>\n",
       "      <th>std</th>\n",
       "      <td>NaN</td>\n",
       "      <td>NaN</td>\n",
       "      <td>NaN</td>\n",
       "      <td>NaN</td>\n",
       "      <td>NaN</td>\n",
       "      <td>NaN</td>\n",
       "      <td>NaN</td>\n",
       "      <td>NaN</td>\n",
       "    </tr>\n",
       "    <tr>\n",
       "      <th>min</th>\n",
       "      <td>NaN</td>\n",
       "      <td>NaN</td>\n",
       "      <td>NaN</td>\n",
       "      <td>NaN</td>\n",
       "      <td>NaN</td>\n",
       "      <td>NaN</td>\n",
       "      <td>NaN</td>\n",
       "      <td>NaN</td>\n",
       "    </tr>\n",
       "    <tr>\n",
       "      <th>25%</th>\n",
       "      <td>NaN</td>\n",
       "      <td>NaN</td>\n",
       "      <td>NaN</td>\n",
       "      <td>NaN</td>\n",
       "      <td>NaN</td>\n",
       "      <td>NaN</td>\n",
       "      <td>NaN</td>\n",
       "      <td>NaN</td>\n",
       "    </tr>\n",
       "    <tr>\n",
       "      <th>50%</th>\n",
       "      <td>NaN</td>\n",
       "      <td>NaN</td>\n",
       "      <td>NaN</td>\n",
       "      <td>NaN</td>\n",
       "      <td>NaN</td>\n",
       "      <td>NaN</td>\n",
       "      <td>NaN</td>\n",
       "      <td>NaN</td>\n",
       "    </tr>\n",
       "    <tr>\n",
       "      <th>75%</th>\n",
       "      <td>NaN</td>\n",
       "      <td>NaN</td>\n",
       "      <td>NaN</td>\n",
       "      <td>NaN</td>\n",
       "      <td>NaN</td>\n",
       "      <td>NaN</td>\n",
       "      <td>NaN</td>\n",
       "      <td>NaN</td>\n",
       "    </tr>\n",
       "    <tr>\n",
       "      <th>max</th>\n",
       "      <td>NaN</td>\n",
       "      <td>NaN</td>\n",
       "      <td>NaN</td>\n",
       "      <td>NaN</td>\n",
       "      <td>NaN</td>\n",
       "      <td>NaN</td>\n",
       "      <td>NaN</td>\n",
       "      <td>NaN</td>\n",
       "    </tr>\n",
       "  </tbody>\n",
       "</table>\n",
       "</div>"
      ],
      "text/plain": [
       "       Category  DER (St.)  Operating Profit Margin (St.)  Sales Growth (St.)  \\\n",
       "count       0.0        0.0                            0.0                 0.0   \n",
       "mean        NaN        NaN                            NaN                 NaN   \n",
       "std         NaN        NaN                            NaN                 NaN   \n",
       "min         NaN        NaN                            NaN                 NaN   \n",
       "25%         NaN        NaN                            NaN                 NaN   \n",
       "50%         NaN        NaN                            NaN                 NaN   \n",
       "75%         NaN        NaN                            NaN                 NaN   \n",
       "max         NaN        NaN                            NaN                 NaN   \n",
       "\n",
       "       DER  Operating Profit Margin  Return On Asset  Sales Growth  \n",
       "count  0.0                      0.0              0.0           0.0  \n",
       "mean   NaN                      NaN              NaN           NaN  \n",
       "std    NaN                      NaN              NaN           NaN  \n",
       "min    NaN                      NaN              NaN           NaN  \n",
       "25%    NaN                      NaN              NaN           NaN  \n",
       "50%    NaN                      NaN              NaN           NaN  \n",
       "75%    NaN                      NaN              NaN           NaN  \n",
       "max    NaN                      NaN              NaN           NaN  "
      ]
     },
     "execution_count": 36,
     "metadata": {},
     "output_type": "execute_result"
    }
   ],
   "source": [
    "#Highly Positively Impacted\n",
    "df[df['Category'] == 0].describe() "
   ]
  },
  {
   "cell_type": "code",
   "execution_count": null,
   "id": "f28f91ec",
   "metadata": {
    "papermill": {
     "duration": 0.066785,
     "end_time": "2022-04-17T13:13:19.221485",
     "exception": false,
     "start_time": "2022-04-17T13:13:19.154700",
     "status": "completed"
    },
    "tags": []
   },
   "outputs": [],
   "source": []
  }
 ],
 "metadata": {
  "kernelspec": {
   "display_name": "Python 3",
   "language": "python",
   "name": "python3"
  },
  "language_info": {
   "codemirror_mode": {
    "name": "ipython",
    "version": 3
   },
   "file_extension": ".py",
   "mimetype": "text/x-python",
   "name": "python",
   "nbconvert_exporter": "python",
   "pygments_lexer": "ipython3",
   "version": "3.7.12"
  },
  "papermill": {
   "default_parameters": {},
   "duration": 21.819464,
   "end_time": "2022-04-17T13:13:20.115126",
   "environment_variables": {},
   "exception": null,
   "input_path": "__notebook__.ipynb",
   "output_path": "__notebook__.ipynb",
   "parameters": {},
   "start_time": "2022-04-17T13:12:58.295662",
   "version": "2.3.4"
  }
 },
 "nbformat": 4,
 "nbformat_minor": 5
}
